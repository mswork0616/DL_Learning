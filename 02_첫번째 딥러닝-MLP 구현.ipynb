{
 "cells": [
  {
   "cell_type": "markdown",
   "metadata": {},
   "source": [
    "MLP (Multi Layer Perceptron) : 가장 기본적인 딥러닝 모델의 구조"
   ]
  },
  {
   "cell_type": "markdown",
   "metadata": {
    "slideshow": {
     "slide_type": "slide"
    }
   },
   "source": [
    "# Keras 개발 Process"
   ]
  },
  {
   "cell_type": "markdown",
   "metadata": {
    "slideshow": {
     "slide_type": "fragment"
    }
   },
   "source": [
    "1. 입력 텐서(X)와 출력 텐서(y)로 이뤄진 **훈련 데이터를 정의**"
   ]
  },
  {
   "cell_type": "markdown",
   "metadata": {
    "slideshow": {
     "slide_type": "fragment"
    }
   },
   "source": [
    "2. 입력과 출력을 연결하는 Layer(층)으로 이뤄진 **네트워크(모델) 구조를 정의**\n",
    "    - Sequential 방식 : 순서대로 쌓아올린 네트워크로 이뤄진 모델을 생성하는 방식\n",
    "    - Functional API 방식 : 다양한 구조의 네트워크로 이뤄진 모델을 생성하는 방식\n",
    "    - Subclass 방식 : 네트워크를 정의하는 클래스를 구현\n",
    "    "
   ]
  },
  {
   "cell_type": "markdown",
   "metadata": {
    "slideshow": {
     "slide_type": "fragment"
    }
   },
   "source": [
    "3. **모델 Compile(컴파일)** - 모델을 학습 가능한 상태로 만듬\n",
    "    - 모델이 Train(학습) 시 사용할 손실함수(Loss Function), 최적화기법(Optimizer), 학습과정을 모니터링할 평가지표(Metrics)를 설정\n",
    "    \n",
    "    > Compile: 실행할 수 있는 상태로 만들어 주는 것"
   ]
  },
  {
   "cell_type": "markdown",
   "metadata": {
    "slideshow": {
     "slide_type": "fragment"
    }
   },
   "source": [
    "4. **Training(학습/훈련)**\n",
    "    - Train dataset을 이용해 모델을 Train"
   ]
  },
  {
   "cell_type": "markdown",
   "metadata": {
    "slideshow": {
     "slide_type": "slide"
    }
   },
   "source": [
    "# MNIST 이미지 분류 \n",
    "- ### [MNIST](https://ko.wikipedia.org/wiki/MNIST_%EB%8D%B0%EC%9D%B4%ED%84%B0%EB%B2%A0%EC%9D%B4%EC%8A%A4)(Modified National Institute of Standards and Technology) database\n",
    "- 흑백 손글씨 숫자 0-9까지 10개의 범주로 구분해놓은 데이터셋\n",
    "- 하나의 이미지는 28 * 28 pixel 의 크기\n",
    "- 6만개의 Train 이미지와 1만개의 Test 이미지로 구성"
   ]
  },
  {
   "cell_type": "markdown",
   "metadata": {},
   "source": [
    "##### import"
   ]
  },
  {
   "cell_type": "code",
   "execution_count": 1,
   "metadata": {
    "ExecuteTime": {
     "end_time": "2021-11-05T05:52:08.827346Z",
     "start_time": "2021-11-05T05:52:06.673462Z"
    },
    "slideshow": {
     "slide_type": "slide"
    }
   },
   "outputs": [],
   "source": [
    "import numpy as np\n",
    "import tensorflow as tf # 별칭 : tf\n",
    "from tensorflow import keras"
   ]
  },
  {
   "cell_type": "markdown",
   "metadata": {
    "ExecuteTime": {
     "end_time": "2021-08-30T05:02:52.852140Z",
     "start_time": "2021-08-30T05:02:52.563117Z"
    },
    "slideshow": {
     "slide_type": "slide"
    }
   },
   "source": [
    "##### MNIST dataset Loading"
   ]
  },
  {
   "cell_type": "code",
   "execution_count": 2,
   "metadata": {
    "ExecuteTime": {
     "end_time": "2021-11-05T05:52:09.483696Z",
     "start_time": "2021-11-05T05:52:08.827346Z"
    },
    "scrolled": true,
    "slideshow": {
     "slide_type": "fragment"
    }
   },
   "outputs": [],
   "source": [
    "(train_image, train_label), (test_image, test_label) = keras.datasets.mnist.load_data()"
   ]
  },
  {
   "cell_type": "code",
   "execution_count": 3,
   "metadata": {
    "ExecuteTime": {
     "end_time": "2021-11-05T05:52:09.498650Z",
     "start_time": "2021-11-05T05:52:09.484659Z"
    },
    "slideshow": {
     "slide_type": "fragment"
    }
   },
   "outputs": [
    {
     "name": "stdout",
     "output_type": "stream",
     "text": [
      "(60000, 28, 28) (10000, 28, 28)\n"
     ]
    }
   ],
   "source": [
    "print(train_image.shape, test_image.shape) # input data의 shape : (데이터 개수, 특성의 형태) -> (데이터개수, height, width)"
   ]
  },
  {
   "cell_type": "code",
   "execution_count": 4,
   "metadata": {
    "ExecuteTime": {
     "end_time": "2021-11-05T05:52:09.514650Z",
     "start_time": "2021-11-05T05:52:09.500651Z"
    },
    "slideshow": {
     "slide_type": "fragment"
    }
   },
   "outputs": [
    {
     "name": "stdout",
     "output_type": "stream",
     "text": [
      "(60000,) (10000,)\n"
     ]
    }
   ],
   "source": [
    "print(train_label.shape, test_label.shape)"
   ]
  },
  {
   "cell_type": "code",
   "execution_count": 5,
   "metadata": {
    "ExecuteTime": {
     "end_time": "2021-11-05T05:52:52.248805Z",
     "start_time": "2021-11-05T05:52:51.881613Z"
    },
    "slideshow": {
     "slide_type": "slide"
    }
   },
   "outputs": [
    {
     "data": {
      "image/png": "[encoded data removed]",
      "text/plain": [
       "<Figure size 1080x360 with 10 Axes>"
      ]
     },
     "metadata": {
      "needs_background": "light"
     },
     "output_type": "display_data"
    }
   ],
   "source": [
    "import matplotlib.pyplot as plt\n",
    "plt.figure(figsize=(15, 5))\n",
    "\n",
    "# 10장의 이미지와 label 확인\n",
    "N = 10\n",
    "for i in range(N):\n",
    "    plt.subplot(2, int(N/2), i+1)\n",
    "    plt.imshow(train_image[i], cmap='gray') # train_image의 i번째 이미지를 출력 - grayscale의 경우 cmap을 gray로 지정\n",
    "    plt.title(str(train_label[i]), fontsize=20) # subplot(axes) 제목을 label로 설정\n",
    "    plt.axis('off') # 축은 그리지 않도록 설정\n",
    "    \n",
    "plt.tight_layout()\n",
    "plt.show()    "
   ]
  },
  {
   "cell_type": "markdown",
   "metadata": {
    "slideshow": {
     "slide_type": "slide"
    }
   },
   "source": [
    "## 네트워크(모델) 구현\n",
    "- Network : 전체 모델 구조"
   ]
  },
  {
   "cell_type": "code",
   "execution_count": 6,
   "metadata": {
    "ExecuteTime": {
     "end_time": "2021-11-01T02:50:13.208858Z",
     "start_time": "2021-11-01T02:50:13.143861Z"
    },
    "slideshow": {
     "slide_type": "fragment"
    }
   },
   "outputs": [],
   "source": [
    "# Sequential(순차) 방식으로 모델 생성\n",
    "model = keras.Sequential()\n",
    "\n",
    "# 모델에 layer들을 추가 - model.add(레이어 객체)\n",
    "# Layer - 모델이 추론하는 각각의 단계을 의미 => Input(학습/추론 할 데이터를 넣는 단계), Hidden(추론과정 담당), Output(추론결과 출력) Layer로 구성\n",
    "# 1. Input Layer 추가\n",
    "model.add(keras.layers.InputLayer((28,28))) \n",
    "\n",
    "# 2. Hidden Layer들 추가\n",
    "model.add(keras.layers.Flatten())  \n",
    "\n",
    "model.add(keras.layers.Dense(256, activation='relu'))\n",
    "model.add(keras.layers.Dense(128, activation='relu'))\n",
    "\n",
    "# 3. Output Layer 추가\n",
    "model.add(keras.layers.Dense(10, activation='softmax'))"
   ]
  },
  {
   "cell_type": "code",
   "execution_count": 7,
   "metadata": {
    "ExecuteTime": {
     "end_time": "2021-11-01T02:50:14.795234Z",
     "start_time": "2021-11-01T02:50:14.783202Z"
    },
    "slideshow": {
     "slide_type": "fragment"
    }
   },
   "outputs": [
    {
     "name": "stdout",
     "output_type": "stream",
     "text": [
      "Model: \"sequential\"\n",
      "_________________________________________________________________\n",
      " Layer (type)                Output Shape              Param #   \n",
      "=================================================================\n",
      " flatten (Flatten)           (None, 784)               0         \n",
      "                                                                 \n",
      " dense (Dense)               (None, 256)               200960    \n",
      "                                                                 \n",
      " dense_1 (Dense)             (None, 128)               32896     \n",
      "                                                                 \n",
      " dense_2 (Dense)             (None, 10)                1290      \n",
      "                                                                 \n",
      "=================================================================\n",
      "Total params: 235,146\n",
      "Trainable params: 235,146\n",
      "Non-trainable params: 0\n",
      "_________________________________________________________________\n"
     ]
    }
   ],
   "source": [
    "# 모델 구조 확인(text 형식)\n",
    "model.summary() "
   ]
  },
  {
   "cell_type": "code",
   "execution_count": 8,
   "metadata": {
    "ExecuteTime": {
     "end_time": "2021-11-01T02:50:22.469235Z",
     "start_time": "2021-11-01T02:50:21.998852Z"
    },
    "slideshow": {
     "slide_type": "fragment"
    }
   },
   "outputs": [
    {
     "data": {
      "image/png": "[encoded data removed]",
      "text/plain": [
       "<IPython.core.display.Image object>"
      ]
     },
     "execution_count": 8,
     "metadata": {},
     "output_type": "execute_result"
    }
   ],
   "source": [
    "# 모델 구조 확인(graphviz를 통한 시각화)\n",
    "from tensorflow.keras.utils import plot_model\n",
    "plot_model(model, to_file='model_shapes.png', show_shapes=True)"
   ]
  },
  {
   "cell_type": "markdown",
   "metadata": {
    "slideshow": {
     "slide_type": "slide"
    }
   },
   "source": [
    "## 컴파일 단계\n",
    "- 정의된 네트워크 모델에 학습을 위한 추가 설정\n",
    "    - Optimizer\n",
    "    - 손실함수\n",
    "    - 평가지표"
   ]
  },
  {
   "cell_type": "code",
   "execution_count": 9,
   "metadata": {
    "ExecuteTime": {
     "end_time": "2021-11-01T03:14:33.954084Z",
     "start_time": "2021-11-01T03:14:33.929120Z"
    },
    "slideshow": {
     "slide_type": "fragment"
    }
   },
   "outputs": [],
   "source": [
    "model.compile(optimizer='adam', # 최적화 함수 : Adam 함수\n",
    "              loss='categorical_crossentropy', # cross entropy\n",
    "              metrics=['accuracy']) # 추가 평가지표 - 정확도"
   ]
  },
  {
   "cell_type": "markdown",
   "metadata": {
    "slideshow": {
     "slide_type": "slide"
    }
   },
   "source": [
    "## 데이터 준비\n",
    "- X (Input Data Image)\n",
    "    - 0 ~ 1 사이의 값으로 정규화 (0 ~ 255 -> 0 ~ 1 : Feature Scaling)\n",
    "- y (Output Data) : 0 ~ 9\n",
    "    - one hot encoding 처리\n",
    "        - Label이 다중분류(Multi class classification)일 경우 One Hot Encoding\n",
    "    - Keras의 onehot encoding 처리 함수\n",
    "        - tensorflow.keras.utils.to_categorical()"
   ]
  },
  {
   "cell_type": "code",
   "execution_count": 10,
   "metadata": {
    "ExecuteTime": {
     "end_time": "2021-11-01T02:50:52.997561Z",
     "start_time": "2021-11-01T02:50:52.902800Z"
    },
    "slideshow": {
     "slide_type": "fragment"
    }
   },
   "outputs": [
    {
     "name": "stdout",
     "output_type": "stream",
     "text": [
      "0, 255, uint8\n"
     ]
    }
   ],
   "source": [
    "print(np.min(train_image), np.max(train_image), train_image.dtype, sep=', ')\n",
    "# uint8 : unsigned int - 8bit"
   ]
  },
  {
   "cell_type": "markdown",
   "metadata": {
    "ExecuteTime": {
     "end_time": "2021-08-30T05:07:46.170159Z",
     "start_time": "2021-08-30T05:07:45.800170Z"
    },
    "slideshow": {
     "slide_type": "fragment"
    }
   },
   "source": [
    "##### input image(X)를 정규화. \n",
    "- 이미지를 0 ~ 1 로 정규화 하고 타입을 float32로 변환"
   ]
  },
  {
   "cell_type": "code",
   "execution_count": 11,
   "metadata": {
    "ExecuteTime": {
     "end_time": "2021-11-01T02:50:53.531227Z",
     "start_time": "2021-11-01T02:50:53.231410Z"
    },
    "slideshow": {
     "slide_type": "fragment"
    }
   },
   "outputs": [],
   "source": [
    "X_train = train_image.astype(np.float32) # type 변환 : uint8 -> float32\n",
    "X_train /= 255.0 # X_train = X_train/255.0 # X_train이 가지는 제일 큰 값(max)인 255로 나누에 0 ~ 1로 정규화\n",
    "\n",
    "X_test = test_image.astype(np.float32)\n",
    "X_test /= 255.0"
   ]
  },
  {
   "cell_type": "code",
   "execution_count": 12,
   "metadata": {
    "ExecuteTime": {
     "end_time": "2021-11-01T02:50:53.561192Z",
     "start_time": "2021-11-01T02:50:53.531227Z"
    },
    "slideshow": {
     "slide_type": "fragment"
    }
   },
   "outputs": [
    {
     "name": "stdout",
     "output_type": "stream",
     "text": [
      "0.0, 1.0, float32\n"
     ]
    }
   ],
   "source": [
    "print(np.min(X_train), np.max(X_test), X_train.dtype, sep=', ')"
   ]
  },
  {
   "cell_type": "markdown",
   "metadata": {
    "ExecuteTime": {
     "end_time": "2021-08-30T05:08:02.687904Z",
     "start_time": "2021-08-30T05:08:02.678864Z"
    },
    "slideshow": {
     "slide_type": "slide"
    }
   },
   "source": [
    "##### label(y)를 one hot encoding\n",
    "- 모델이 각 클래스별 확률이 출력되도록 정의 되었기 때문에 학습 시 오차를 구하기 위해서는 정답이 Label이 아닌 확률이 되도록 y를 one hot encoding처리"
   ]
  },
  {
   "cell_type": "code",
   "execution_count": 13,
   "metadata": {
    "ExecuteTime": {
     "end_time": "2021-11-01T02:50:53.736441Z",
     "start_time": "2021-11-01T02:50:53.720412Z"
    },
    "slideshow": {
     "slide_type": "fragment"
    }
   },
   "outputs": [
    {
     "name": "stdout",
     "output_type": "stream",
     "text": [
      "(60000,) (10000,)\n"
     ]
    },
    {
     "data": {
      "text/plain": [
       "array([5, 0, 4, 1, 9], dtype=uint8)"
      ]
     },
     "execution_count": 13,
     "metadata": {},
     "output_type": "execute_result"
    }
   ],
   "source": [
    "print(train_label.shape, test_label.shape)\n",
    "train_label[:5]"
   ]
  },
  {
   "cell_type": "code",
   "execution_count": 14,
   "metadata": {
    "ExecuteTime": {
     "end_time": "2021-11-01T02:50:54.095562Z",
     "start_time": "2021-11-01T02:50:54.088527Z"
    },
    "slideshow": {
     "slide_type": "fragment"
    }
   },
   "outputs": [],
   "source": [
    "y_train = keras.utils.to_categorical(train_label)\n",
    "y_test = keras.utils.to_categorical(test_label)"
   ]
  },
  {
   "cell_type": "code",
   "execution_count": 15,
   "metadata": {
    "ExecuteTime": {
     "end_time": "2021-11-01T02:50:54.281279Z",
     "start_time": "2021-11-01T02:50:54.272279Z"
    },
    "slideshow": {
     "slide_type": "fragment"
    }
   },
   "outputs": [
    {
     "data": {
      "text/plain": [
       "array([[0., 0., 0., 0., 0., 1., 0., 0., 0., 0.],\n",
       "       [1., 0., 0., 0., 0., 0., 0., 0., 0., 0.],\n",
       "       [0., 0., 0., 0., 1., 0., 0., 0., 0., 0.],\n",
       "       [0., 1., 0., 0., 0., 0., 0., 0., 0., 0.],\n",
       "       [0., 0., 0., 0., 0., 0., 0., 0., 0., 1.]], dtype=float32)"
      ]
     },
     "execution_count": 15,
     "metadata": {},
     "output_type": "execute_result"
    }
   ],
   "source": [
    "y_train[:5]"
   ]
  },
  {
   "cell_type": "code",
   "execution_count": 16,
   "metadata": {
    "ExecuteTime": {
     "end_time": "2021-11-01T02:50:54.467045Z",
     "start_time": "2021-11-01T02:50:54.458082Z"
    },
    "slideshow": {
     "slide_type": "fragment"
    }
   },
   "outputs": [
    {
     "name": "stdout",
     "output_type": "stream",
     "text": [
      "(60000, 10) (10000, 10)\n"
     ]
    }
   ],
   "source": [
    "print(y_train.shape, y_test.shape)"
   ]
  },
  {
   "cell_type": "markdown",
   "metadata": {
    "slideshow": {
     "slide_type": "slide"
    }
   },
   "source": [
    "## 학습 (fit)\n",
    "- model.fit()\n",
    "    - 모델 학습 메소드\n",
    "    - 학습과정의 Log를 History 객체로 반환\n",
    "- History : train 시 에폭별 평가지표값들을 모아서    "
   ]
  },
  {
   "cell_type": "markdown",
   "metadata": {},
   "source": [
    "예시)\n",
    "- epoch: 10\n",
    "- batch_size: 100\n",
    "- train set : 60,000\n",
    "- 1 epoch: 6만개 문제를 한번 다 풀어보는 것.\n",
    "- 100문제(batch size) 풀고 정답확인하고 다음 100문제 풀고 정답 확인\n",
    "- batch_size 단위로 학습 => 1 step "
   ]
  },
  {
   "cell_type": "code",
   "execution_count": 17,
   "metadata": {
    "ExecuteTime": {
     "end_time": "2021-11-01T02:53:48.924439Z",
     "start_time": "2021-11-01T02:53:29.624572Z"
    },
    "scrolled": false,
    "slideshow": {
     "slide_type": "fragment"
    }
   },
   "outputs": [
    {
     "name": "stdout",
     "output_type": "stream",
     "text": [
      "Epoch 1/10\n",
      "420/420 [==============================] - 2s 3ms/step - loss: 0.3094 - accuracy: 0.9109 - val_loss: 0.1688 - val_accuracy: 0.9501\n",
      "Epoch 2/10\n",
      "420/420 [==============================] - 1s 3ms/step - loss: 0.1193 - accuracy: 0.9649 - val_loss: 0.1236 - val_accuracy: 0.9627\n",
      "Epoch 3/10\n",
      "420/420 [==============================] - 1s 3ms/step - loss: 0.0771 - accuracy: 0.9765 - val_loss: 0.1063 - val_accuracy: 0.9687\n",
      "Epoch 4/10\n",
      "420/420 [==============================] - 1s 2ms/step - loss: 0.0561 - accuracy: 0.9826 - val_loss: 0.1043 - val_accuracy: 0.9702\n",
      "Epoch 5/10\n",
      "420/420 [==============================] - 1s 3ms/step - loss: 0.0391 - accuracy: 0.9875 - val_loss: 0.1091 - val_accuracy: 0.9696\n",
      "Epoch 6/10\n",
      "420/420 [==============================] - 1s 2ms/step - loss: 0.0290 - accuracy: 0.9910 - val_loss: 0.1003 - val_accuracy: 0.9731\n",
      "Epoch 7/10\n",
      "420/420 [==============================] - 1s 2ms/step - loss: 0.0222 - accuracy: 0.9932 - val_loss: 0.1168 - val_accuracy: 0.9692\n",
      "Epoch 8/10\n",
      "420/420 [==============================] - 1s 2ms/step - loss: 0.0171 - accuracy: 0.9946 - val_loss: 0.1161 - val_accuracy: 0.9706\n",
      "Epoch 9/10\n",
      "420/420 [==============================] - 1s 2ms/step - loss: 0.0181 - accuracy: 0.9944 - val_loss: 0.1288 - val_accuracy: 0.9680\n",
      "Epoch 10/10\n",
      "420/420 [==============================] - 1s 3ms/step - loss: 0.0115 - accuracy: 0.9964 - val_loss: 0.1064 - val_accuracy: 0.9738\n"
     ]
    }
   ],
   "source": [
    "hist = model.fit(X_train, y_train, # input(X_train), output(y_train)\n",
    "                  epochs=10, # 전체 train dataset을 몇번 반복하여 학습시킬지 정의 1번 학습 => 1 epoch\n",
    "                  batch_size=100, # Train dataset을 학습시키는 단위로 한번에 지정한 개수 (100)의 데이터씩 끊어서 학습\n",
    "                  validation_split=0.3) # Train/Validation 분리 -> train set의 30%를 validation set으로 사용"
   ]
  },
  {
   "cell_type": "markdown",
   "metadata": {},
   "source": [
    "- Epoch 1/10\n",
    "    - 현재 학습 중인 epoch/전체 epoch 수\n",
    "- 420/420 [==============================]\n",
    "    - 현재 학습 중인 step/전체 step 수\n",
    "- 1s 2ms/step\n",
    "    - 1epoch 소요시간 1step 소요시간\n",
    "- loss: 0.0136\n",
    "    - train 오차\n",
    "- accuracy: 0.9153\n",
    "    - train 정확도\n",
    "- val_loss: 0.1509\n",
    "    - validation 오차\n",
    "- val_accuracy: 0.9549\n",
    "    - validation 정확도"
   ]
  },
  {
   "cell_type": "markdown",
   "metadata": {
    "slideshow": {
     "slide_type": "slide"
    }
   },
   "source": [
    "##### History 시각화"
   ]
  },
  {
   "cell_type": "code",
   "execution_count": 18,
   "metadata": {},
   "outputs": [
    {
     "data": {
      "text/plain": [
       "{'loss': [0.30939245223999023,\n",
       "  0.11931537091732025,\n",
       "  0.0770803838968277,\n",
       "  0.0561436228454113,\n",
       "  0.03905041888356209,\n",
       "  0.029041245579719543,\n",
       "  0.02216772362589836,\n",
       "  0.017134489491581917,\n",
       "  0.018141405656933784,\n",
       "  0.011476049199700356],\n",
       " 'accuracy': [0.9109285473823547,\n",
       "  0.9648571610450745,\n",
       "  0.9765238165855408,\n",
       "  0.9826428294181824,\n",
       "  0.9874523878097534,\n",
       "  0.9909999966621399,\n",
       "  0.993238091468811,\n",
       "  0.9945952296257019,\n",
       "  0.9943809509277344,\n",
       "  0.996404767036438],\n",
       " 'val_loss': [0.16883821785449982,\n",
       "  0.12363898754119873,\n",
       "  0.10633564740419388,\n",
       "  0.10428754985332489,\n",
       "  0.10906963050365448,\n",
       "  0.10026349127292633,\n",
       "  0.11676422506570816,\n",
       "  0.11608868092298508,\n",
       "  0.1288420855998993,\n",
       "  0.1064288392663002],\n",
       " 'val_accuracy': [0.9500555396080017,\n",
       "  0.9627222418785095,\n",
       "  0.9687222242355347,\n",
       "  0.9701666831970215,\n",
       "  0.9696111083030701,\n",
       "  0.9730555415153503,\n",
       "  0.9691666960716248,\n",
       "  0.9706110954284668,\n",
       "  0.9679999947547913,\n",
       "  0.9737777709960938]}"
      ]
     },
     "execution_count": 18,
     "metadata": {},
     "output_type": "execute_result"
    }
   ],
   "source": [
    "type(hist.history)\n",
    "# {key:epoch별 성능 변화}\n",
    "hist.history"
   ]
  },
  {
   "cell_type": "code",
   "execution_count": 19,
   "metadata": {
    "ExecuteTime": {
     "end_time": "2021-11-01T02:54:03.793711Z",
     "start_time": "2021-11-01T02:54:03.519389Z"
    },
    "slideshow": {
     "slide_type": "fragment"
    }
   },
   "outputs": [
    {
     "data": {
      "image/png": "[encoded data removed]",
      "text/plain": [
       "<Figure size 504x720 with 2 Axes>"
      ]
     },
     "metadata": {
      "needs_background": "light"
     },
     "output_type": "display_data"
    }
   ],
   "source": [
    "import matplotlib.pyplot as plt\n",
    "plt.figure(figsize=(7,10))\n",
    "\n",
    "plt.subplot(2,1,1)\n",
    "plt.plot(range(1,11), hist.history['loss'], label='Train Loss')\n",
    "plt.plot(range(1,11), hist.history['val_loss'], label=\"Validation Loss\")\n",
    "plt.title(\"Loss per Epoch\", fontsize=20)\n",
    "plt.legend()\n",
    "\n",
    "plt.subplot(2,1,2)\n",
    "plt.plot(range(1,11), hist.history['accuracy'], label='Train Accuracy')\n",
    "plt.plot(range(1,11), hist.history['val_accuracy'], label='Validation Accuracy')\n",
    "plt.title(\"Accuracy per Epoch\", fontsize=20)\n",
    "\n",
    "plt.legend()\n",
    "plt.tight_layout()\n",
    "plt.show()\n",
    "\n",
    "\n",
    "# loss : 오차 => 작을수록 좋음\n",
    "# accuracy : 정확도 => 클 수록 좋음"
   ]
  },
  {
   "cell_type": "markdown",
   "metadata": {
    "slideshow": {
     "slide_type": "slide"
    }
   },
   "source": [
    "## 테스트셋 평가 -> 최종평가\n",
    "model.evaluate(X, y)"
   ]
  },
  {
   "cell_type": "code",
   "execution_count": 20,
   "metadata": {
    "ExecuteTime": {
     "end_time": "2021-11-01T02:54:55.003613Z",
     "start_time": "2021-11-01T02:54:53.112014Z"
    },
    "slideshow": {
     "slide_type": "fragment"
    }
   },
   "outputs": [
    {
     "name": "stdout",
     "output_type": "stream",
     "text": [
      "313/313 [==============================] - 0s 1ms/step - loss: 0.0946 - accuracy: 0.9763\n"
     ]
    }
   ],
   "source": [
    "test_loss, test_acc = model.evaluate(X_test, y_test)"
   ]
  },
  {
   "cell_type": "code",
   "execution_count": 21,
   "metadata": {
    "ExecuteTime": {
     "end_time": "2021-11-01T02:54:59.796293Z",
     "start_time": "2021-11-01T02:54:59.784261Z"
    },
    "slideshow": {
     "slide_type": "fragment"
    }
   },
   "outputs": [
    {
     "name": "stdout",
     "output_type": "stream",
     "text": [
      "0.0946049690246582 0.9763000011444092\n"
     ]
    }
   ],
   "source": [
    "print(test_loss, test_acc)"
   ]
  },
  {
   "cell_type": "markdown",
   "metadata": {
    "slideshow": {
     "slide_type": "slide"
    }
   },
   "source": [
    "## 새로운 데이터 추론\n",
    "- 새로운 데이터를 추론하기 전에 학습데이터에 했던 전처리과정을 동일하게 적용 한 뒤 추론"
   ]
  },
  {
   "cell_type": "markdown",
   "metadata": {
    "slideshow": {
     "slide_type": "fragment"
    }
   },
   "source": [
    "### 추론 메소드\n",
    "- predict()\n",
    "    - **분류:** 각 클래스 별 확률 반환\n",
    "    - **회귀:** 최종 예측 결과\n",
    "- 분류문제인 경우 predict() 결과에서 class label 출력하기 => 모델 출력값을 후처리하여 최종 예측 label 확인   \n",
    "    - 이진 분류(binary classification)\n",
    "        - `numpy.where(model.predict(x) > 0.5, 1, 0).astype(\"int32\")`\n",
    "    - 다중클래스 분류(multi-class classification)\n",
    "        - `numpy.argmax(model.predict(x), axis=1)`"
   ]
  },
  {
   "cell_type": "code",
   "execution_count": 22,
   "metadata": {
    "ExecuteTime": {
     "end_time": "2021-11-01T02:59:10.029469Z",
     "start_time": "2021-11-01T02:59:10.016497Z"
    },
    "slideshow": {
     "slide_type": "slide"
    }
   },
   "outputs": [
    {
     "data": {
      "text/plain": [
       "(5, 28, 28)"
      ]
     },
     "execution_count": 22,
     "metadata": {},
     "output_type": "execute_result"
    }
   ],
   "source": [
    "# x_test의 처음 5개 데이터를 이용하여 추론\n",
    "# X-test는 test image를 전처리한 데이터셋(uint8 -> float32 변환/ 0 ~ 1 사이로 정규화)\n",
    "new_image = X_test[:5]\n",
    "new_image.shape"
   ]
  },
  {
   "cell_type": "code",
   "execution_count": 23,
   "metadata": {
    "ExecuteTime": {
     "end_time": "2021-11-01T02:59:10.325737Z",
     "start_time": "2021-11-01T02:59:10.264749Z"
    },
    "slideshow": {
     "slide_type": "fragment"
    }
   },
   "outputs": [
    {
     "name": "stdout",
     "output_type": "stream",
     "text": [
      "1/1 [==============================] - 0s 64ms/step\n"
     ]
    },
    {
     "data": {
      "text/plain": [
       "(5, 10)"
      ]
     },
     "execution_count": 23,
     "metadata": {},
     "output_type": "execute_result"
    }
   ],
   "source": [
    "# predict(예측학 데이터의 Feature) -> (데이터 개수, Feature shape)\n",
    "result = model.predict(new_image)\n",
    "result.shape"
   ]
  },
  {
   "cell_type": "code",
   "execution_count": 24,
   "metadata": {
    "ExecuteTime": {
     "end_time": "2021-11-01T02:59:21.286183Z",
     "start_time": "2021-11-01T02:59:21.270686Z"
    },
    "slideshow": {
     "slide_type": "fragment"
    }
   },
   "outputs": [
    {
     "data": {
      "text/plain": [
       "array([3.42082696e-10, 1.06502519e-07, 1.87024551e-09, 4.62471689e-06,\n",
       "       9.98489960e-14, 2.14486748e-10, 1.11611004e-13, 9.99994636e-01,\n",
       "       2.98784553e-09, 5.59667910e-07], dtype=float32)"
      ]
     },
     "execution_count": 24,
     "metadata": {},
     "output_type": "execute_result"
    }
   ],
   "source": [
    "result[0] # 0번 데이터에 대한 예측결과(10, ) : 0 ~ 9일 각각의 확률"
   ]
  },
  {
   "cell_type": "code",
   "execution_count": 25,
   "metadata": {
    "ExecuteTime": {
     "end_time": "2021-11-01T03:00:02.103464Z",
     "start_time": "2021-11-01T03:00:02.087465Z"
    },
    "slideshow": {
     "slide_type": "fragment"
    }
   },
   "outputs": [],
   "source": [
    "# label 확인 (가장 높은 확률이 있는 index)\n",
    "result_label = np.argmax(result, axis=-1)"
   ]
  },
  {
   "cell_type": "code",
   "execution_count": 26,
   "metadata": {
    "ExecuteTime": {
     "end_time": "2021-11-01T03:00:02.556585Z",
     "start_time": "2021-11-01T03:00:02.543585Z"
    },
    "slideshow": {
     "slide_type": "fragment"
    }
   },
   "outputs": [
    {
     "data": {
      "text/plain": [
       "array([7, 2, 1, 0, 4], dtype=int64)"
      ]
     },
     "execution_count": 26,
     "metadata": {},
     "output_type": "execute_result"
    }
   ],
   "source": [
    "result_label"
   ]
  },
  {
   "cell_type": "code",
   "execution_count": 27,
   "metadata": {},
   "outputs": [
    {
     "data": {
      "image/png": "[encoded data removed]",
      "text/plain": [
       "<Figure size 432x288 with 1 Axes>"
      ]
     },
     "metadata": {
      "needs_background": "light"
     },
     "output_type": "display_data"
    }
   ],
   "source": [
    "idx = 4\n",
    "\n",
    "plt.imshow(test_image[idx], cmap='gray')\n",
    "plt.title(f'{test_label[idx]} - {result_label[idx]}')\n",
    "\n",
    "plt.show()"
   ]
  }
 ],
 "metadata": {
  "kernelspec": {
   "display_name": "Python 3 (ipykernel)",
   "language": "python",
   "name": "python3"
  },
  "language_info": {
   "codemirror_mode": {
    "name": "ipython",
    "version": 3
   },
   "file_extension": ".py",
   "mimetype": "text/x-python",
   "name": "python",
   "nbconvert_exporter": "python",
   "pygments_lexer": "ipython3",
   "version": "3.9.12"
  },
  "toc": {
   "base_numbering": 1,
   "nav_menu": {},
   "number_sections": false,
   "sideBar": true,
   "skip_h1_title": false,
   "title_cell": "Table of Contents",
   "title_sidebar": "Contents",
   "toc_cell": false,
   "toc_position": {},
   "toc_section_display": true,
   "toc_window_display": false
  },
  "varInspector": {
   "cols": {
    "lenName": 16,
    "lenType": 16,
    "lenVar": 40
   },
   "kernels_config": {
    "python": {
     "delete_cmd_postfix": "",
     "delete_cmd_prefix": "del ",
     "library": "var_list.py",
     "varRefreshCmd": "print(var_dic_list())"
    },
    "r": {
     "delete_cmd_postfix": ") ",
     "delete_cmd_prefix": "rm(",
     "library": "var_list.r",
     "varRefreshCmd": "cat(var_dic_list()) "
    }
   },
   "types_to_exclude": [
    "module",
    "function",
    "builtin_function_or_method",
    "instance",
    "_Feature"
   ],
   "window_display": false
  }
 },
 "nbformat": 4,
 "nbformat_minor": 2
}
