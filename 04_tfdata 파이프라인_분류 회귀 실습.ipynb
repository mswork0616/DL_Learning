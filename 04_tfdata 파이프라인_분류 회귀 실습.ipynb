{
 "cells": [
  {
   "cell_type": "markdown",
   "metadata": {
    "slideshow": {
     "slide_type": "slide"
    }
   },
   "source": [
    "# tf.data 모듈\n",
    "- 데이터 입력 파이프라인을 위한 모듈\n",
    "    - 모델 학습/평가를 위한 대용량 데이터셋을 제공(feeding)하기 위한 모듈\n",
    "    - raw dataset 에서 입력을 위한 **전처리**, **배치 크키**, **shuffling**등을 한번에 처리 가능케 함\n",
    "- tf.data.Dataset 추상클래스에서 상속된 여러가지 클래스들을 제공\n",
    "    - 입력 소스의 제공 형태에 따라 다양한 방식을 제공"
   ]
  },
  {
   "cell_type": "markdown",
   "metadata": {
    "slideshow": {
     "slide_type": "fragment"
    }
   },
   "source": [
    "## Dataset API 사용\n",
    "1. **Dataset 생성**\n",
    "    - raw dataset을 지정 (Loading)\n",
    "    - from_tensor_slices(), from_generator() 클래스 메소드, tf.data.TFRecordDataset 클래스 등을 사용해 메모리나 파일에 있는 데이터를 Dataset으로 생성\n",
    "    - **from_tensor_slices()**: 메모리의 리스트, 넘파이배열, 텐서플로 자료형에서 데이터를 생성"
   ]
  },
  {
   "cell_type": "markdown",
   "metadata": {
    "slideshow": {
     "slide_type": "fragment"
    }
   },
   "source": [
    "2. **제공 데이터 전처리**\n",
    "    - **map(함수)**: 하나 하나의 데이터를 변환\n",
    "        - 함수: 값을 변환할 함수로 입력데이터셋의 개수만큼 매개변수 선언\n",
    "    - **filter(함수)**: 특정 조건의 데이터만 제공하도록 처리\n",
    "        - 함수: 제공할 값의 조건을 정의한 함수로 입력데이터셋의 개수만큼 매개변수 선언하고 bool 값 반환"
   ]
  },
  {
   "cell_type": "markdown",
   "metadata": {
    "slideshow": {
     "slide_type": "fragment"
    }
   },
   "source": [
    "3. **데이터 제공 설정 관련**\n",
    "    - **batch(size)**: 학습/평가시 한번에 제공할 batch size 지정\n",
    "        - size: int. batch size 지정\n",
    "        - drop_remainder: bool. True일 경우 마지막 제공시 남은 데이터수가 batch size보다 작으면 미 제공하지\n",
    "    - **shuffle(buffer 크기)**: dataset의 원소들의 순서를 혼합\n",
    "        - buffer 크기: int. buffer 크기는 섞는 공간의 크기로  **데이터보다 크거나 같으면** 완전셔플, **적으면 일부만 가져와서 섞어** 완전셔플 불가\n",
    "        - 데이터 사이즈가 너무 커서 메모리가 부족할 경우 버퍼크기를 적게 함\n",
    "        - 메모리가 충분하다면 데이터의 개수와 동일하게 함\n",
    "    - **repeat(count)**: 전체 데이터를 한번 다 제공한 뒤 다시 데이터를 제공\n",
    "        - count: 몇번 제공할지 반복 횟수\n",
    "        - shuffle이 적용된 Dataset의 경우 다음 반복 제공마다 shuffle을 진행 (에폭단위)\n",
    "        "
   ]
  },
  {
   "cell_type": "markdown",
   "metadata": {
    "slideshow": {
     "slide_type": "fragment"
    }
   },
   "source": [
    "- 각 tf.data 함수들은 각 기능에 맞게 데이터를 처리하는 Dataset 객체를 반환"
   ]
  },
  {
   "cell_type": "markdown",
   "metadata": {
    "slideshow": {
     "slide_type": "fragment"
    }
   },
   "source": [
    "### Dataset 메소드\n",
    "- take(개수): 지정한 개수만큼의 데이터만 제공"
   ]
  },
  {
   "cell_type": "code",
   "execution_count": 1,
   "metadata": {
    "ExecuteTime": {
     "end_time": "2021-11-03T00:17:05.174429Z",
     "start_time": "2021-11-03T00:16:59.147864Z"
    },
    "slideshow": {
     "slide_type": "slide"
    }
   },
   "outputs": [],
   "source": [
    "import tensorflow as tf\n",
    "import numpy as np"
   ]
  },
  {
   "cell_type": "markdown",
   "metadata": {
    "slideshow": {
     "slide_type": "fragment"
    }
   },
   "source": [
    "##### Tensor\n",
    "- TensorFlow의 기본 data type\n",
    "- numpy가 ndarray를 이용해 데이터를 관리하듯이 tensorflow를 Tensor를 이용해 데이터를 관리\n",
    "    - Tensorflow의 모델 학습/평가 시 사용하는 데이터셋(Train, Validation, Test)은 tf.Tensor 타입\n",
    "        - 학습/평가(model.fit(), model.evaluate()) 시 ndarray를 입력 데이터셋으로 삽입 할 경우 tf.Tensor로 변형하여 처리\n",
    "        - tf.Tensor는 데이터 셋을 ndarray로 가지고 있음"
   ]
  },
  {
   "cell_type": "code",
   "execution_count": 2,
   "metadata": {
    "ExecuteTime": {
     "end_time": "2021-11-03T00:17:11.522584Z",
     "start_time": "2021-11-03T00:17:06.881850Z"
    },
    "slideshow": {
     "slide_type": "fragment"
    }
   },
   "outputs": [
    {
     "data": {
      "text/plain": [
       "<tf.Tensor: shape=(3,), dtype=float32, numpy=array([1., 2., 3.], dtype=float32)>"
      ]
     },
     "execution_count": 2,
     "metadata": {},
     "output_type": "execute_result"
    }
   ],
   "source": [
    "t = tf.constant([1,2,3], dtype=\"float32\")\n",
    "t"
   ]
  },
  {
   "cell_type": "code",
   "execution_count": 3,
   "metadata": {
    "ExecuteTime": {
     "end_time": "2021-11-03T00:17:13.119903Z",
     "start_time": "2021-11-03T00:17:13.114902Z"
    },
    "slideshow": {
     "slide_type": "fragment"
    }
   },
   "outputs": [
    {
     "data": {
      "text/plain": [
       "array([1., 2., 3.], dtype=float32)"
      ]
     },
     "execution_count": 3,
     "metadata": {},
     "output_type": "execute_result"
    }
   ],
   "source": [
    "# tensor=>numpy 변환\n",
    "a = t.numpy()\n",
    "a"
   ]
  },
  {
   "cell_type": "code",
   "execution_count": 4,
   "metadata": {
    "ExecuteTime": {
     "end_time": "2021-11-03T00:17:14.439481Z",
     "start_time": "2021-11-03T00:17:14.428482Z"
    },
    "slideshow": {
     "slide_type": "fragment"
    }
   },
   "outputs": [
    {
     "data": {
      "text/plain": [
       "<tf.Tensor: shape=(3,), dtype=float32, numpy=array([1., 2., 3.], dtype=float32)>"
      ]
     },
     "execution_count": 4,
     "metadata": {},
     "output_type": "execute_result"
    }
   ],
   "source": [
    "# numpy/list => tensor 변환\n",
    "t2 = tf.constant(a)\n",
    "t2"
   ]
  },
  {
   "cell_type": "code",
   "execution_count": 5,
   "metadata": {
    "ExecuteTime": {
     "end_time": "2021-11-03T00:17:15.642829Z",
     "start_time": "2021-11-03T00:17:15.636860Z"
    },
    "slideshow": {
     "slide_type": "fragment"
    }
   },
   "outputs": [
    {
     "data": {
      "text/plain": [
       "<tf.Tensor: shape=(3,), dtype=float32, numpy=array([1., 2., 3.], dtype=float32)>"
      ]
     },
     "execution_count": 5,
     "metadata": {},
     "output_type": "execute_result"
    }
   ],
   "source": [
    "# numpy/list => tensor 변환\n",
    "t3 = tf.convert_to_tensor(a)\n",
    "t3"
   ]
  },
  {
   "cell_type": "markdown",
   "metadata": {
    "slideshow": {
     "slide_type": "slide"
    }
   },
   "source": [
    "## Dataset 예제"
   ]
  },
  {
   "cell_type": "code",
   "execution_count": 6,
   "metadata": {
    "ExecuteTime": {
     "end_time": "2021-11-03T00:17:20.287779Z",
     "start_time": "2021-11-03T00:17:20.266782Z"
    },
    "slideshow": {
     "slide_type": "fragment"
    }
   },
   "outputs": [
    {
     "data": {
      "text/plain": [
       "array([0, 1, 2, 3, 4, 5, 6, 7, 8, 9])"
      ]
     },
     "execution_count": 6,
     "metadata": {},
     "output_type": "execute_result"
    }
   ],
   "source": [
    "raw_data1 = np.arange(10)\n",
    "raw_data1 # ndarray -> 메모리"
   ]
  },
  {
   "cell_type": "code",
   "execution_count": 7,
   "metadata": {
    "ExecuteTime": {
     "end_time": "2021-11-03T00:17:22.506375Z",
     "start_time": "2021-11-03T00:17:22.491362Z"
    },
    "slideshow": {
     "slide_type": "fragment"
    }
   },
   "outputs": [
    {
     "name": "stdout",
     "output_type": "stream",
     "text": [
      "<class 'tensorflow.python.data.ops.dataset_ops.TensorSliceDataset'>\n"
     ]
    }
   ],
   "source": [
    "# 메모리의 ndarray(Tensor)들을 읽는 Dataset 생성 -> Dataset.from_tensor_slices(변수) 클래스 메소드 사용\n",
    "dataset = tf.data.Dataset.from_tensor_slices(raw_data1)\n",
    "print(type(dataset)) # Dataset은 생성 시 데이터를 읽거나 처리하지 않음 -> 데이터셋을 사용하는 시점(모델학습, 평가)에 읽음 -> Lazy 실행"
   ]
  },
  {
   "cell_type": "code",
   "execution_count": 8,
   "metadata": {
    "ExecuteTime": {
     "end_time": "2021-11-01T08:12:25.809643Z",
     "start_time": "2021-11-01T08:12:25.784653Z"
    },
    "slideshow": {
     "slide_type": "fragment"
    }
   },
   "outputs": [
    {
     "name": "stdout",
     "output_type": "stream",
     "text": [
      "tf.Tensor(0, shape=(), dtype=int32)\n",
      "tf.Tensor(1, shape=(), dtype=int32)\n",
      "tf.Tensor(2, shape=(), dtype=int32)\n",
      "tf.Tensor(3, shape=(), dtype=int32)\n",
      "tf.Tensor(4, shape=(), dtype=int32)\n",
      "tf.Tensor(5, shape=(), dtype=int32)\n",
      "tf.Tensor(6, shape=(), dtype=int32)\n",
      "tf.Tensor(7, shape=(), dtype=int32)\n",
      "tf.Tensor(8, shape=(), dtype=int32)\n",
      "tf.Tensor(9, shape=(), dtype=int32)\n"
     ]
    }
   ],
   "source": [
    "# Dataset들은 iterable 타임 (for in 사용 가능)\n",
    "for data in dataset:\n",
    "    print(data) # for in 문 Dataset이 가지고 있는 원소들을 하나씩(batch size) 제공"
   ]
  },
  {
   "cell_type": "markdown",
   "metadata": {
    "slideshow": {
     "slide_type": "slide"
    }
   },
   "source": [
    "##### x, y 묶어서 제공\n",
    "- 두개 이상의 데이터셋을 묶어서 제공할 경우 Tuple로 묶어 반환\n",
    "    - Dataset이 feeding 할 때는 같은 index의 값들을 tuple로 묶어서 제공 (zip()과 동일)"
   ]
  },
  {
   "cell_type": "code",
   "execution_count": 9,
   "metadata": {
    "ExecuteTime": {
     "end_time": "2021-11-03T00:17:25.027859Z",
     "start_time": "2021-11-03T00:17:25.010861Z"
    },
    "slideshow": {
     "slide_type": "fragment"
    }
   },
   "outputs": [
    {
     "data": {
      "text/plain": [
       "array([10, 11, 12, 13, 14, 15, 16, 17, 18, 19])"
      ]
     },
     "execution_count": 9,
     "metadata": {},
     "output_type": "execute_result"
    }
   ],
   "source": [
    "raw_data2 = np.arange(10,20)\n",
    "raw_data2"
   ]
  },
  {
   "cell_type": "code",
   "execution_count": 10,
   "metadata": {
    "ExecuteTime": {
     "end_time": "2021-11-03T00:17:26.648816Z",
     "start_time": "2021-11-03T00:17:26.635809Z"
    },
    "slideshow": {
     "slide_type": "fragment"
    }
   },
   "outputs": [
    {
     "name": "stdout",
     "output_type": "stream",
     "text": [
      "[0 1 2 3 4 5 6 7 8 9]\n",
      "[10 11 12 13 14 15 16 17 18 19]\n"
     ]
    }
   ],
   "source": [
    "print(raw_data1)\n",
    "print(raw_data2)"
   ]
  },
  {
   "cell_type": "code",
   "execution_count": 11,
   "metadata": {
    "ExecuteTime": {
     "end_time": "2021-11-01T08:13:24.646546Z",
     "start_time": "2021-11-01T08:13:24.624519Z"
    },
    "slideshow": {
     "slide_type": "fragment"
    }
   },
   "outputs": [
    {
     "name": "stdout",
     "output_type": "stream",
     "text": [
      "tf.Tensor(0, shape=(), dtype=int32) | tf.Tensor(10, shape=(), dtype=int32)\n",
      "tf.Tensor(1, shape=(), dtype=int32) | tf.Tensor(11, shape=(), dtype=int32)\n",
      "tf.Tensor(2, shape=(), dtype=int32) | tf.Tensor(12, shape=(), dtype=int32)\n",
      "tf.Tensor(3, shape=(), dtype=int32) | tf.Tensor(13, shape=(), dtype=int32)\n",
      "tf.Tensor(4, shape=(), dtype=int32) | tf.Tensor(14, shape=(), dtype=int32)\n",
      "tf.Tensor(5, shape=(), dtype=int32) | tf.Tensor(15, shape=(), dtype=int32)\n",
      "tf.Tensor(6, shape=(), dtype=int32) | tf.Tensor(16, shape=(), dtype=int32)\n",
      "tf.Tensor(7, shape=(), dtype=int32) | tf.Tensor(17, shape=(), dtype=int32)\n",
      "tf.Tensor(8, shape=(), dtype=int32) | tf.Tensor(18, shape=(), dtype=int32)\n",
      "tf.Tensor(9, shape=(), dtype=int32) | tf.Tensor(19, shape=(), dtype=int32)\n"
     ]
    }
   ],
   "source": [
    "dataset2 = tf.data.Dataset.from_tensor_slices((raw_data1, raw_data2)) \n",
    "# for i in dataset2:\n",
    "#    print(i) # tuple(raw_data1 원소, raw_data2 원소) 같은 것들을 튜플로 묶어 반환\n",
    "#    break\n",
    "for X, y in dataset2: # tuple대입\n",
    "    print(X, y, sep=' | ')"
   ]
  },
  {
   "cell_type": "code",
   "execution_count": 12,
   "metadata": {
    "ExecuteTime": {
     "end_time": "2021-11-03T00:17:28.129666Z",
     "start_time": "2021-11-03T00:17:28.041820Z"
    },
    "slideshow": {
     "slide_type": "fragment"
    }
   },
   "outputs": [
    {
     "name": "stdout",
     "output_type": "stream",
     "text": [
      "<class 'tensorflow.python.data.ops.dataset_ops.TakeDataset'>\n",
      "tf.Tensor(0, shape=(), dtype=int32)\n",
      "tf.Tensor(1, shape=(), dtype=int32)\n",
      "tf.Tensor(2, shape=(), dtype=int32)\n"
     ]
    }
   ],
   "source": [
    "dataset3 = dataset.take(3) # take(n) : 지정한 개수(n) 만큼 조회 -> Dataset 값 조회 시 사용\n",
    "# plpeline : TensorSliceDataset(dataset) --- TakeDataset(dataset3) \n",
    "#    dataset3이용 값 조회 -> dataset이 데이터 읽음 -> dataset3이 값을 3개까지 제공하는 기능 제공\n",
    "print(type(dataset3))\n",
    "for data in dataset3:\n",
    "    print(data)"
   ]
  },
  {
   "cell_type": "markdown",
   "metadata": {
    "slideshow": {
     "slide_type": "slide"
    }
   },
   "source": [
    "##### shuffle"
   ]
  },
  {
   "cell_type": "code",
   "execution_count": 13,
   "metadata": {
    "ExecuteTime": {
     "end_time": "2021-11-01T08:14:17.513361Z",
     "start_time": "2021-11-01T08:14:17.496360Z"
    },
    "slideshow": {
     "slide_type": "fragment"
    }
   },
   "outputs": [
    {
     "name": "stdout",
     "output_type": "stream",
     "text": [
      "<class 'tensorflow.python.data.ops.dataset_ops.ShuffleDataset'>\n",
      "tf.Tensor(2, shape=(), dtype=int32)\n",
      "tf.Tensor(8, shape=(), dtype=int32)\n",
      "tf.Tensor(3, shape=(), dtype=int32)\n",
      "tf.Tensor(4, shape=(), dtype=int32)\n",
      "tf.Tensor(0, shape=(), dtype=int32)\n",
      "tf.Tensor(6, shape=(), dtype=int32)\n",
      "tf.Tensor(1, shape=(), dtype=int32)\n",
      "tf.Tensor(9, shape=(), dtype=int32)\n",
      "tf.Tensor(5, shape=(), dtype=int32)\n",
      "tf.Tensor(7, shape=(), dtype=int32)\n"
     ]
    }
   ],
   "source": [
    "dataset4 = dataset.shuffle(10) # buffer size : 10 (dataset 원소개수와 동일 => 완전 셔플)\n",
    "# raw_data1 읽기 -> TensorSliceDataset(dataset) 혼합 -> ShuffleDataset(dataset4)\n",
    "print(type(dataset4))\n",
    "for data in dataset4:\n",
    "    print(data)"
   ]
  },
  {
   "cell_type": "markdown",
   "metadata": {
    "slideshow": {
     "slide_type": "slide"
    }
   },
   "source": [
    "##### batch\n",
    "- drop_remainder: boolean(기본-False)\n",
    "    - batch로 제공할 데이터의 개수가 설정한 batch_size 보다 적으면 미제공\n",
    "    - Train dataset을 만들 때 True로 설정하여 항상 일정한 batch size로 학습할 수 있도록 함\n",
    "    - drop 되는 데이터는 다른 epoch을 반복 시 사용"
   ]
  },
  {
   "cell_type": "code",
   "execution_count": 14,
   "metadata": {
    "ExecuteTime": {
     "end_time": "2021-11-03T00:17:32.506910Z",
     "start_time": "2021-11-03T00:17:32.489875Z"
    },
    "slideshow": {
     "slide_type": "fragment"
    }
   },
   "outputs": [
    {
     "name": "stdout",
     "output_type": "stream",
     "text": [
      "<class 'tensorflow.python.data.ops.dataset_ops.BatchDataset'>\n",
      "tf.Tensor([0 1 2], shape=(3,), dtype=int32)\n",
      "tf.Tensor([3 4 5], shape=(3,), dtype=int32)\n",
      "tf.Tensor([6 7 8], shape=(3,), dtype=int32)\n"
     ]
    }
   ],
   "source": [
    "dataset5 = dataset.batch(3, drop_remainder=True) # drop_remainder=True : 배치 처리 후 남은 데이터 제거\n",
    "# raw_data1 읽기 => TensorSliceDataset(dataset) 배치 처리 -> BatchDataset(dataset5)\n",
    "print(type(dataset5))\n",
    "for data in dataset5:\n",
    "    print(data)"
   ]
  },
  {
   "cell_type": "code",
   "execution_count": 15,
   "metadata": {
    "ExecuteTime": {
     "end_time": "2021-11-03T00:17:33.957458Z",
     "start_time": "2021-11-03T00:17:33.929489Z"
    },
    "slideshow": {
     "slide_type": "fragment"
    }
   },
   "outputs": [
    {
     "name": "stdout",
     "output_type": "stream",
     "text": [
      "tf.Tensor([5 0 8], shape=(3,), dtype=int32)\n",
      "tf.Tensor([1 7 9], shape=(3,), dtype=int32)\n",
      "tf.Tensor([3 4 2], shape=(3,), dtype=int32)\n",
      "tf.Tensor([6], shape=(1,), dtype=int32)\n"
     ]
    }
   ],
   "source": [
    "dataset6 = dataset.shuffle(10).batch(3)\n",
    "# raw_data1 읽기 -> TensorSliceDataset(dataset) 혼합 -> ShuffleDataset(suffle(10)) 배치 처리 -> BatchDataset(batch(3) : dataset6)\n",
    "for d in dataset6:\n",
    "    print(d)"
   ]
  },
  {
   "cell_type": "markdown",
   "metadata": {
    "slideshow": {
     "slide_type": "slide"
    }
   },
   "source": [
    "##### repeat"
   ]
  },
  {
   "cell_type": "code",
   "execution_count": 16,
   "metadata": {
    "ExecuteTime": {
     "end_time": "2021-11-03T00:17:36.109496Z",
     "start_time": "2021-11-03T00:17:36.090507Z"
    },
    "slideshow": {
     "slide_type": "fragment"
    }
   },
   "outputs": [
    {
     "name": "stdout",
     "output_type": "stream",
     "text": [
      "<class 'tensorflow.python.data.ops.dataset_ops.RepeatDataset'>\n",
      "tf.Tensor(0, shape=(), dtype=int32)\n",
      "tf.Tensor(1, shape=(), dtype=int32)\n",
      "tf.Tensor(2, shape=(), dtype=int32)\n",
      "tf.Tensor(3, shape=(), dtype=int32)\n",
      "tf.Tensor(4, shape=(), dtype=int32)\n",
      "tf.Tensor(5, shape=(), dtype=int32)\n",
      "tf.Tensor(6, shape=(), dtype=int32)\n",
      "tf.Tensor(7, shape=(), dtype=int32)\n",
      "tf.Tensor(8, shape=(), dtype=int32)\n",
      "tf.Tensor(9, shape=(), dtype=int32)\n",
      "tf.Tensor(0, shape=(), dtype=int32)\n",
      "tf.Tensor(1, shape=(), dtype=int32)\n",
      "tf.Tensor(2, shape=(), dtype=int32)\n",
      "tf.Tensor(3, shape=(), dtype=int32)\n",
      "tf.Tensor(4, shape=(), dtype=int32)\n",
      "tf.Tensor(5, shape=(), dtype=int32)\n",
      "tf.Tensor(6, shape=(), dtype=int32)\n",
      "tf.Tensor(7, shape=(), dtype=int32)\n",
      "tf.Tensor(8, shape=(), dtype=int32)\n",
      "tf.Tensor(9, shape=(), dtype=int32)\n",
      "tf.Tensor(0, shape=(), dtype=int32)\n",
      "tf.Tensor(1, shape=(), dtype=int32)\n",
      "tf.Tensor(2, shape=(), dtype=int32)\n",
      "tf.Tensor(3, shape=(), dtype=int32)\n",
      "tf.Tensor(4, shape=(), dtype=int32)\n",
      "tf.Tensor(5, shape=(), dtype=int32)\n",
      "tf.Tensor(6, shape=(), dtype=int32)\n",
      "tf.Tensor(7, shape=(), dtype=int32)\n",
      "tf.Tensor(8, shape=(), dtype=int32)\n",
      "tf.Tensor(9, shape=(), dtype=int32)\n"
     ]
    }
   ],
   "source": [
    "dataset7 = dataset.repeat(3) # 반복 횟수 미설정 시 무한 제공\n",
    "# raw_data1 읽기 -> TensorSliceDataset(dataset) 반복 제공 -> RepeatDataset(dataset7)\n",
    "print(type(dataset7))\n",
    "for data in dataset7:\n",
    "    print(data)"
   ]
  },
  {
   "cell_type": "code",
   "execution_count": 17,
   "metadata": {
    "ExecuteTime": {
     "end_time": "2021-11-03T00:17:38.140537Z",
     "start_time": "2021-11-03T00:17:38.120543Z"
    },
    "slideshow": {
     "slide_type": "fragment"
    }
   },
   "outputs": [
    {
     "name": "stdout",
     "output_type": "stream",
     "text": [
      "tf.Tensor([8 5 3 6 0], shape=(5,), dtype=int32)\n",
      "tf.Tensor([4 7 9 2 1], shape=(5,), dtype=int32)\n",
      "tf.Tensor([9 0 5 7 2], shape=(5,), dtype=int32)\n",
      "tf.Tensor([4 6 1 8 3], shape=(5,), dtype=int32)\n",
      "tf.Tensor([4 6 8 1 5], shape=(5,), dtype=int32)\n",
      "tf.Tensor([7 2 9 0 3], shape=(5,), dtype=int32)\n"
     ]
    }
   ],
   "source": [
    "dataset8 = dataset.shuffle(10).batch(5).repeat(3)\n",
    "# raw_data1 읽기 -> TensorSliceDataset(dataset) 혼합- > ShuffleDataset(suffle(10)) 배치 처리 -> BatchDataset(batch(5)) 반복 제공 -> RepeatDataset(dataset8)\n",
    "for data in dataset8:\n",
    "    print(data)"
   ]
  },
  {
   "cell_type": "markdown",
   "metadata": {
    "slideshow": {
     "slide_type": "slide"
    }
   },
   "source": [
    "##### map"
   ]
  },
  {
   "cell_type": "code",
   "execution_count": 18,
   "metadata": {
    "ExecuteTime": {
     "end_time": "2021-11-03T00:17:40.527048Z",
     "start_time": "2021-11-03T00:17:40.411788Z"
    },
    "scrolled": true,
    "slideshow": {
     "slide_type": "fragment"
    }
   },
   "outputs": [
    {
     "name": "stdout",
     "output_type": "stream",
     "text": [
      "<class 'tensorflow.python.data.ops.dataset_ops.MapDataset'>\n",
      "tf.Tensor(0, shape=(), dtype=int32)\n",
      "tf.Tensor(1, shape=(), dtype=int32)\n",
      "tf.Tensor(4, shape=(), dtype=int32)\n",
      "tf.Tensor(9, shape=(), dtype=int32)\n",
      "tf.Tensor(16, shape=(), dtype=int32)\n",
      "tf.Tensor(25, shape=(), dtype=int32)\n",
      "tf.Tensor(36, shape=(), dtype=int32)\n",
      "tf.Tensor(49, shape=(), dtype=int32)\n",
      "tf.Tensor(64, shape=(), dtype=int32)\n",
      "tf.Tensor(81, shape=(), dtype=int32)\n"
     ]
    }
   ],
   "source": [
    "def mapping_func(x):\n",
    "    # dataset의 원소를 하나 받아 처리하는 함수\n",
    "    # 매개변수 : 원소개수에 맞추어 변수 선언\n",
    "    # 반환값 : 받은 원소를 처리한 값\n",
    "    return x**2\n",
    "\n",
    "dataset9 = dataset.map(mapping_func)\n",
    "print(type(dataset9))\n",
    "# raw_data1 읽기 -> TensorSliceDataset(dataset) mapping처리 -> MapDataset(dataset9)\n",
    "for data in dataset9:\n",
    "    print(data)"
   ]
  },
  {
   "cell_type": "code",
   "execution_count": 19,
   "metadata": {
    "ExecuteTime": {
     "end_time": "2021-11-03T00:17:41.551921Z",
     "start_time": "2021-11-03T00:17:41.505781Z"
    },
    "slideshow": {
     "slide_type": "fragment"
    }
   },
   "outputs": [],
   "source": [
    "def mapping_func2(x, y):\n",
    "    return x**3, y\n",
    "\n",
    "dataset2 = tf.data.Dataset.from_tensor_slices((raw_data1, raw_data2))\n",
    "dataset10 = dataset2.map(mapping_func2)"
   ]
  },
  {
   "cell_type": "code",
   "execution_count": 20,
   "metadata": {
    "ExecuteTime": {
     "end_time": "2021-11-03T00:17:45.511603Z",
     "start_time": "2021-11-03T00:17:45.480572Z"
    },
    "slideshow": {
     "slide_type": "fragment"
    }
   },
   "outputs": [
    {
     "name": "stdout",
     "output_type": "stream",
     "text": [
      "(<tf.Tensor: shape=(), dtype=int32, numpy=0>, <tf.Tensor: shape=(), dtype=int32, numpy=10>)\n",
      "(<tf.Tensor: shape=(), dtype=int32, numpy=1>, <tf.Tensor: shape=(), dtype=int32, numpy=11>)\n",
      "(<tf.Tensor: shape=(), dtype=int32, numpy=8>, <tf.Tensor: shape=(), dtype=int32, numpy=12>)\n",
      "(<tf.Tensor: shape=(), dtype=int32, numpy=27>, <tf.Tensor: shape=(), dtype=int32, numpy=13>)\n",
      "(<tf.Tensor: shape=(), dtype=int32, numpy=64>, <tf.Tensor: shape=(), dtype=int32, numpy=14>)\n",
      "(<tf.Tensor: shape=(), dtype=int32, numpy=125>, <tf.Tensor: shape=(), dtype=int32, numpy=15>)\n",
      "(<tf.Tensor: shape=(), dtype=int32, numpy=216>, <tf.Tensor: shape=(), dtype=int32, numpy=16>)\n",
      "(<tf.Tensor: shape=(), dtype=int32, numpy=343>, <tf.Tensor: shape=(), dtype=int32, numpy=17>)\n",
      "(<tf.Tensor: shape=(), dtype=int32, numpy=512>, <tf.Tensor: shape=(), dtype=int32, numpy=18>)\n",
      "(<tf.Tensor: shape=(), dtype=int32, numpy=729>, <tf.Tensor: shape=(), dtype=int32, numpy=19>)\n"
     ]
    }
   ],
   "source": [
    "for data in dataset10:\n",
    "    print(data)"
   ]
  },
  {
   "cell_type": "code",
   "execution_count": 21,
   "metadata": {
    "ExecuteTime": {
     "end_time": "2021-11-03T00:17:48.199845Z",
     "start_time": "2021-11-03T00:17:48.152694Z"
    },
    "scrolled": true,
    "slideshow": {
     "slide_type": "fragment"
    }
   },
   "outputs": [
    {
     "name": "stdout",
     "output_type": "stream",
     "text": [
      "tf.Tensor(0, shape=(), dtype=int32)\n",
      "tf.Tensor(1, shape=(), dtype=int32)\n",
      "tf.Tensor(4, shape=(), dtype=int32)\n",
      "tf.Tensor(9, shape=(), dtype=int32)\n",
      "tf.Tensor(16, shape=(), dtype=int32)\n",
      "tf.Tensor(25, shape=(), dtype=int32)\n",
      "tf.Tensor(36, shape=(), dtype=int32)\n",
      "tf.Tensor(49, shape=(), dtype=int32)\n",
      "tf.Tensor(64, shape=(), dtype=int32)\n",
      "tf.Tensor(81, shape=(), dtype=int32)\n"
     ]
    }
   ],
   "source": [
    "# lambda 표현 방식 1\n",
    "dataset11 = dataset.map(lambda x: x**2)\n",
    "for data in dataset11:\n",
    "    print(data)"
   ]
  },
  {
   "cell_type": "code",
   "execution_count": 22,
   "metadata": {
    "ExecuteTime": {
     "end_time": "2021-11-03T00:17:52.607608Z",
     "start_time": "2021-11-03T00:17:52.552682Z"
    },
    "slideshow": {
     "slide_type": "fragment"
    }
   },
   "outputs": [
    {
     "name": "stdout",
     "output_type": "stream",
     "text": [
      "(<tf.Tensor: shape=(), dtype=int32, numpy=0>, <tf.Tensor: shape=(), dtype=int32, numpy=100>)\n",
      "(<tf.Tensor: shape=(), dtype=int32, numpy=1>, <tf.Tensor: shape=(), dtype=int32, numpy=121>)\n",
      "(<tf.Tensor: shape=(), dtype=int32, numpy=8>, <tf.Tensor: shape=(), dtype=int32, numpy=144>)\n",
      "(<tf.Tensor: shape=(), dtype=int32, numpy=27>, <tf.Tensor: shape=(), dtype=int32, numpy=169>)\n",
      "(<tf.Tensor: shape=(), dtype=int32, numpy=64>, <tf.Tensor: shape=(), dtype=int32, numpy=196>)\n",
      "(<tf.Tensor: shape=(), dtype=int32, numpy=125>, <tf.Tensor: shape=(), dtype=int32, numpy=225>)\n",
      "(<tf.Tensor: shape=(), dtype=int32, numpy=216>, <tf.Tensor: shape=(), dtype=int32, numpy=256>)\n",
      "(<tf.Tensor: shape=(), dtype=int32, numpy=343>, <tf.Tensor: shape=(), dtype=int32, numpy=289>)\n",
      "(<tf.Tensor: shape=(), dtype=int32, numpy=512>, <tf.Tensor: shape=(), dtype=int32, numpy=324>)\n",
      "(<tf.Tensor: shape=(), dtype=int32, numpy=729>, <tf.Tensor: shape=(), dtype=int32, numpy=361>)\n"
     ]
    }
   ],
   "source": [
    "# lambda 표현 방식 2\n",
    "dataset12 = dataset2.map(lambda x, y: (x**3, y**2))\n",
    "for data in dataset12:\n",
    "    print(data)"
   ]
  },
  {
   "cell_type": "markdown",
   "metadata": {
    "slideshow": {
     "slide_type": "slide"
    }
   },
   "source": [
    "##### filter"
   ]
  },
  {
   "cell_type": "code",
   "execution_count": 23,
   "metadata": {
    "ExecuteTime": {
     "end_time": "2021-11-03T00:17:56.269694Z",
     "start_time": "2021-11-03T00:17:56.210225Z"
    },
    "slideshow": {
     "slide_type": "fragment"
    }
   },
   "outputs": [
    {
     "name": "stdout",
     "output_type": "stream",
     "text": [
      "<class 'tensorflow.python.data.ops.dataset_ops.FilterDataset'>\n",
      "tf.Tensor(0, shape=(), dtype=int32)\n",
      "tf.Tensor(2, shape=(), dtype=int32)\n",
      "tf.Tensor(4, shape=(), dtype=int32)\n",
      "tf.Tensor(6, shape=(), dtype=int32)\n",
      "tf.Tensor(8, shape=(), dtype=int32)\n"
     ]
    }
   ],
   "source": [
    "def filter_func(x):\n",
    "    # filter 함수 : 제공할 데이터의 조선 정의 이조건을 만족하는 (True) 원소들만 모아 모델에 제공(feding)\n",
    "    # 매개변구  DataSet으로 부터 원소을 받을 변수\n",
    "    # 반환 : bool\n",
    "    return x%2 == 0 \n",
    "\n",
    "dataset13 = dataset.filter(filter_func)\n",
    "print(type(dataset13))\n",
    "# raw_data1 읽기 -> TensorSliceDataset(dataset) Filltering처리 -> FilterDataset(dataset13)\n",
    "for data in dataset13:\n",
    "    print(data)"
   ]
  },
  {
   "cell_type": "code",
   "execution_count": 24,
   "metadata": {
    "ExecuteTime": {
     "end_time": "2021-11-03T00:17:57.209032Z",
     "start_time": "2021-11-03T00:17:57.166006Z"
    },
    "slideshow": {
     "slide_type": "fragment"
    }
   },
   "outputs": [
    {
     "name": "stdout",
     "output_type": "stream",
     "text": [
      "tf.Tensor(6, shape=(), dtype=int32)\n",
      "tf.Tensor(7, shape=(), dtype=int32)\n",
      "tf.Tensor(8, shape=(), dtype=int32)\n",
      "tf.Tensor(9, shape=(), dtype=int32)\n"
     ]
    }
   ],
   "source": [
    "# lambda 표현식\n",
    "dataset14 = dataset.filter(lambda x : x > 5)\n",
    "for data in dataset14:\n",
    "    print(data)"
   ]
  },
  {
   "cell_type": "markdown",
   "metadata": {
    "slideshow": {
     "slide_type": "slide"
    }
   },
   "source": [
    "##### 종합"
   ]
  },
  {
   "cell_type": "code",
   "execution_count": 25,
   "metadata": {
    "ExecuteTime": {
     "end_time": "2021-11-03T00:17:59.148304Z",
     "start_time": "2021-11-03T00:17:59.091243Z"
    },
    "slideshow": {
     "slide_type": "fragment"
    }
   },
   "outputs": [
    {
     "name": "stdout",
     "output_type": "stream",
     "text": [
      "tf.Tensor([17 19 18], shape=(3,), dtype=int32)\n",
      "tf.Tensor([20 11 16], shape=(3,), dtype=int32)\n",
      "tf.Tensor([15 13 14], shape=(3,), dtype=int32)\n",
      "tf.Tensor([12 10], shape=(2,), dtype=int32)\n"
     ]
    }
   ],
   "source": [
    "raw_data = np.arange(-10,11)\n",
    "dataset_final = tf.data.Dataset.from_tensor_slices(raw_data)\\\n",
    "                               .filter(lambda x:x>=0)\\\n",
    "                               .map(lambda y:y+10)\\\n",
    "                               .shuffle(raw_data.size)\\\n",
    "                               .batch(3)\n",
    "# raw_data(-10 ~ 10 : ndarray) 읽기 -> TensorSliceDataset(dataset) filter 처리 -> FilterDataset map 처리 -> MapDataset 혼합 -> ShuffleDataset 배치처리 -> BatchDataset(dataset_final)\n",
    "for data in dataset_final:\n",
    "    print(data)"
   ]
  },
  {
   "cell_type": "markdown",
   "metadata": {
    "slideshow": {
     "slide_type": "slide"
    }
   },
   "source": [
    "# 문제 유형별 MLP 네트워크\n",
    "- Multi Layer Perceptron\n",
    "    - Fully Connected Layer로 구성된 네트워크"
   ]
  },
  {
   "cell_type": "markdown",
   "metadata": {
    "slideshow": {
     "slide_type": "fragment"
    }
   },
   "source": [
    "# Regression(회귀)\n",
    "\n",
    "## Boston Housing Dataset\n",
    "보스턴 주택가격 dataset은 다음과 같은 속성을 바탕으로 해당 타운 주택 가격의 중앙값을 예측하는 문제\n",
    "- CRIM: 범죄율\n",
    "- ZN: 25,000 평방피트당 주거지역 비율\n",
    "- INDUS: 비소매 상업지구 비율\n",
    "- CHAS: 찰스강에 인접해 있는지 여부(인접:1, 아니면:0)\n",
    "- NOX: 일산화질소 농도(단위: 0.1ppm)\n",
    "- RM: 주택당 방의 수\n",
    "- AGE: 1940년 이전에 건설된 주택의 비율\n",
    "- DIS: 5개의 보스턴 직업고용센터와의 거리(가중 평균)\n",
    "- RAD: 고속도로 접근성\n",
    "- TAX: 재산세율\n",
    "- PTRATIO: 학생/교사 비율\n",
    "- B: 흑인 비율\n",
    "- LSTAT: 하위 계층 비율\n",
    "<br><br>\n",
    "- **Target**\n",
    "    - MEDV: 타운의 주택가격 중앙값(단위: 1,000달러)"
   ]
  },
  {
   "cell_type": "code",
   "execution_count": 26,
   "metadata": {
    "ExecuteTime": {
     "end_time": "2021-11-03T00:18:30.667027Z",
     "start_time": "2021-11-03T00:18:30.656991Z"
    },
    "slideshow": {
     "slide_type": "slide"
    }
   },
   "outputs": [],
   "source": [
    "import numpy as np\n",
    "\n",
    "import tensorflow as tf\n",
    "from tensorflow import keras\n",
    "# layer 클래스들을 제공하는 모듈\n",
    "from tensorflow.keras import layers"
   ]
  },
  {
   "cell_type": "code",
   "execution_count": 27,
   "metadata": {
    "ExecuteTime": {
     "end_time": "2021-11-03T00:18:32.570713Z",
     "start_time": "2021-11-03T00:18:32.551682Z"
    },
    "slideshow": {
     "slide_type": "fragment"
    }
   },
   "outputs": [],
   "source": [
    "# random seed 설정\n",
    "np.random.seed(0) # numpy(dataset) random seed\n",
    "tf.random.set_seed(0) # Tensorflow 모델 random seed"
   ]
  },
  {
   "cell_type": "markdown",
   "metadata": {
    "slideshow": {
     "slide_type": "slide"
    }
   },
   "source": [
    "##### 데이터 로딩"
   ]
  },
  {
   "cell_type": "code",
   "execution_count": 28,
   "metadata": {
    "ExecuteTime": {
     "end_time": "2021-11-03T00:18:34.586431Z",
     "start_time": "2021-11-03T00:18:34.555449Z"
    },
    "slideshow": {
     "slide_type": "fragment"
    }
   },
   "outputs": [
    {
     "name": "stdout",
     "output_type": "stream",
     "text": [
      "(404, 13) (102, 13)\n",
      "(404,) (102,)\n"
     ]
    }
   ],
   "source": [
    "(train_X, train_y), (test_X, test_y) = keras.datasets.boston_housing.load_data()\n",
    "print(train_X.shape, test_X.shape)\n",
    "print(train_y.shape, test_y.shape)"
   ]
  },
  {
   "cell_type": "code",
   "execution_count": 29,
   "metadata": {
    "ExecuteTime": {
     "end_time": "2021-11-03T00:18:35.928293Z",
     "start_time": "2021-11-03T00:18:35.913288Z"
    },
    "scrolled": true,
    "slideshow": {
     "slide_type": "fragment"
    }
   },
   "outputs": [
    {
     "data": {
      "text/plain": [
       "array([[1.23247e+00, 0.00000e+00, 8.14000e+00, 0.00000e+00, 5.38000e-01,\n",
       "        6.14200e+00, 9.17000e+01, 3.97690e+00, 4.00000e+00, 3.07000e+02,\n",
       "        2.10000e+01, 3.96900e+02, 1.87200e+01],\n",
       "       [2.17700e-02, 8.25000e+01, 2.03000e+00, 0.00000e+00, 4.15000e-01,\n",
       "        7.61000e+00, 1.57000e+01, 6.27000e+00, 2.00000e+00, 3.48000e+02,\n",
       "        1.47000e+01, 3.95380e+02, 3.11000e+00],\n",
       "       [4.89822e+00, 0.00000e+00, 1.81000e+01, 0.00000e+00, 6.31000e-01,\n",
       "        4.97000e+00, 1.00000e+02, 1.33250e+00, 2.40000e+01, 6.66000e+02,\n",
       "        2.02000e+01, 3.75520e+02, 3.26000e+00],\n",
       "       [3.96100e-02, 0.00000e+00, 5.19000e+00, 0.00000e+00, 5.15000e-01,\n",
       "        6.03700e+00, 3.45000e+01, 5.98530e+00, 5.00000e+00, 2.24000e+02,\n",
       "        2.02000e+01, 3.96900e+02, 8.01000e+00],\n",
       "       [3.69311e+00, 0.00000e+00, 1.81000e+01, 0.00000e+00, 7.13000e-01,\n",
       "        6.37600e+00, 8.84000e+01, 2.56710e+00, 2.40000e+01, 6.66000e+02,\n",
       "        2.02000e+01, 3.91430e+02, 1.46500e+01]])"
      ]
     },
     "execution_count": 29,
     "metadata": {},
     "output_type": "execute_result"
    }
   ],
   "source": [
    "train_X[:5]"
   ]
  },
  {
   "cell_type": "code",
   "execution_count": 30,
   "metadata": {
    "ExecuteTime": {
     "end_time": "2021-11-03T00:18:40.002908Z",
     "start_time": "2021-11-03T00:18:39.992903Z"
    },
    "slideshow": {
     "slide_type": "fragment"
    }
   },
   "outputs": [
    {
     "data": {
      "text/plain": [
       "array([15.2, 42.3, 50. , 21.1, 17.7])"
      ]
     },
     "execution_count": 30,
     "metadata": {},
     "output_type": "execute_result"
    }
   ],
   "source": [
    "train_y[:5]"
   ]
  },
  {
   "cell_type": "markdown",
   "metadata": {
    "slideshow": {
     "slide_type": "slide"
    }
   },
   "source": [
    "##### 하이퍼 파라미터, 변수 정의"
   ]
  },
  {
   "cell_type": "code",
   "execution_count": 31,
   "metadata": {
    "ExecuteTime": {
     "end_time": "2021-11-03T00:19:28.221512Z",
     "start_time": "2021-11-03T00:19:28.202545Z"
    },
    "slideshow": {
     "slide_type": "fragment"
    }
   },
   "outputs": [],
   "source": [
    "# 하이퍼 파라미터 : 튜닝대상(변경 될 가능성이 높은 변수) => 한 곳에 몰아서 선언하는 것이 좋음\n",
    "LEARNING_RATE = 0.001 # 학습률\n",
    "N_EPOCHS  = 200 # epoch 수 : train data set 학습 회수\n",
    "N_BATCHS = 32 # batch size : 1 step 당 학습할 데이터 개수 (2의 거듭제곱한 값)\n",
    "\n",
    "# 사용할 변수 선언\n",
    "N_TRAIN = train_X.shape[0] # train data 개수\n",
    "N_TEST = test_X.shape[0] # test data 개수"
   ]
  },
  {
   "cell_type": "markdown",
   "metadata": {
    "slideshow": {
     "slide_type": "fragment"
    }
   },
   "source": [
    "##### X, y 전처리\n",
    "- MLP는 선형모델을 기반으로 하므로 Feature scaling"
   ]
  },
  {
   "cell_type": "code",
   "execution_count": 32,
   "metadata": {
    "ExecuteTime": {
     "end_time": "2021-11-03T00:22:46.672715Z",
     "start_time": "2021-11-03T00:22:45.928931Z"
    },
    "slideshow": {
     "slide_type": "fragment"
    }
   },
   "outputs": [],
   "source": [
    "from sklearn.preprocessing import StandardScaler\n",
    "\n",
    "scaler = StandardScaler()\n",
    "X_train = scaler.fit_transform(train_X)\n",
    "X_test = scaler.transform(test_X)"
   ]
  },
  {
   "cell_type": "markdown",
   "metadata": {
    "slideshow": {
     "slide_type": "slide"
    }
   },
   "source": [
    "##### Dataset 생성"
   ]
  },
  {
   "cell_type": "code",
   "execution_count": 33,
   "metadata": {
    "ExecuteTime": {
     "end_time": "2021-11-03T00:22:49.378171Z",
     "start_time": "2021-11-03T00:22:49.346798Z"
    },
    "slideshow": {
     "slide_type": "fragment"
    }
   },
   "outputs": [],
   "source": [
    "# train set을 위한 dataset 생성\n",
    "train_dataset = tf.data.Dataset.from_tensor_slices((X_train, train_y))\\\n",
    "                                .shuffle(N_TRAIN)\\\n",
    "                                .batch(N_BATCHS, drop_remainder=True)\n",
    "# from_tensor_slices((X_train, train_y)) : (X_train, y_train)을 묶어 제공\n",
    "# shuffle(N_TRAIN) : shuffle -> epoch 단위로 shuffle 실행\n",
    "# batch(N_BATCHS, drop_remainder=True : batch size 설정 / train set에서는 보통 drop_remainder=True로 설정 (∵ 각 step마다 동일한 데이터셋을 학습하기 위해)\n",
    "\n",
    "# validation dataset -> 학습 중 검증데이터로 사용할 dataset (이번 경우 생략)\n",
    "    \n",
    "# 최종 평가 시 사용할 데이터 셋\n",
    "test_dataset = tf.data.Dataset.from_tensor_slices((X_test, test_y)).batch(N_BATCHS)\n",
    "# test size의 batch_size : 전체 데이터를 묶어서 검증 하는 것이 아닌 batch_size 개수별로 검증하여 그 평균을 최종 평가 결과로 반환"
   ]
  },
  {
   "cell_type": "markdown",
   "metadata": {
    "slideshow": {
     "slide_type": "slide"
    }
   },
   "source": [
    "##### 모델 구현\n",
    "1. 모델 생성 Sequential 방식\n",
    "1. 모델에 Layer를 순서대로 추가\n",
    "    - Input Layer\n",
    "    - Hidden Layer들 (layer의 unit 수, layer의 개수 => 튜닝 대상 => 개수가 많을수록 복잡한 모델로 overfitting 발생 가능\n",
    "    - Out Layer\n",
    "1. 학습을 위해 compile"
   ]
  },
  {
   "cell_type": "code",
   "execution_count": 34,
   "metadata": {
    "ExecuteTime": {
     "end_time": "2021-11-03T00:25:45.682692Z",
     "start_time": "2021-11-03T00:25:45.665687Z"
    },
    "slideshow": {
     "slide_type": "fragment"
    }
   },
   "outputs": [],
   "source": [
    "def create_housing_model():\n",
    "    \n",
    "    model = keras.Sequential()\n",
    "    # 1. Input Layer\n",
    "    # model.add(layer.InputLayer((13,))) # Input Layer 추가 1.-> Input Layer 생성 -> Featuer shape 지정\n",
    "    # Input Layer 추가 2 첫번째 Hidden Layer를 추가하며 input_shape 속성에 Feature에 shape 지덩\n",
    "    \n",
    "    # 2. Hidden Layer 추가\n",
    "    # DenseLayer : units -unit의 개수 activation : 활성 함수\n",
    "    # DenseLayer의 unit 수는 개수를 줄여나감 (관례적)\n",
    "    model.add(layers.Dense(units=128, activation='relu', input_shape=(13,)))\n",
    "    model.add(layers.Dense(units=64, activation='relu'))\n",
    "    model.add(layers.Dense(units=32, activation='relu'))\n",
    "    model.add(layers.Dense(units=16, activation='relu'))\n",
    "    \n",
    "    # 3. Output Layer 추가 \n",
    "    # 회귀 문제에 대한 output layer - units : 추론한 결과값(정답) 개수에 맞춤 - unit=1(집값 1개), activation=None(defualt, 미지정)\n",
    "    model.add(layers.Dense(units=1))\n",
    "    \n",
    "    return model"
   ]
  },
  {
   "cell_type": "code",
   "execution_count": 35,
   "metadata": {},
   "outputs": [],
   "source": [
    "def create_housing_model2():\n",
    "    # 모델에 추가할 layer들을 리스트로 묶어 Squential 생성 시 삽입\n",
    "    model = keras.Sequential([\n",
    "        layers.Dense(units=128, activation='relu', input_shape=(13,)),\n",
    "        layers.Dense(units=64, activation='relu'),\n",
    "        layers.Dense(units=32, activation='relu'),\n",
    "        layers.Dense(units=16, activation='relu'),\n",
    "        layers.Dense(units=1, activation='relu')        \n",
    "    ])\n",
    "    \n",
    "    return model"
   ]
  },
  {
   "cell_type": "code",
   "execution_count": 36,
   "metadata": {
    "ExecuteTime": {
     "end_time": "2021-11-03T00:25:46.309942Z",
     "start_time": "2021-11-03T00:25:46.258942Z"
    },
    "slideshow": {
     "slide_type": "fragment"
    }
   },
   "outputs": [],
   "source": [
    "# 모델 생성\n",
    "model = create_housing_model()\n",
    "# 모델 컴파일 - 모델을 학습 가능하게 함 => 모델에 optimizer와 loss 함수 추가\n",
    "# 회귀 문제를 위한 모델 컴파일 -> loss : mse(mean squared error)\n",
    "# optimizer= 옵티마이저 객체 - learning rate등을 설정할 경우/ 문자열 - 기본 설정을 사용할 경우('adam')\n",
    "model.compile(optimizer=keras.optimizers.Adam(learning_rate=LEARNING_RATE), loss='mse')"
   ]
  },
  {
   "cell_type": "markdown",
   "metadata": {},
   "source": [
    "weight = 입력 featuer 수 * unit 수\n",
    "bias = unit 수\n",
    "Layer의 parameter 수 = weight + bias"
   ]
  },
  {
   "cell_type": "code",
   "execution_count": 37,
   "metadata": {
    "slideshow": {
     "slide_type": "fragment"
    }
   },
   "outputs": [
    {
     "name": "stdout",
     "output_type": "stream",
     "text": [
      "Model: \"sequential\"\n",
      "_________________________________________________________________\n",
      " Layer (type)                Output Shape              Param #   \n",
      "=================================================================\n",
      " dense (Dense)               (None, 128)               1792      \n",
      "                                                                 \n",
      " dense_1 (Dense)             (None, 64)                8256      \n",
      "                                                                 \n",
      " dense_2 (Dense)             (None, 32)                2080      \n",
      "                                                                 \n",
      " dense_3 (Dense)             (None, 16)                528       \n",
      "                                                                 \n",
      " dense_4 (Dense)             (None, 1)                 17        \n",
      "                                                                 \n",
      "=================================================================\n",
      "Total params: 12,673\n",
      "Trainable params: 12,673\n",
      "Non-trainable params: 0\n",
      "_________________________________________________________________\n"
     ]
    }
   ],
   "source": [
    "# 생성된 모델 구조 확인\n",
    "model.summary()"
   ]
  },
  {
   "cell_type": "code",
   "execution_count": 38,
   "metadata": {
    "ExecuteTime": {
     "end_time": "2021-11-03T00:25:48.796508Z",
     "start_time": "2021-11-03T00:25:48.593053Z"
    },
    "slideshow": {
     "slide_type": "fragment"
    }
   },
   "outputs": [
    {
     "data": {
      "image/png": "[encoded data removed]",
      "text/plain": [
       "<IPython.core.display.Image object>"
      ]
     },
     "execution_count": 38,
     "metadata": {},
     "output_type": "execute_result"
    }
   ],
   "source": [
    "# graphviz를 통한 모델 구조 시각화\n",
    "keras.utils.plot_model(model, show_shapes=True, to_file='housing_model.png') # show_shapes : 각 layer의 input shape와 out shape를 같이 시각화 (defaul : False)\n",
    "                                                                             # to_file : 저장파일 제목 지정"
   ]
  },
  {
   "cell_type": "markdown",
   "metadata": {
    "slideshow": {
     "slide_type": "slide"
    }
   },
   "source": [
    "##### 학습(Train)"
   ]
  },
  {
   "cell_type": "code",
   "execution_count": 39,
   "metadata": {
    "ExecuteTime": {
     "end_time": "2021-11-03T00:26:09.427202Z",
     "start_time": "2021-11-03T00:25:52.255858Z"
    },
    "scrolled": true,
    "slideshow": {
     "slide_type": "fragment"
    }
   },
   "outputs": [
    {
     "name": "stdout",
     "output_type": "stream",
     "text": [
      "Epoch 1/200\n",
      "12/12 [==============================] - 1s 10ms/step - loss: 577.3932 - val_loss: 588.7253\n",
      "Epoch 2/200\n",
      "12/12 [==============================] - 0s 2ms/step - loss: 535.2090 - val_loss: 528.5541\n",
      "Epoch 3/200\n",
      "12/12 [==============================] - 0s 2ms/step - loss: 449.3878 - val_loss: 395.9603\n",
      "Epoch 4/200\n",
      "12/12 [==============================] - 0s 2ms/step - loss: 285.8776 - val_loss: 178.5870\n",
      "Epoch 5/200\n",
      "12/12 [==============================] - 0s 2ms/step - loss: 109.0843 - val_loss: 73.3984\n",
      "Epoch 6/200\n",
      "12/12 [==============================] - 0s 2ms/step - loss: 65.2827 - val_loss: 45.6336\n",
      "Epoch 7/200\n",
      "12/12 [==============================] - 0s 2ms/step - loss: 39.5779 - val_loss: 34.2212\n",
      "Epoch 8/200\n",
      "12/12 [==============================] - 0s 2ms/step - loss: 28.1576 - val_loss: 27.1693\n",
      "Epoch 9/200\n",
      "12/12 [==============================] - 0s 2ms/step - loss: 23.3589 - val_loss: 25.1918\n",
      "Epoch 10/200\n",
      "12/12 [==============================] - 0s 2ms/step - loss: 19.0858 - val_loss: 24.1037\n",
      "Epoch 11/200\n",
      "12/12 [==============================] - 0s 2ms/step - loss: 19.5038 - val_loss: 23.9689\n",
      "Epoch 12/200\n",
      "12/12 [==============================] - 0s 2ms/step - loss: 17.9861 - val_loss: 23.8935\n",
      "Epoch 13/200\n",
      "12/12 [==============================] - 0s 2ms/step - loss: 14.9528 - val_loss: 23.4286\n",
      "Epoch 14/200\n",
      "12/12 [==============================] - 0s 2ms/step - loss: 15.2748 - val_loss: 22.8110\n",
      "Epoch 15/200\n",
      "12/12 [==============================] - 0s 2ms/step - loss: 14.5906 - val_loss: 22.0151\n",
      "Epoch 16/200\n",
      "12/12 [==============================] - 0s 2ms/step - loss: 12.4829 - val_loss: 22.9588\n",
      "Epoch 17/200\n",
      "12/12 [==============================] - 0s 2ms/step - loss: 12.8525 - val_loss: 22.8017\n",
      "Epoch 18/200\n",
      "12/12 [==============================] - 0s 2ms/step - loss: 12.8073 - val_loss: 22.6519\n",
      "Epoch 19/200\n",
      "12/12 [==============================] - 0s 2ms/step - loss: 12.0775 - val_loss: 22.9794\n",
      "Epoch 20/200\n",
      "12/12 [==============================] - 0s 2ms/step - loss: 11.9680 - val_loss: 22.2735\n",
      "Epoch 21/200\n",
      "12/12 [==============================] - 0s 2ms/step - loss: 11.4987 - val_loss: 23.1313\n",
      "Epoch 22/200\n",
      "12/12 [==============================] - 0s 2ms/step - loss: 11.2265 - val_loss: 23.4070\n",
      "Epoch 23/200\n",
      "12/12 [==============================] - 0s 2ms/step - loss: 10.7187 - val_loss: 23.4471\n",
      "Epoch 24/200\n",
      "12/12 [==============================] - 0s 2ms/step - loss: 10.1350 - val_loss: 24.0132\n",
      "Epoch 25/200\n",
      "12/12 [==============================] - 0s 2ms/step - loss: 10.4290 - val_loss: 23.1797\n",
      "Epoch 26/200\n",
      "12/12 [==============================] - 0s 2ms/step - loss: 10.1144 - val_loss: 21.9743\n",
      "Epoch 27/200\n",
      "12/12 [==============================] - 0s 2ms/step - loss: 9.3101 - val_loss: 23.3581\n",
      "Epoch 28/200\n",
      "12/12 [==============================] - 0s 2ms/step - loss: 9.9603 - val_loss: 22.3168\n",
      "Epoch 29/200\n",
      "12/12 [==============================] - 0s 2ms/step - loss: 9.5686 - val_loss: 23.8144\n",
      "Epoch 30/200\n",
      "12/12 [==============================] - 0s 2ms/step - loss: 9.4564 - val_loss: 23.7639\n",
      "Epoch 31/200\n",
      "12/12 [==============================] - 0s 2ms/step - loss: 9.4679 - val_loss: 23.7512\n",
      "Epoch 32/200\n",
      "12/12 [==============================] - 0s 2ms/step - loss: 9.2971 - val_loss: 23.1163\n",
      "Epoch 33/200\n",
      "12/12 [==============================] - 0s 2ms/step - loss: 9.3193 - val_loss: 22.3858\n",
      "Epoch 34/200\n",
      "12/12 [==============================] - 0s 2ms/step - loss: 8.4993 - val_loss: 23.0815\n",
      "Epoch 35/200\n",
      "12/12 [==============================] - 0s 2ms/step - loss: 9.0766 - val_loss: 21.6565\n",
      "Epoch 36/200\n",
      "12/12 [==============================] - 0s 2ms/step - loss: 8.8368 - val_loss: 22.3627\n",
      "Epoch 37/200\n",
      "12/12 [==============================] - 0s 2ms/step - loss: 8.7469 - val_loss: 22.1714\n",
      "Epoch 38/200\n",
      "12/12 [==============================] - 0s 2ms/step - loss: 8.4356 - val_loss: 22.7598\n",
      "Epoch 39/200\n",
      "12/12 [==============================] - 0s 2ms/step - loss: 8.3183 - val_loss: 22.8468\n",
      "Epoch 40/200\n",
      "12/12 [==============================] - 0s 2ms/step - loss: 8.3826 - val_loss: 22.1944\n",
      "Epoch 41/200\n",
      "12/12 [==============================] - 0s 2ms/step - loss: 8.2722 - val_loss: 22.7475\n",
      "Epoch 42/200\n",
      "12/12 [==============================] - 0s 2ms/step - loss: 8.5546 - val_loss: 20.8881\n",
      "Epoch 43/200\n",
      "12/12 [==============================] - 0s 2ms/step - loss: 8.1958 - val_loss: 22.8062\n",
      "Epoch 44/200\n",
      "12/12 [==============================] - 0s 2ms/step - loss: 8.1359 - val_loss: 21.5673\n",
      "Epoch 45/200\n",
      "12/12 [==============================] - 0s 2ms/step - loss: 8.2443 - val_loss: 20.6093\n",
      "Epoch 46/200\n",
      "12/12 [==============================] - 0s 2ms/step - loss: 8.1503 - val_loss: 22.3120\n",
      "Epoch 47/200\n",
      "12/12 [==============================] - 0s 2ms/step - loss: 7.2994 - val_loss: 20.7976\n",
      "Epoch 48/200\n",
      "12/12 [==============================] - 0s 2ms/step - loss: 7.1838 - val_loss: 21.3242\n",
      "Epoch 49/200\n",
      "12/12 [==============================] - 0s 2ms/step - loss: 7.6558 - val_loss: 20.8395\n",
      "Epoch 50/200\n",
      "12/12 [==============================] - 0s 2ms/step - loss: 7.2745 - val_loss: 21.3178\n",
      "Epoch 51/200\n",
      "12/12 [==============================] - 0s 2ms/step - loss: 7.7235 - val_loss: 21.2130\n",
      "Epoch 52/200\n",
      "12/12 [==============================] - 0s 2ms/step - loss: 7.1573 - val_loss: 20.9504\n",
      "Epoch 53/200\n",
      "12/12 [==============================] - 0s 2ms/step - loss: 7.3972 - val_loss: 21.2285\n",
      "Epoch 54/200\n",
      "12/12 [==============================] - 0s 2ms/step - loss: 7.6225 - val_loss: 21.7027\n",
      "Epoch 55/200\n",
      "12/12 [==============================] - 0s 2ms/step - loss: 6.8362 - val_loss: 19.0617\n",
      "Epoch 56/200\n",
      "12/12 [==============================] - 0s 2ms/step - loss: 7.1779 - val_loss: 20.7588\n",
      "Epoch 57/200\n",
      "12/12 [==============================] - 0s 2ms/step - loss: 6.9715 - val_loss: 19.7976\n",
      "Epoch 58/200\n",
      "12/12 [==============================] - 0s 2ms/step - loss: 7.0688 - val_loss: 20.6880\n",
      "Epoch 59/200\n",
      "12/12 [==============================] - 0s 2ms/step - loss: 6.7415 - val_loss: 20.4745\n",
      "Epoch 60/200\n",
      "12/12 [==============================] - 0s 2ms/step - loss: 6.8929 - val_loss: 20.2320\n",
      "Epoch 61/200\n",
      "12/12 [==============================] - 0s 2ms/step - loss: 6.8719 - val_loss: 19.7147\n",
      "Epoch 62/200\n",
      "12/12 [==============================] - 0s 2ms/step - loss: 6.9101 - val_loss: 20.6450\n",
      "Epoch 63/200\n",
      "12/12 [==============================] - 0s 2ms/step - loss: 5.9334 - val_loss: 19.0396\n",
      "Epoch 64/200\n",
      "12/12 [==============================] - 0s 2ms/step - loss: 6.4497 - val_loss: 19.1525\n",
      "Epoch 65/200\n",
      "12/12 [==============================] - 0s 2ms/step - loss: 6.4878 - val_loss: 19.6961\n",
      "Epoch 66/200\n",
      "12/12 [==============================] - 0s 2ms/step - loss: 6.4116 - val_loss: 19.7942\n",
      "Epoch 67/200\n",
      "12/12 [==============================] - 0s 2ms/step - loss: 6.4037 - val_loss: 19.7909\n",
      "Epoch 68/200\n",
      "12/12 [==============================] - 0s 2ms/step - loss: 6.4111 - val_loss: 18.7297\n",
      "Epoch 69/200\n",
      "12/12 [==============================] - 0s 2ms/step - loss: 6.4017 - val_loss: 18.5085\n",
      "Epoch 70/200\n",
      "12/12 [==============================] - 0s 2ms/step - loss: 6.2631 - val_loss: 18.4908\n",
      "Epoch 71/200\n",
      "12/12 [==============================] - 0s 2ms/step - loss: 6.2122 - val_loss: 18.6117\n",
      "Epoch 72/200\n",
      "12/12 [==============================] - 0s 2ms/step - loss: 6.0772 - val_loss: 18.2473\n",
      "Epoch 73/200\n",
      "12/12 [==============================] - 0s 2ms/step - loss: 6.1674 - val_loss: 17.8369\n",
      "Epoch 74/200\n",
      "12/12 [==============================] - 0s 2ms/step - loss: 5.9168 - val_loss: 18.6683\n",
      "Epoch 75/200\n",
      "12/12 [==============================] - 0s 2ms/step - loss: 6.0352 - val_loss: 17.8342\n",
      "Epoch 76/200\n",
      "12/12 [==============================] - 0s 2ms/step - loss: 6.2115 - val_loss: 17.7750\n",
      "Epoch 77/200\n",
      "12/12 [==============================] - 0s 2ms/step - loss: 6.0603 - val_loss: 17.0421\n",
      "Epoch 78/200\n",
      "12/12 [==============================] - 0s 2ms/step - loss: 6.0553 - val_loss: 17.2563\n",
      "Epoch 79/200\n",
      "12/12 [==============================] - 0s 2ms/step - loss: 5.4521 - val_loss: 17.6628\n",
      "Epoch 80/200\n",
      "12/12 [==============================] - 0s 2ms/step - loss: 5.8394 - val_loss: 17.0523\n",
      "Epoch 81/200\n",
      "12/12 [==============================] - 0s 2ms/step - loss: 5.7647 - val_loss: 16.7521\n"
     ]
    },
    {
     "name": "stdout",
     "output_type": "stream",
     "text": [
      "Epoch 82/200\n",
      "12/12 [==============================] - 0s 2ms/step - loss: 5.7296 - val_loss: 17.0516\n",
      "Epoch 83/200\n",
      "12/12 [==============================] - 0s 2ms/step - loss: 5.6737 - val_loss: 16.5297\n",
      "Epoch 84/200\n",
      "12/12 [==============================] - 0s 2ms/step - loss: 5.5950 - val_loss: 16.6753\n",
      "Epoch 85/200\n",
      "12/12 [==============================] - 0s 2ms/step - loss: 5.4228 - val_loss: 16.0829\n",
      "Epoch 86/200\n",
      "12/12 [==============================] - 0s 2ms/step - loss: 5.3674 - val_loss: 16.9765\n",
      "Epoch 87/200\n",
      "12/12 [==============================] - 0s 2ms/step - loss: 5.2871 - val_loss: 15.7956\n",
      "Epoch 88/200\n",
      "12/12 [==============================] - 0s 2ms/step - loss: 5.2823 - val_loss: 17.2386\n",
      "Epoch 89/200\n",
      "12/12 [==============================] - 0s 2ms/step - loss: 5.2796 - val_loss: 16.0001\n",
      "Epoch 90/200\n",
      "12/12 [==============================] - 0s 2ms/step - loss: 5.1560 - val_loss: 15.1276\n",
      "Epoch 91/200\n",
      "12/12 [==============================] - 0s 2ms/step - loss: 5.1404 - val_loss: 15.2073\n",
      "Epoch 92/200\n",
      "12/12 [==============================] - 0s 2ms/step - loss: 5.1610 - val_loss: 15.9334\n",
      "Epoch 93/200\n",
      "12/12 [==============================] - 0s 2ms/step - loss: 5.1991 - val_loss: 15.2140\n",
      "Epoch 94/200\n",
      "12/12 [==============================] - 0s 2ms/step - loss: 5.2522 - val_loss: 15.4248\n",
      "Epoch 95/200\n",
      "12/12 [==============================] - 0s 2ms/step - loss: 5.0769 - val_loss: 15.8317\n",
      "Epoch 96/200\n",
      "12/12 [==============================] - 0s 2ms/step - loss: 4.8476 - val_loss: 14.5346\n",
      "Epoch 97/200\n",
      "12/12 [==============================] - 0s 2ms/step - loss: 4.7431 - val_loss: 14.8793\n",
      "Epoch 98/200\n",
      "12/12 [==============================] - 0s 2ms/step - loss: 4.7686 - val_loss: 14.9470\n",
      "Epoch 99/200\n",
      "12/12 [==============================] - 0s 2ms/step - loss: 4.3211 - val_loss: 14.2885\n",
      "Epoch 100/200\n",
      "12/12 [==============================] - 0s 2ms/step - loss: 4.6230 - val_loss: 14.3639\n",
      "Epoch 101/200\n",
      "12/12 [==============================] - 0s 2ms/step - loss: 4.9314 - val_loss: 15.3978\n",
      "Epoch 102/200\n",
      "12/12 [==============================] - 0s 2ms/step - loss: 4.8242 - val_loss: 14.0301\n",
      "Epoch 103/200\n",
      "12/12 [==============================] - 0s 2ms/step - loss: 4.9794 - val_loss: 15.7442\n",
      "Epoch 104/200\n",
      "12/12 [==============================] - 0s 2ms/step - loss: 4.5088 - val_loss: 13.3652\n",
      "Epoch 105/200\n",
      "12/12 [==============================] - 0s 2ms/step - loss: 4.3527 - val_loss: 13.4814\n",
      "Epoch 106/200\n",
      "12/12 [==============================] - 0s 2ms/step - loss: 4.6449 - val_loss: 14.0409\n",
      "Epoch 107/200\n",
      "12/12 [==============================] - 0s 2ms/step - loss: 4.5518 - val_loss: 13.7601\n",
      "Epoch 108/200\n",
      "12/12 [==============================] - 0s 2ms/step - loss: 4.3714 - val_loss: 14.2912\n",
      "Epoch 109/200\n",
      "12/12 [==============================] - 0s 2ms/step - loss: 4.4466 - val_loss: 13.5373\n",
      "Epoch 110/200\n",
      "12/12 [==============================] - 0s 2ms/step - loss: 4.1865 - val_loss: 13.2928\n",
      "Epoch 111/200\n",
      "12/12 [==============================] - 0s 2ms/step - loss: 4.4015 - val_loss: 13.4014\n",
      "Epoch 112/200\n",
      "12/12 [==============================] - 0s 2ms/step - loss: 4.4728 - val_loss: 13.1453\n",
      "Epoch 113/200\n",
      "12/12 [==============================] - 0s 2ms/step - loss: 3.8132 - val_loss: 13.1290\n",
      "Epoch 114/200\n",
      "12/12 [==============================] - 0s 2ms/step - loss: 4.1563 - val_loss: 14.4281\n",
      "Epoch 115/200\n",
      "12/12 [==============================] - 0s 2ms/step - loss: 4.4528 - val_loss: 13.3846\n",
      "Epoch 116/200\n",
      "12/12 [==============================] - 0s 2ms/step - loss: 4.1497 - val_loss: 12.3983\n",
      "Epoch 117/200\n",
      "12/12 [==============================] - 0s 2ms/step - loss: 3.9098 - val_loss: 12.7549\n",
      "Epoch 118/200\n",
      "12/12 [==============================] - 0s 2ms/step - loss: 3.7781 - val_loss: 12.8389\n",
      "Epoch 119/200\n",
      "12/12 [==============================] - 0s 2ms/step - loss: 3.8706 - val_loss: 12.7900\n",
      "Epoch 120/200\n",
      "12/12 [==============================] - 0s 2ms/step - loss: 3.9072 - val_loss: 12.4810\n",
      "Epoch 121/200\n",
      "12/12 [==============================] - 0s 2ms/step - loss: 4.0644 - val_loss: 13.2451\n",
      "Epoch 122/200\n",
      "12/12 [==============================] - 0s 2ms/step - loss: 3.9046 - val_loss: 12.8816\n",
      "Epoch 123/200\n",
      "12/12 [==============================] - 0s 2ms/step - loss: 3.7847 - val_loss: 13.1276\n",
      "Epoch 124/200\n",
      "12/12 [==============================] - 0s 2ms/step - loss: 3.8826 - val_loss: 14.9180\n",
      "Epoch 125/200\n",
      "12/12 [==============================] - 0s 2ms/step - loss: 3.7270 - val_loss: 11.7890\n",
      "Epoch 126/200\n",
      "12/12 [==============================] - 0s 2ms/step - loss: 3.6068 - val_loss: 12.4482\n",
      "Epoch 127/200\n",
      "12/12 [==============================] - 0s 2ms/step - loss: 3.7086 - val_loss: 12.7151\n",
      "Epoch 128/200\n",
      "12/12 [==============================] - 0s 2ms/step - loss: 3.4538 - val_loss: 12.4991\n",
      "Epoch 129/200\n",
      "12/12 [==============================] - 0s 2ms/step - loss: 3.4265 - val_loss: 12.1109\n",
      "Epoch 130/200\n",
      "12/12 [==============================] - 0s 2ms/step - loss: 3.6162 - val_loss: 13.0498\n",
      "Epoch 131/200\n",
      "12/12 [==============================] - 0s 2ms/step - loss: 3.5316 - val_loss: 12.1283\n",
      "Epoch 132/200\n",
      "12/12 [==============================] - 0s 2ms/step - loss: 3.1081 - val_loss: 12.3256\n",
      "Epoch 133/200\n",
      "12/12 [==============================] - 0s 2ms/step - loss: 3.4852 - val_loss: 12.5512\n",
      "Epoch 134/200\n",
      "12/12 [==============================] - 0s 2ms/step - loss: 3.2492 - val_loss: 11.6875\n",
      "Epoch 135/200\n",
      "12/12 [==============================] - 0s 2ms/step - loss: 3.1276 - val_loss: 12.0921\n",
      "Epoch 136/200\n",
      "12/12 [==============================] - 0s 2ms/step - loss: 3.6119 - val_loss: 12.5511\n",
      "Epoch 137/200\n",
      "12/12 [==============================] - 0s 2ms/step - loss: 3.4084 - val_loss: 11.9608\n",
      "Epoch 138/200\n",
      "12/12 [==============================] - 0s 2ms/step - loss: 3.0620 - val_loss: 13.3838\n",
      "Epoch 139/200\n",
      "12/12 [==============================] - 0s 2ms/step - loss: 3.4189 - val_loss: 13.4781\n",
      "Epoch 140/200\n",
      "12/12 [==============================] - 0s 2ms/step - loss: 3.3079 - val_loss: 11.5273\n",
      "Epoch 141/200\n",
      "12/12 [==============================] - 0s 2ms/step - loss: 3.1397 - val_loss: 11.5927\n",
      "Epoch 142/200\n",
      "12/12 [==============================] - 0s 2ms/step - loss: 3.1399 - val_loss: 11.9144\n",
      "Epoch 143/200\n",
      "12/12 [==============================] - 0s 2ms/step - loss: 3.1829 - val_loss: 12.0630\n",
      "Epoch 144/200\n",
      "12/12 [==============================] - 0s 2ms/step - loss: 2.9615 - val_loss: 12.2905\n",
      "Epoch 145/200\n",
      "12/12 [==============================] - 0s 2ms/step - loss: 3.1549 - val_loss: 11.5426\n",
      "Epoch 146/200\n",
      "12/12 [==============================] - 0s 2ms/step - loss: 3.0098 - val_loss: 12.6824\n",
      "Epoch 147/200\n",
      "12/12 [==============================] - 0s 2ms/step - loss: 3.1149 - val_loss: 11.7259\n",
      "Epoch 148/200\n",
      "12/12 [==============================] - 0s 2ms/step - loss: 3.0970 - val_loss: 11.6969\n",
      "Epoch 149/200\n",
      "12/12 [==============================] - 0s 2ms/step - loss: 3.0172 - val_loss: 12.1791\n",
      "Epoch 150/200\n",
      "12/12 [==============================] - 0s 2ms/step - loss: 2.8666 - val_loss: 11.9903\n",
      "Epoch 151/200\n",
      "12/12 [==============================] - 0s 2ms/step - loss: 2.8657 - val_loss: 11.8332\n",
      "Epoch 152/200\n",
      "12/12 [==============================] - 0s 2ms/step - loss: 2.8106 - val_loss: 11.8424\n",
      "Epoch 153/200\n",
      "12/12 [==============================] - 0s 2ms/step - loss: 2.8013 - val_loss: 11.3179\n",
      "Epoch 154/200\n",
      "12/12 [==============================] - 0s 2ms/step - loss: 2.7609 - val_loss: 12.3160\n",
      "Epoch 155/200\n",
      "12/12 [==============================] - 0s 2ms/step - loss: 2.6338 - val_loss: 12.1602\n",
      "Epoch 156/200\n",
      "12/12 [==============================] - 0s 2ms/step - loss: 2.7709 - val_loss: 11.9889\n",
      "Epoch 157/200\n",
      "12/12 [==============================] - 0s 2ms/step - loss: 2.7210 - val_loss: 12.3630\n",
      "Epoch 158/200\n",
      "12/12 [==============================] - 0s 2ms/step - loss: 2.8763 - val_loss: 11.9439\n",
      "Epoch 159/200\n",
      "12/12 [==============================] - 0s 2ms/step - loss: 2.7993 - val_loss: 12.0545\n",
      "Epoch 160/200\n",
      "12/12 [==============================] - 0s 2ms/step - loss: 2.8384 - val_loss: 11.7047\n",
      "Epoch 161/200\n",
      "12/12 [==============================] - 0s 2ms/step - loss: 2.7702 - val_loss: 12.5727\n",
      "Epoch 162/200\n"
     ]
    },
    {
     "name": "stdout",
     "output_type": "stream",
     "text": [
      "12/12 [==============================] - 0s 2ms/step - loss: 2.8560 - val_loss: 12.4519\n",
      "Epoch 163/200\n",
      "12/12 [==============================] - 0s 2ms/step - loss: 2.8454 - val_loss: 11.8881\n",
      "Epoch 164/200\n",
      "12/12 [==============================] - 0s 2ms/step - loss: 2.6595 - val_loss: 11.3356\n",
      "Epoch 165/200\n",
      "12/12 [==============================] - 0s 2ms/step - loss: 2.5829 - val_loss: 11.1597\n",
      "Epoch 166/200\n",
      "12/12 [==============================] - 0s 2ms/step - loss: 2.6356 - val_loss: 11.4793\n",
      "Epoch 167/200\n",
      "12/12 [==============================] - 0s 2ms/step - loss: 2.5256 - val_loss: 11.7432\n",
      "Epoch 168/200\n",
      "12/12 [==============================] - 0s 2ms/step - loss: 2.4321 - val_loss: 11.5784\n",
      "Epoch 169/200\n",
      "12/12 [==============================] - 0s 2ms/step - loss: 2.4158 - val_loss: 11.9770\n",
      "Epoch 170/200\n",
      "12/12 [==============================] - 0s 2ms/step - loss: 2.4599 - val_loss: 11.4984\n",
      "Epoch 171/200\n",
      "12/12 [==============================] - 0s 2ms/step - loss: 2.3902 - val_loss: 11.7296\n",
      "Epoch 172/200\n",
      "12/12 [==============================] - 0s 2ms/step - loss: 2.4562 - val_loss: 11.2163\n",
      "Epoch 173/200\n",
      "12/12 [==============================] - 0s 2ms/step - loss: 2.5015 - val_loss: 11.7935\n",
      "Epoch 174/200\n",
      "12/12 [==============================] - 0s 2ms/step - loss: 2.5333 - val_loss: 12.0572\n",
      "Epoch 175/200\n",
      "12/12 [==============================] - 0s 2ms/step - loss: 2.4303 - val_loss: 11.9723\n",
      "Epoch 176/200\n",
      "12/12 [==============================] - 0s 2ms/step - loss: 2.4244 - val_loss: 11.5313\n",
      "Epoch 177/200\n",
      "12/12 [==============================] - 0s 2ms/step - loss: 2.2478 - val_loss: 11.7642\n",
      "Epoch 178/200\n",
      "12/12 [==============================] - 0s 2ms/step - loss: 2.2670 - val_loss: 12.8242\n",
      "Epoch 179/200\n",
      "12/12 [==============================] - 0s 2ms/step - loss: 2.3250 - val_loss: 11.5191\n",
      "Epoch 180/200\n",
      "12/12 [==============================] - 0s 2ms/step - loss: 2.2291 - val_loss: 11.5936\n",
      "Epoch 181/200\n",
      "12/12 [==============================] - 0s 2ms/step - loss: 2.2716 - val_loss: 12.0099\n",
      "Epoch 182/200\n",
      "12/12 [==============================] - 0s 2ms/step - loss: 2.0964 - val_loss: 12.8794\n",
      "Epoch 183/200\n",
      "12/12 [==============================] - 0s 2ms/step - loss: 2.4026 - val_loss: 12.0926\n",
      "Epoch 184/200\n",
      "12/12 [==============================] - 0s 2ms/step - loss: 2.5292 - val_loss: 12.2284\n",
      "Epoch 185/200\n",
      "12/12 [==============================] - 0s 2ms/step - loss: 2.5270 - val_loss: 12.3218\n",
      "Epoch 186/200\n",
      "12/12 [==============================] - 0s 2ms/step - loss: 2.1954 - val_loss: 12.2232\n",
      "Epoch 187/200\n",
      "12/12 [==============================] - 0s 2ms/step - loss: 2.0350 - val_loss: 11.7661\n",
      "Epoch 188/200\n",
      "12/12 [==============================] - 0s 2ms/step - loss: 2.2374 - val_loss: 11.2546\n",
      "Epoch 189/200\n",
      "12/12 [==============================] - 0s 2ms/step - loss: 2.1432 - val_loss: 12.0601\n",
      "Epoch 190/200\n",
      "12/12 [==============================] - 0s 2ms/step - loss: 2.0482 - val_loss: 12.0844\n",
      "Epoch 191/200\n",
      "12/12 [==============================] - 0s 2ms/step - loss: 1.9742 - val_loss: 11.6890\n",
      "Epoch 192/200\n",
      "12/12 [==============================] - 0s 2ms/step - loss: 1.9512 - val_loss: 11.7125\n",
      "Epoch 193/200\n",
      "12/12 [==============================] - 0s 2ms/step - loss: 2.0875 - val_loss: 12.3309\n",
      "Epoch 194/200\n",
      "12/12 [==============================] - 0s 2ms/step - loss: 2.2505 - val_loss: 13.1321\n",
      "Epoch 195/200\n",
      "12/12 [==============================] - 0s 2ms/step - loss: 2.0950 - val_loss: 12.5828\n",
      "Epoch 196/200\n",
      "12/12 [==============================] - 0s 2ms/step - loss: 1.8154 - val_loss: 12.5328\n",
      "Epoch 197/200\n",
      "12/12 [==============================] - 0s 2ms/step - loss: 2.0288 - val_loss: 12.0014\n",
      "Epoch 198/200\n",
      "12/12 [==============================] - 0s 2ms/step - loss: 1.8788 - val_loss: 11.8920\n",
      "Epoch 199/200\n",
      "12/12 [==============================] - 0s 2ms/step - loss: 1.7657 - val_loss: 12.5241\n",
      "Epoch 200/200\n",
      "12/12 [==============================] - 0s 2ms/step - loss: 1.9365 - val_loss: 12.5528\n"
     ]
    }
   ],
   "source": [
    "# 모델.fit()  반환 -> History : 학습한 내역(epoch별 검증 결과)을 묶어 제공\n",
    "hist = model.fit(train_dataset, # train dataset(tf.data - batch + shuffle) - (X, y)\n",
    "                 epochs=N_EPOCHS, # epoch 수\n",
    "                 validation_data=test_dataset) # validation dataset(tf.data) 제공 (X, y)\n",
    "# Dataset을 이용 학습 시 경우 validation_split 사용 불가"
   ]
  },
  {
   "cell_type": "markdown",
   "metadata": {
    "slideshow": {
     "slide_type": "slide"
    }
   },
   "source": [
    "##### 결과 시각화"
   ]
  },
  {
   "cell_type": "code",
   "execution_count": 40,
   "metadata": {
    "ExecuteTime": {
     "end_time": "2021-11-03T00:26:20.841629Z",
     "start_time": "2021-11-03T00:26:20.515761Z"
    },
    "slideshow": {
     "slide_type": "fragment"
    }
   },
   "outputs": [],
   "source": [
    "import matplotlib.pyplot as plt"
   ]
  },
  {
   "cell_type": "code",
   "execution_count": 41,
   "metadata": {
    "ExecuteTime": {
     "end_time": "2021-11-03T00:26:23.852973Z",
     "start_time": "2021-11-03T00:26:23.696962Z"
    },
    "slideshow": {
     "slide_type": "fragment"
    }
   },
   "outputs": [
    {
     "data": {
      "image/png": "[encoded data removed]",
      "text/plain": [
       "<Figure size 576x432 with 1 Axes>"
      ]
     },
     "metadata": {
      "needs_background": "light"
     },
     "output_type": "display_data"
    }
   ],
   "source": [
    "plt.figure(figsize=(8,6))\n",
    "plt.plot(range(1,N_EPOCHS+1), hist.history['loss'], label='Train Loss')\n",
    "plt.plot(range(1,N_EPOCHS+1), hist.history['val_loss'], label='Validation Loss')\n",
    "plt.xlabel(\"Epochs\")\n",
    "plt.ylabel('Loss')\n",
    "plt.legend()\n",
    "plt.show()"
   ]
  },
  {
   "cell_type": "code",
   "execution_count": 42,
   "metadata": {
    "ExecuteTime": {
     "end_time": "2021-11-03T00:26:26.920761Z",
     "start_time": "2021-11-03T00:26:26.792037Z"
    },
    "slideshow": {
     "slide_type": "fragment"
    }
   },
   "outputs": [
    {
     "data": {
      "image/png": "[encoded data removed]",
      "text/plain": [
       "<Figure size 576x432 with 1 Axes>"
      ]
     },
     "metadata": {
      "needs_background": "light"
     },
     "output_type": "display_data"
    }
   ],
   "source": [
    "plt.figure(figsize=(8,6))\n",
    "plt.plot(range(1,N_EPOCHS+1), hist.history['loss'], label='Train Loss')\n",
    "plt.plot(range(1,N_EPOCHS+1), hist.history['val_loss'], label='Validation Loss')\n",
    "plt.xlabel(\"Epochs\")\n",
    "plt.ylabel('Loss')\n",
    "\n",
    "plt.ylim(0,50) # y축 값의 범위를 제한\n",
    "\n",
    "plt.legend()\n",
    "plt.show()"
   ]
  },
  {
   "cell_type": "markdown",
   "metadata": {
    "slideshow": {
     "slide_type": "slide"
    }
   },
   "source": [
    "##### 최종 테스트"
   ]
  },
  {
   "cell_type": "code",
   "execution_count": 43,
   "metadata": {
    "ExecuteTime": {
     "end_time": "2021-11-03T00:26:48.210620Z",
     "start_time": "2021-11-03T00:26:48.162252Z"
    },
    "slideshow": {
     "slide_type": "fragment"
    }
   },
   "outputs": [
    {
     "name": "stdout",
     "output_type": "stream",
     "text": [
      "4/4 [==============================] - 0s 2ms/step - loss: 12.5528\n",
      "12.552796363830566\n"
     ]
    }
   ],
   "source": [
    "loss = model.evaluate(test_dataset)\n",
    "print(loss)"
   ]
  },
  {
   "cell_type": "markdown",
   "metadata": {
    "slideshow": {
     "slide_type": "slide"
    }
   },
   "source": [
    "##### 모델 네트워크 저장"
   ]
  },
  {
   "cell_type": "code",
   "execution_count": 44,
   "metadata": {
    "ExecuteTime": {
     "end_time": "2021-11-03T00:27:08.142867Z",
     "start_time": "2021-11-03T00:27:07.489865Z"
    },
    "slideshow": {
     "slide_type": "fragment"
    }
   },
   "outputs": [
    {
     "name": "stdout",
     "output_type": "stream",
     "text": [
      "INFO:tensorflow:Assets written to: models/boston_hosing_model\\assets\n"
     ]
    }
   ],
   "source": [
    "model.save('models/boston_hosing_model')"
   ]
  },
  {
   "cell_type": "markdown",
   "metadata": {
    "slideshow": {
     "slide_type": "slide"
    }
   },
   "source": [
    "##### 새로운 데이터 추론"
   ]
  },
  {
   "cell_type": "code",
   "execution_count": 45,
   "metadata": {
    "ExecuteTime": {
     "end_time": "2021-11-03T00:28:25.092114Z",
     "start_time": "2021-11-03T00:28:24.972757Z"
    },
    "slideshow": {
     "slide_type": "fragment"
    }
   },
   "outputs": [
    {
     "name": "stdout",
     "output_type": "stream",
     "text": [
      "1/1 [==============================] - 0s 68ms/step\n"
     ]
    }
   ],
   "source": [
    "new_data = X_test[:5]\n",
    "# model.predict(추론한 Feature) : 추론결과\n",
    "pred = model.predict(new_data)"
   ]
  },
  {
   "cell_type": "code",
   "execution_count": 46,
   "metadata": {
    "ExecuteTime": {
     "end_time": "2021-11-03T00:28:26.346282Z",
     "start_time": "2021-11-03T00:28:26.339282Z"
    },
    "slideshow": {
     "slide_type": "fragment"
    }
   },
   "outputs": [
    {
     "data": {
      "text/plain": [
       "array([[ 8.571018],\n",
       "       [18.152143],\n",
       "       [20.61677 ],\n",
       "       [32.03618 ],\n",
       "       [24.65509 ]], dtype=float32)"
      ]
     },
     "execution_count": 46,
     "metadata": {},
     "output_type": "execute_result"
    }
   ],
   "source": [
    "pred"
   ]
  },
  {
   "cell_type": "code",
   "execution_count": 47,
   "metadata": {
    "ExecuteTime": {
     "end_time": "2021-11-03T00:28:28.308367Z",
     "start_time": "2021-11-03T00:28:28.297334Z"
    },
    "slideshow": {
     "slide_type": "fragment"
    }
   },
   "outputs": [
    {
     "data": {
      "text/plain": [
       "array([ 7.2, 18.8, 19. , 27. , 22.2])"
      ]
     },
     "execution_count": 47,
     "metadata": {},
     "output_type": "execute_result"
    }
   ],
   "source": [
    "test_y[:5]"
   ]
  },
  {
   "cell_type": "markdown",
   "metadata": {
    "slideshow": {
     "slide_type": "slide"
    }
   },
   "source": [
    "# 분류 (Classification)\n",
    "\n",
    "## Fashion MNIST Dataset - 다중분류(Multi-Class Classification) 문제"
   ]
  },
  {
   "cell_type": "markdown",
   "metadata": {
    "slideshow": {
     "slide_type": "fragment"
    }
   },
   "source": [
    "10개의 범주(category)와 70,000개의 흑백 이미지로 구성된 [패션 MNIST](https://github.com/zalandoresearch/fashion-mnist) 데이터셋. \n",
    "이미지는 해상도(28x28 픽셀)가 낮고 다음처럼 개별 의류 품목을 나타낸다:\n",
    "\n",
    "<table>\n",
    "  <tr><td>\n",
    "    <img src=\"https://tensorflow.org/images/fashion-mnist-sprite.png\"\n",
    "         alt=\"Fashion MNIST sprite\"  width=\"600\">\n",
    "  </td></tr>\n",
    "  <tr><td align=\"center\">\n",
    "    <b>그림</b> <a href=\"https://github.com/zalandoresearch/fashion-mnist\">패션-MNIST 샘플</a> (Zalando, MIT License).<br/>&nbsp;\n",
    "  </td></tr>\n",
    "</table>"
   ]
  },
  {
   "cell_type": "markdown",
   "metadata": {
    "slideshow": {
     "slide_type": "fragment"
    }
   },
   "source": [
    "이미지는 28x28 크기이며 Gray scale이다. *레이블*(label)은 0에서 9까지의 정수 배열이다. 아래 표는 이미지에 있는 의류의 **클래스**(class)들\n",
    "\n",
    "<table>\n",
    "  <tr>\n",
    "    <th>레이블</th>\n",
    "    <th>클래스</th>\n",
    "  </tr>\n",
    "  <tr>\n",
    "    <td>0</td>\n",
    "    <td>T-shirt/top</td>\n",
    "  </tr>\n",
    "  <tr>\n",
    "    <td>1</td>\n",
    "    <td>Trousers</td>\n",
    "  </tr>\n",
    "    <tr>\n",
    "    <td>2</td>\n",
    "    <td>Pullover</td>\n",
    "  </tr>\n",
    "    <tr>\n",
    "    <td>3</td>\n",
    "    <td>Dress</td>\n",
    "  </tr>\n",
    "    <tr>\n",
    "    <td>4</td>\n",
    "    <td>Coat</td>\n",
    "  </tr>\n",
    "    <tr>\n",
    "    <td>5</td>\n",
    "    <td>Sandal</td>\n",
    "  </tr>\n",
    "    <tr>\n",
    "    <td>6</td>\n",
    "    <td>Shirt</td>\n",
    "  </tr>\n",
    "    <tr>\n",
    "    <td>7</td>\n",
    "    <td>Sneaker</td>\n",
    "  </tr>\n",
    "    <tr>\n",
    "    <td>8</td>\n",
    "    <td>Bag</td>\n",
    "  </tr>\n",
    "    <tr>\n",
    "    <td>9</td>\n",
    "    <td>Ankle boot</td>\n",
    "  </tr>\n",
    "</table>\n",
    "\n",
    "각 이미지는 하나의 레이블에 매핑되어 있다. 데이터셋에 클래스 이름이 들어있지 않기 때문에 나중에 이미지를 출력할 때 사용하기 위해 별도의 변수를 만들어 저장"
   ]
  },
  {
   "cell_type": "code",
   "execution_count": 48,
   "metadata": {
    "ExecuteTime": {
     "end_time": "2021-11-03T00:47:06.072078Z",
     "start_time": "2021-11-03T00:47:06.056411Z"
    },
    "slideshow": {
     "slide_type": "slide"
    }
   },
   "outputs": [],
   "source": [
    "import numpy as np\n",
    "import tensorflow as tf\n",
    "from tensorflow import keras\n",
    "from tensorflow.keras import layers\n",
    "import matplotlib.pyplot as plt\n",
    "\n",
    "np.random.seed(0)\n",
    "tf.random.set_seed(0)"
   ]
  },
  {
   "cell_type": "code",
   "execution_count": 49,
   "metadata": {
    "ExecuteTime": {
     "end_time": "2021-11-03T00:47:08.417890Z",
     "start_time": "2021-11-03T00:47:08.409857Z"
    },
    "slideshow": {
     "slide_type": "fragment"
    }
   },
   "outputs": [],
   "source": [
    "class_names = np.array(['T-shirt/top', 'Trousers', 'Pullover', 'Dress', 'Coat', 'Sandal', 'Shirt', 'Sneaker', 'Bag', 'Ankle boot'])"
   ]
  },
  {
   "cell_type": "markdown",
   "metadata": {
    "slideshow": {
     "slide_type": "slide"
    }
   },
   "source": [
    "##### Data 로딩"
   ]
  },
  {
   "cell_type": "code",
   "execution_count": 50,
   "metadata": {
    "ExecuteTime": {
     "end_time": "2021-11-03T00:47:16.054009Z",
     "start_time": "2021-11-03T00:47:15.714441Z"
    },
    "slideshow": {
     "slide_type": "fragment"
    }
   },
   "outputs": [],
   "source": [
    "(train_image, train_label), (test_image, test_label) = keras.datasets.fashion_mnist.load_data()"
   ]
  },
  {
   "cell_type": "markdown",
   "metadata": {
    "slideshow": {
     "slide_type": "fragment"
    }
   },
   "source": [
    "##### validation set  생성"
   ]
  },
  {
   "cell_type": "code",
   "execution_count": 51,
   "metadata": {
    "ExecuteTime": {
     "end_time": "2021-11-03T00:47:26.450100Z",
     "start_time": "2021-11-03T00:47:26.393999Z"
    },
    "slideshow": {
     "slide_type": "fragment"
    }
   },
   "outputs": [
    {
     "data": {
      "text/plain": [
       "((48000, 28, 28), (12000, 28, 28), (10000, 28, 28))"
      ]
     },
     "execution_count": 51,
     "metadata": {},
     "output_type": "execute_result"
    }
   ],
   "source": [
    "# Train dataset => Train/Vailidation 분리\n",
    "from sklearn.model_selection import train_test_split\n",
    "\n",
    "train_image, val_image, train_label, val_label = train_test_split(train_image, train_label, test_size=0.2, stratify=train_label, random_state=0)\n",
    "\n",
    "train_image.shape, val_image.shape, test_image.shape"
   ]
  },
  {
   "cell_type": "markdown",
   "metadata": {
    "slideshow": {
     "slide_type": "slide"
    }
   },
   "source": [
    "##### 이미지 확인"
   ]
  },
  {
   "cell_type": "code",
   "execution_count": 52,
   "metadata": {
    "ExecuteTime": {
     "end_time": "2021-11-03T00:49:25.876438Z",
     "start_time": "2021-11-03T00:49:25.130004Z"
    },
    "scrolled": false,
    "slideshow": {
     "slide_type": "fragment"
    }
   },
   "outputs": [
    {
     "data": {
      "image/png": "[encoded data removed]",
      "text/plain": [
       "<Figure size 720x720 with 25 Axes>"
      ]
     },
     "metadata": {},
     "output_type": "display_data"
    }
   ],
   "source": [
    "plt.figure(figsize=(10,10))\n",
    "for i in range(25):\n",
    "    plt.subplot(5,5,i+1)\n",
    "    plt.xticks([])\n",
    "    plt.yticks([])\n",
    "    plt.imshow(train_image[i], cmap=\"Greys\")\n",
    "    plt.xlabel(class_names[train_label[i]])\n",
    "\n",
    "plt.tight_layout()\n",
    "plt.show()"
   ]
  },
  {
   "cell_type": "markdown",
   "metadata": {
    "slideshow": {
     "slide_type": "slide"
    }
   },
   "source": [
    "#### 하이퍼파라미터, 변수 설정"
   ]
  },
  {
   "cell_type": "code",
   "execution_count": 53,
   "metadata": {
    "ExecuteTime": {
     "end_time": "2021-11-03T00:50:08.423973Z",
     "start_time": "2021-11-03T00:50:08.412998Z"
    },
    "slideshow": {
     "slide_type": "fragment"
    }
   },
   "outputs": [],
   "source": [
    "LEARNING_RATE = 0.001\n",
    "N_EPOCHS = 20\n",
    "N_BATCHS = 100\n",
    "\n",
    "# 각 데이터 셋의 데이터 개수를 변수에 저장\n",
    "N_TRAIN = train_image.shape[0]\n",
    "N_VAL = val_image.shape[0]\n",
    "N_TEST = test_image.shape[0]"
   ]
  },
  {
   "cell_type": "markdown",
   "metadata": {
    "slideshow": {
     "slide_type": "fragment"
    }
   },
   "source": [
    "#### X, y  전처리\n",
    "- y값 처리\n",
    "    - 다중 분류에서 label encoding 형식의 label을 one hot encoding 처리\n",
    "    - 모델이 각 클래스별 확률을 출력하도록 구현 -> loss 계산을 위해 y(ground truth-정답)를 one hot encoding 처리"
   ]
  },
  {
   "cell_type": "code",
   "execution_count": 54,
   "metadata": {
    "ExecuteTime": {
     "end_time": "2021-11-03T00:50:14.644235Z",
     "start_time": "2021-11-03T00:50:14.627229Z"
    },
    "slideshow": {
     "slide_type": "fragment"
    }
   },
   "outputs": [
    {
     "name": "stdout",
     "output_type": "stream",
     "text": [
      "(48000, 10) (12000, 10) (10000, 10)\n"
     ]
    }
   ],
   "source": [
    "y_train = keras.utils.to_categorical(train_label)\n",
    "y_val = keras.utils.to_categorical(val_label)\n",
    "y_test = keras.utils.to_categorical(test_label)\n",
    "print(y_train.shape, y_val.shape, y_test.shape)"
   ]
  },
  {
   "cell_type": "markdown",
   "metadata": {
    "slideshow": {
     "slide_type": "fragment"
    }
   },
   "source": [
    "- x값(이미지) 처리\n",
    "    - dtype을 uint8에서 float32로 변환한다.\n",
    "    - 0 ~ 1 정규화. X/255.0으로 나눈다.\n",
    "    "
   ]
  },
  {
   "cell_type": "code",
   "execution_count": 55,
   "metadata": {
    "ExecuteTime": {
     "end_time": "2021-11-03T00:50:23.474850Z",
     "start_time": "2021-11-03T00:50:23.392977Z"
    },
    "slideshow": {
     "slide_type": "fragment"
    }
   },
   "outputs": [],
   "source": [
    "X_train = train_image.astype(np.float32)\n",
    "X_val = val_image.astype(np.float32)\n",
    "X_test = test_image.astype(np.float32)\n",
    "\n",
    "# 255로 나누는 작업은 dataset 생성 시 map을 이용하여 처리 예정 - 실제 활용시 map을 사용하는 것은 비효율적 -> 직접 255로 나누는 것이 효율적"
   ]
  },
  {
   "cell_type": "markdown",
   "metadata": {
    "slideshow": {
     "slide_type": "slide"
    }
   },
   "source": [
    "##### Dataset 생성"
   ]
  },
  {
   "cell_type": "code",
   "execution_count": 56,
   "metadata": {
    "ExecuteTime": {
     "end_time": "2021-11-03T00:50:46.169253Z",
     "start_time": "2021-11-03T00:50:45.834414Z"
    },
    "slideshow": {
     "slide_type": "fragment"
    }
   },
   "outputs": [],
   "source": [
    "# map : X, y를 받아 X는 255로 나누어 정규화 처리, y는 그대로 반환\n",
    "train_dataset = tf.data.Dataset.from_tensor_slices((X_train, y_train))\\\n",
    "                               .map(lambda x, y : (x/255, y))\\\n",
    "                               .shuffle(N_TRAIN)\\\n",
    "                               .batch(N_BATCHS, drop_remainder=True)\n",
    "\n",
    "val_dataset = tf.data.Dataset.from_tensor_slices((X_val, y_val)).map(lambda x, y:(x/255, y)).batch(N_BATCHS)\n",
    "test_dataset = tf.data.Dataset.from_tensor_slices((X_test, y_test)).map(lambda x, y:(x/255, y)).batch(N_BATCHS)"
   ]
  },
  {
   "cell_type": "markdown",
   "metadata": {
    "slideshow": {
     "slide_type": "slide"
    }
   },
   "source": [
    "##### 모델 생성 및 컴파일"
   ]
  },
  {
   "cell_type": "code",
   "execution_count": 57,
   "metadata": {
    "ExecuteTime": {
     "end_time": "2021-11-03T00:51:29.420936Z",
     "start_time": "2021-11-03T00:51:29.411925Z"
    },
    "slideshow": {
     "slide_type": "fragment"
    }
   },
   "outputs": [],
   "source": [
    "def create_fashionmnist_model():\n",
    "    model = keras.Sequential()\n",
    "    # Hidden Layer\n",
    "    # 1. Flatten + Input_shape를 지정하여 Input Layer를 추가\n",
    "    # model.add(Layers.InputLayer((28, 28)))\n",
    "    model.add(layers.Flatten(input_shape=(28,28)))\n",
    "    # Flatten : 입력 데이터의 shape이 다차원 배열일 경우 1차원 배열러 변환 (28, 28) -> (28*28, ) => DenseLayer의 입력은 1차원배열이 되어야 함\n",
    "    model.add(layers.Dense(units=256, activation='relu'))\n",
    "    model.add(layers.Dense(units=128, activation='relu'))\n",
    "    model.add(layers.Dense(units=64, activation='relu'))\n",
    "    \n",
    "    # Output Layer : 다중분류 - unit의 수 : class 수 (각 unit이 클래스별 확률 출력) => activation 함수 : soft max\n",
    "    model.add(layers.Dense(units=10, activation='softmax'))\n",
    "    \n",
    "    return model"
   ]
  },
  {
   "cell_type": "code",
   "execution_count": 58,
   "metadata": {
    "ExecuteTime": {
     "end_time": "2021-11-03T00:51:36.406169Z",
     "start_time": "2021-11-03T00:51:36.339074Z"
    },
    "slideshow": {
     "slide_type": "fragment"
    }
   },
   "outputs": [],
   "source": [
    "model = create_fashionmnist_model()\n",
    "\n",
    "# 컴파일 \n",
    "# 다중분류 : loss - categorical crossentropy (Log loss)\n",
    "model.compile(optimizer=keras.optimizers.Adam(learning_rate=LEARNING_RATE), \n",
    "              loss='categorical_crossentropy',\n",
    "              metrics=['accuracy']) # 평가기표 accuracy 추가 (loss, accuracy 두개를 검증/최종 평가 지표로 확인)"
   ]
  },
  {
   "cell_type": "code",
   "execution_count": 59,
   "metadata": {
    "ExecuteTime": {
     "end_time": "2021-11-03T00:51:38.364828Z",
     "start_time": "2021-11-03T00:51:38.354855Z"
    },
    "slideshow": {
     "slide_type": "fragment"
    }
   },
   "outputs": [
    {
     "name": "stdout",
     "output_type": "stream",
     "text": [
      "Model: \"sequential_1\"\n",
      "_________________________________________________________________\n",
      " Layer (type)                Output Shape              Param #   \n",
      "=================================================================\n",
      " flatten (Flatten)           (None, 784)               0         \n",
      "                                                                 \n",
      " dense_5 (Dense)             (None, 256)               200960    \n",
      "                                                                 \n",
      " dense_6 (Dense)             (None, 128)               32896     \n",
      "                                                                 \n",
      " dense_7 (Dense)             (None, 64)                8256      \n",
      "                                                                 \n",
      " dense_8 (Dense)             (None, 10)                650       \n",
      "                                                                 \n",
      "=================================================================\n",
      "Total params: 242,762\n",
      "Trainable params: 242,762\n",
      "Non-trainable params: 0\n",
      "_________________________________________________________________\n"
     ]
    }
   ],
   "source": [
    "model.summary()"
   ]
  },
  {
   "cell_type": "code",
   "execution_count": 60,
   "metadata": {
    "ExecuteTime": {
     "end_time": "2021-11-03T00:52:05.523556Z",
     "start_time": "2021-11-03T00:52:05.291154Z"
    },
    "slideshow": {
     "slide_type": "fragment"
    }
   },
   "outputs": [
    {
     "data": {
      "image/png": "[encoded data removed]",
      "text/plain": [
       "<IPython.core.display.Image object>"
      ]
     },
     "execution_count": 60,
     "metadata": {},
     "output_type": "execute_result"
    }
   ],
   "source": [
    "keras.utils.plot_model(model, show_shapes=True, to_file='fashion_mnist_model.png')"
   ]
  },
  {
   "cell_type": "markdown",
   "metadata": {
    "slideshow": {
     "slide_type": "slide"
    }
   },
   "source": [
    "##### Train(학습)"
   ]
  },
  {
   "cell_type": "code",
   "execution_count": 61,
   "metadata": {
    "ExecuteTime": {
     "end_time": "2021-11-03T00:52:33.784862Z",
     "start_time": "2021-11-03T00:52:17.884056Z"
    },
    "scrolled": false,
    "slideshow": {
     "slide_type": "fragment"
    }
   },
   "outputs": [
    {
     "name": "stdout",
     "output_type": "stream",
     "text": [
      "Epoch 1/20\n",
      "480/480 [==============================] - 2s 3ms/step - loss: 0.5463 - accuracy: 0.8107 - val_loss: 0.4194 - val_accuracy: 0.8471\n",
      "Epoch 2/20\n",
      "480/480 [==============================] - 2s 3ms/step - loss: 0.3825 - accuracy: 0.8637 - val_loss: 0.3921 - val_accuracy: 0.8562\n",
      "Epoch 3/20\n",
      "480/480 [==============================] - 2s 3ms/step - loss: 0.3408 - accuracy: 0.8761 - val_loss: 0.3582 - val_accuracy: 0.8660\n",
      "Epoch 4/20\n",
      "480/480 [==============================] - 2s 3ms/step - loss: 0.3160 - accuracy: 0.8832 - val_loss: 0.3191 - val_accuracy: 0.8826\n",
      "Epoch 5/20\n",
      "480/480 [==============================] - 2s 3ms/step - loss: 0.2968 - accuracy: 0.8899 - val_loss: 0.3247 - val_accuracy: 0.8817\n",
      "Epoch 6/20\n",
      "480/480 [==============================] - 2s 3ms/step - loss: 0.2783 - accuracy: 0.8971 - val_loss: 0.3249 - val_accuracy: 0.8822\n",
      "Epoch 7/20\n",
      "480/480 [==============================] - 2s 3ms/step - loss: 0.2652 - accuracy: 0.9009 - val_loss: 0.3186 - val_accuracy: 0.8815\n",
      "Epoch 8/20\n",
      "480/480 [==============================] - 2s 3ms/step - loss: 0.2568 - accuracy: 0.9032 - val_loss: 0.3072 - val_accuracy: 0.8864\n",
      "Epoch 9/20\n",
      "480/480 [==============================] - 2s 3ms/step - loss: 0.2438 - accuracy: 0.9085 - val_loss: 0.3212 - val_accuracy: 0.8849\n",
      "Epoch 10/20\n",
      "480/480 [==============================] - 2s 3ms/step - loss: 0.2350 - accuracy: 0.9117 - val_loss: 0.3039 - val_accuracy: 0.8903\n",
      "Epoch 11/20\n",
      "480/480 [==============================] - 2s 3ms/step - loss: 0.2284 - accuracy: 0.9135 - val_loss: 0.3026 - val_accuracy: 0.8927\n",
      "Epoch 12/20\n",
      "480/480 [==============================] - 2s 3ms/step - loss: 0.2195 - accuracy: 0.9169 - val_loss: 0.3009 - val_accuracy: 0.8917\n",
      "Epoch 13/20\n",
      "480/480 [==============================] - 2s 3ms/step - loss: 0.2099 - accuracy: 0.9206 - val_loss: 0.3043 - val_accuracy: 0.8903\n",
      "Epoch 14/20\n",
      "480/480 [==============================] - 2s 3ms/step - loss: 0.2038 - accuracy: 0.9243 - val_loss: 0.2993 - val_accuracy: 0.8953\n",
      "Epoch 15/20\n",
      "480/480 [==============================] - 2s 3ms/step - loss: 0.1965 - accuracy: 0.9255 - val_loss: 0.3507 - val_accuracy: 0.8831\n",
      "Epoch 16/20\n",
      "480/480 [==============================] - 2s 3ms/step - loss: 0.1906 - accuracy: 0.9270 - val_loss: 0.3207 - val_accuracy: 0.8895\n",
      "Epoch 17/20\n",
      "480/480 [==============================] - 2s 3ms/step - loss: 0.1793 - accuracy: 0.9309 - val_loss: 0.3305 - val_accuracy: 0.8867\n",
      "Epoch 18/20\n",
      "480/480 [==============================] - 2s 3ms/step - loss: 0.1817 - accuracy: 0.9315 - val_loss: 0.3234 - val_accuracy: 0.8923\n",
      "Epoch 19/20\n",
      "480/480 [==============================] - 2s 4ms/step - loss: 0.1700 - accuracy: 0.9354 - val_loss: 0.3361 - val_accuracy: 0.8951\n",
      "Epoch 20/20\n",
      "480/480 [==============================] - 2s 3ms/step - loss: 0.1614 - accuracy: 0.9381 - val_loss: 0.3415 - val_accuracy: 0.8894\n"
     ]
    }
   ],
   "source": [
    "hist = model.fit(train_dataset,\n",
    "                 epochs=N_EPOCHS,\n",
    "                 validation_data=val_dataset)"
   ]
  },
  {
   "cell_type": "markdown",
   "metadata": {
    "slideshow": {
     "slide_type": "fragment"
    }
   },
   "source": [
    "##### 결과 시각화\n",
    "- 학습 시 epoch별 train/validation set 에 대한 검증 결과 시각화"
   ]
  },
  {
   "cell_type": "code",
   "execution_count": 62,
   "metadata": {
    "ExecuteTime": {
     "end_time": "2021-11-03T00:53:47.655062Z",
     "start_time": "2021-11-03T00:53:47.523937Z"
    },
    "slideshow": {
     "slide_type": "fragment"
    }
   },
   "outputs": [
    {
     "data": {
      "image/png": "[encoded data removed]",
      "text/plain": [
       "<Figure size 504x432 with 1 Axes>"
      ]
     },
     "metadata": {
      "needs_background": "light"
     },
     "output_type": "display_data"
    }
   ],
   "source": [
    "# loss\n",
    "plt.figure(figsize=(7,6))\n",
    "plt.plot(range(1, N_EPOCHS+1), hist.history['loss'], label='train loss')\n",
    "plt.plot(range(1, N_EPOCHS+1), hist.history['val_loss'], label='validation loss')\n",
    "plt.title(\"LOSS\", fontsize=20)\n",
    "plt.xlabel(\"Epochs\")\n",
    "plt.ylabel(\"Loss\")\n",
    "plt.legend()\n",
    "plt.show()"
   ]
  },
  {
   "cell_type": "code",
   "execution_count": 63,
   "metadata": {
    "ExecuteTime": {
     "end_time": "2021-11-03T00:54:00.384594Z",
     "start_time": "2021-11-03T00:54:00.250062Z"
    },
    "scrolled": false,
    "slideshow": {
     "slide_type": "fragment"
    }
   },
   "outputs": [
    {
     "data": {
      "image/png": "[encoded data removed]",
      "text/plain": [
       "<Figure size 504x432 with 1 Axes>"
      ]
     },
     "metadata": {
      "needs_background": "light"
     },
     "output_type": "display_data"
    }
   ],
   "source": [
    "# accuracy\n",
    "plt.figure(figsize=(7,6))\n",
    "plt.plot(range(1, N_EPOCHS+1), hist.history['accuracy'], label='train accuracy')\n",
    "plt.plot(range(1, N_EPOCHS+1), hist.history['val_accuracy'], label='validation accuracy')\n",
    "plt.title(\"Accuracy\", fontsize=20)\n",
    "plt.xlabel(\"Epochs\")\n",
    "plt.ylabel(\"Accuracy\")\n",
    "plt.legend()\n",
    "plt.show()"
   ]
  },
  {
   "cell_type": "markdown",
   "metadata": {
    "slideshow": {
     "slide_type": "slide"
    }
   },
   "source": [
    "#### 최종평가"
   ]
  },
  {
   "cell_type": "code",
   "execution_count": 64,
   "metadata": {
    "ExecuteTime": {
     "end_time": "2021-11-03T00:54:08.281394Z",
     "start_time": "2021-11-03T00:54:07.619852Z"
    },
    "scrolled": true,
    "slideshow": {
     "slide_type": "fragment"
    }
   },
   "outputs": [
    {
     "name": "stdout",
     "output_type": "stream",
     "text": [
      "100/100 [==============================] - 0s 2ms/step - loss: 0.3765 - accuracy: 0.8830\n"
     ]
    }
   ],
   "source": [
    "loss, accuracy = model.evaluate(test_dataset)"
   ]
  },
  {
   "cell_type": "code",
   "execution_count": 65,
   "metadata": {
    "ExecuteTime": {
     "end_time": "2021-11-03T00:54:12.226598Z",
     "start_time": "2021-11-03T00:54:12.218569Z"
    },
    "slideshow": {
     "slide_type": "fragment"
    }
   },
   "outputs": [
    {
     "name": "stdout",
     "output_type": "stream",
     "text": [
      "0.3765295743942261 0.8830000162124634\n"
     ]
    }
   ],
   "source": [
    "print(loss, accuracy)"
   ]
  },
  {
   "cell_type": "markdown",
   "metadata": {},
   "source": [
    "####  모델저장"
   ]
  },
  {
   "cell_type": "code",
   "execution_count": 66,
   "metadata": {},
   "outputs": [
    {
     "name": "stdout",
     "output_type": "stream",
     "text": [
      "INFO:tensorflow:Assets written to: models/fashion_mnist_model\\assets\n"
     ]
    }
   ],
   "source": [
    "model.save('models/fashion_mnist_model')"
   ]
  },
  {
   "cell_type": "markdown",
   "metadata": {},
   "source": [
    "#### 모델 불러오기"
   ]
  },
  {
   "cell_type": "code",
   "execution_count": 67,
   "metadata": {},
   "outputs": [],
   "source": [
    "f_model = keras.models.load_model('models/fashion_mnist_model')"
   ]
  },
  {
   "cell_type": "markdown",
   "metadata": {
    "slideshow": {
     "slide_type": "slide"
    }
   },
   "source": [
    "#### 새로운 데이터 추론"
   ]
  },
  {
   "cell_type": "code",
   "execution_count": 68,
   "metadata": {
    "ExecuteTime": {
     "end_time": "2021-11-03T00:54:17.195599Z",
     "start_time": "2021-11-03T00:54:17.187618Z"
    },
    "slideshow": {
     "slide_type": "fragment"
    }
   },
   "outputs": [],
   "source": [
    "new_input = X_test[:5]\n",
    "new_input = new_input/255.0"
   ]
  },
  {
   "cell_type": "code",
   "execution_count": 69,
   "metadata": {
    "ExecuteTime": {
     "end_time": "2021-11-03T00:56:14.884900Z",
     "start_time": "2021-11-03T00:56:14.836879Z"
    },
    "slideshow": {
     "slide_type": "fragment"
    }
   },
   "outputs": [
    {
     "name": "stdout",
     "output_type": "stream",
     "text": [
      "1/1 [==============================] - 0s 46ms/step\n"
     ]
    },
    {
     "data": {
      "text/plain": [
       "array([1.7831832e-06, 4.1221369e-08, 1.4202851e-09, 1.3960959e-06,\n",
       "       7.4161954e-10, 4.2640084e-05, 9.2496126e-09, 4.2652674e-03,\n",
       "       4.2428092e-09, 9.9568886e-01], dtype=float32)"
      ]
     },
     "execution_count": 69,
     "metadata": {},
     "output_type": "execute_result"
    }
   ],
   "source": [
    "pred = model.predict(new_input)\n",
    "pred[0]"
   ]
  },
  {
   "cell_type": "code",
   "execution_count": 70,
   "metadata": {
    "ExecuteTime": {
     "end_time": "2021-11-03T00:54:20.055845Z",
     "start_time": "2021-11-03T00:54:20.043810Z"
    },
    "slideshow": {
     "slide_type": "fragment"
    }
   },
   "outputs": [
    {
     "data": {
      "text/plain": [
       "array([9, 2, 1, 1, 6], dtype=int64)"
      ]
     },
     "execution_count": 70,
     "metadata": {},
     "output_type": "execute_result"
    }
   ],
   "source": [
    "# 예측한 label\n",
    "pred_class = np.argmax(pred, axis=-1) # argmax() max값의 index\n",
    "pred_class # 모델이 예측한 label"
   ]
  },
  {
   "cell_type": "code",
   "execution_count": 71,
   "metadata": {
    "ExecuteTime": {
     "end_time": "2021-11-03T00:54:25.841265Z",
     "start_time": "2021-11-03T00:54:25.829247Z"
    },
    "slideshow": {
     "slide_type": "fragment"
    }
   },
   "outputs": [
    {
     "data": {
      "text/plain": [
       "array([9, 2, 1, 1, 6], dtype=uint8)"
      ]
     },
     "execution_count": 71,
     "metadata": {},
     "output_type": "execute_result"
    }
   ],
   "source": [
    "test_label[:5] # 정답 label"
   ]
  },
  {
   "cell_type": "code",
   "execution_count": 72,
   "metadata": {
    "ExecuteTime": {
     "end_time": "2021-11-03T00:56:30.733619Z",
     "start_time": "2021-11-03T00:56:30.713647Z"
    },
    "slideshow": {
     "slide_type": "fragment"
    }
   },
   "outputs": [
    {
     "data": {
      "text/plain": [
       "array(['Ankle boot', 'Pullover', 'Trousers', 'Trousers', 'Shirt'],\n",
       "      dtype='<U11')"
      ]
     },
     "execution_count": 72,
     "metadata": {},
     "output_type": "execute_result"
    }
   ],
   "source": [
    "pred_class_name = class_names[pred_class]\n",
    "pred_class_name"
   ]
  },
  {
   "cell_type": "code",
   "execution_count": 73,
   "metadata": {},
   "outputs": [
    {
     "data": {
      "text/plain": [
       "array([0.99568886, 0.9939008 , 1.        , 1.        , 0.98794425],\n",
       "      dtype=float32)"
      ]
     },
     "execution_count": 73,
     "metadata": {},
     "output_type": "execute_result"
    }
   ],
   "source": [
    "pred_proba = np.max(pred, axis=-1) # 예측한 정답에 대한 확률\n",
    "pred_proba"
   ]
  },
  {
   "cell_type": "code",
   "execution_count": 74,
   "metadata": {},
   "outputs": [
    {
     "name": "stdout",
     "output_type": "stream",
     "text": [
      "0. Ankle boot: 0.9957\n",
      "1. Pullover: 0.9939\n",
      "2. Trousers: 1.0000\n",
      "3. Trousers: 1.0000\n",
      "4. Shirt: 0.9879\n"
     ]
    }
   ],
   "source": [
    "for idx, (name, proba) in enumerate(zip(pred_class_name, pred_proba)):\n",
    "    print(f\"{idx}. {name}: {proba:.4f}\")"
   ]
  },
  {
   "cell_type": "markdown",
   "metadata": {
    "slideshow": {
     "slide_type": "slide"
    }
   },
   "source": [
    "## 위스콘신 유방암 데이터셋 - 이진분류(Binary Classification) 문제\n",
    "\n",
    "- **이진 분류 문제 처리 모델의 두가지 방법**\n",
    "    1. positive(1)일 확률을 출력하도록 구현 (양성 여부 - O : 양성 / X : 음성) => **이번 예제**\n",
    "        - output layer : unit(1), activation(sigmoid - logistic 함수)\n",
    "        - loss : binary_crossentropy\n",
    "    2. negative(0)일 확률과 positive(1)일 확률을 출력하도록 구현 => 다중분류 처리 방식으로 해결\n",
    "        - output layer : unit(2), activation(softmax)\n",
    "        - loss : categorial crossentropy\n",
    "<br></br>\n",
    "- 위스콘신 대학교에서 제공한 종양의 악성/양성여부 분류를 위한 데이터셋\n",
    "- Feature\n",
    "    - 종양에 대한 다양한 측정값들\n",
    "- Target의 class\n",
    "    - 0 - malignant(악성종양)\n",
    "    - 1 - benign(양성종양)\n",
    "    - => 양성종양 여부를 확인 하는 모델"
   ]
  },
  {
   "cell_type": "code",
   "execution_count": 75,
   "metadata": {
    "ExecuteTime": {
     "end_time": "2021-11-03T00:57:04.860404Z",
     "start_time": "2021-11-03T00:57:04.769013Z"
    },
    "slideshow": {
     "slide_type": "slide"
    }
   },
   "outputs": [],
   "source": [
    "import numpy as np\n",
    "import tensorflow as tf\n",
    "from tensorflow import keras\n",
    "from tensorflow.keras import layers\n",
    "\n",
    "from sklearn.datasets import load_breast_cancer\n",
    "from sklearn.preprocessing import StandardScaler\n",
    "from sklearn.model_selection import train_test_split\n",
    "\n",
    "np.random.seed(0)\n",
    "tf.random.set_seed(0)"
   ]
  },
  {
   "cell_type": "markdown",
   "metadata": {
    "slideshow": {
     "slide_type": "slide"
    }
   },
   "source": [
    "##### 데이터 로딩, train/validation/test set 나누기"
   ]
  },
  {
   "cell_type": "code",
   "execution_count": 76,
   "metadata": {
    "ExecuteTime": {
     "end_time": "2021-11-03T00:57:07.145465Z",
     "start_time": "2021-11-03T00:57:07.116460Z"
    },
    "slideshow": {
     "slide_type": "fragment"
    }
   },
   "outputs": [
    {
     "data": {
      "text/plain": [
       "((569, 30), (569,))"
      ]
     },
     "execution_count": 76,
     "metadata": {},
     "output_type": "execute_result"
    }
   ],
   "source": [
    "X, y = load_breast_cancer(return_X_y=True)\n",
    "X.shape, y.shape"
   ]
  },
  {
   "cell_type": "code",
   "execution_count": 77,
   "metadata": {
    "ExecuteTime": {
     "end_time": "2021-11-03T00:57:08.000145Z",
     "start_time": "2021-11-03T00:57:07.964172Z"
    },
    "slideshow": {
     "slide_type": "fragment"
    }
   },
   "outputs": [
    {
     "data": {
      "text/plain": [
       "((364, 30), (91, 30), (114, 30))"
      ]
     },
     "execution_count": 77,
     "metadata": {},
     "output_type": "execute_result"
    }
   ],
   "source": [
    "X_train, X_test, y_train, y_test = train_test_split(X, y, test_size=0.2, stratify=y, random_state=0)\n",
    "\n",
    "X_train, X_val, y_train, y_val = train_test_split(X_train, y_train, test_size=0.2, stratify=y_train, random_state=0)\n",
    "\n",
    "X_train.shape, X_val.shape, X_test.shape"
   ]
  },
  {
   "cell_type": "code",
   "execution_count": 78,
   "metadata": {
    "ExecuteTime": {
     "end_time": "2021-11-03T00:57:08.931182Z",
     "start_time": "2021-11-03T00:57:08.907148Z"
    },
    "slideshow": {
     "slide_type": "fragment"
    }
   },
   "outputs": [
    {
     "data": {
      "text/plain": [
       "array([[1.955e+01, 2.321e+01, 1.289e+02, 1.174e+03, 1.010e-01, 1.318e-01,\n",
       "        1.856e-01, 1.021e-01, 1.989e-01, 5.884e-02, 6.107e-01, 2.836e+00,\n",
       "        5.383e+00, 7.010e+01, 1.124e-02, 4.097e-02, 7.469e-02, 3.441e-02,\n",
       "        2.768e-02, 6.240e-03, 2.082e+01, 3.044e+01, 1.420e+02, 1.313e+03,\n",
       "        1.251e-01, 2.414e-01, 3.829e-01, 1.825e-01, 2.576e-01, 7.602e-02],\n",
       "       [1.378e+01, 1.579e+01, 8.837e+01, 5.859e+02, 8.817e-02, 6.718e-02,\n",
       "        1.055e-02, 9.937e-03, 1.405e-01, 5.848e-02, 3.563e-01, 4.833e-01,\n",
       "        2.235e+00, 2.934e+01, 6.432e-03, 1.156e-02, 7.741e-03, 5.657e-03,\n",
       "        1.227e-02, 2.564e-03, 1.527e+01, 1.750e+01, 9.790e+01, 7.066e+02,\n",
       "        1.072e-01, 1.071e-01, 3.517e-02, 3.312e-02, 1.859e-01, 6.810e-02],\n",
       "       [1.865e+01, 1.760e+01, 1.237e+02, 1.076e+03, 1.099e-01, 1.686e-01,\n",
       "        1.974e-01, 1.009e-01, 1.907e-01, 6.049e-02, 6.289e-01, 6.633e-01,\n",
       "        4.293e+00, 7.156e+01, 6.294e-03, 3.994e-02, 5.554e-02, 1.695e-02,\n",
       "        2.428e-02, 3.535e-03, 2.282e+01, 2.132e+01, 1.506e+02, 1.567e+03,\n",
       "        1.679e-01, 5.090e-01, 7.345e-01, 2.378e-01, 3.799e-01, 9.185e-02]])"
      ]
     },
     "execution_count": 78,
     "metadata": {},
     "output_type": "execute_result"
    }
   ],
   "source": [
    "X_train[:3]"
   ]
  },
  {
   "cell_type": "code",
   "execution_count": 79,
   "metadata": {
    "ExecuteTime": {
     "end_time": "2021-11-03T00:57:09.945394Z",
     "start_time": "2021-11-03T00:57:09.932401Z"
    },
    "slideshow": {
     "slide_type": "fragment"
    }
   },
   "outputs": [
    {
     "data": {
      "text/plain": [
       "array([0, 1, 0])"
      ]
     },
     "execution_count": 79,
     "metadata": {},
     "output_type": "execute_result"
    }
   ],
   "source": [
    "y_train[:3]"
   ]
  },
  {
   "cell_type": "markdown",
   "metadata": {
    "slideshow": {
     "slide_type": "slide"
    }
   },
   "source": [
    "#### 하이퍼파라미터, 변수 정의"
   ]
  },
  {
   "cell_type": "code",
   "execution_count": 80,
   "metadata": {
    "ExecuteTime": {
     "end_time": "2021-11-03T00:57:16.677364Z",
     "start_time": "2021-11-03T00:57:16.673362Z"
    },
    "slideshow": {
     "slide_type": "fragment"
    }
   },
   "outputs": [],
   "source": [
    "LEARNING_RATE = 0.001\n",
    "N_EPOCHS = 150\n",
    "N_BATCHS = 50\n",
    "\n",
    "N_TRAIN = X_train.shape[0]\n",
    "N_VAL = X_val.shape[0]\n",
    "N_TEST = X_test.shape[0]"
   ]
  },
  {
   "cell_type": "markdown",
   "metadata": {
    "slideshow": {
     "slide_type": "fragment"
    }
   },
   "source": [
    "#### 데이터 전처리\n",
    "- 이진 분류\n",
    "    - 출력 레이어의 unit을 1개, activation 함수를 sigmoid를 사용하는 경우(1일 확률) => y : 그대로 사용\n",
    "    - 출력 레이어의 unit을 2개, activation 함수를 sofmax를 사용하는 경우(0일 확률, 1일 확률) - 다중분류와 동일하게 구현 => y : one hot encoding\n",
    "- X: 테이블데이터\n",
    "    - 문자열(범주형) : one hot encoding\n",
    "    - 연속형(수치형) : feature scaling"
   ]
  },
  {
   "cell_type": "code",
   "execution_count": 81,
   "metadata": {
    "ExecuteTime": {
     "end_time": "2021-11-03T00:57:18.884049Z",
     "start_time": "2021-11-03T00:57:18.866052Z"
    },
    "slideshow": {
     "slide_type": "fragment"
    }
   },
   "outputs": [],
   "source": [
    "scaler = StandardScaler()\n",
    "\n",
    "X_train_scaled = scaler.fit_transform(X_train)\n",
    "X_val_scaled = scaler.transform(X_val)\n",
    "X_test_scaled = scaler.transform(X_test)"
   ]
  },
  {
   "cell_type": "markdown",
   "metadata": {
    "slideshow": {
     "slide_type": "slide"
    }
   },
   "source": [
    "#### Dataset 생성\n",
    "- validation/test dataset은 동일하게 pipeline을 구성\n",
    "- train dataset : shuffle 추가, batch에는 drop_remainder=True로 설정\n",
    "- map/filter 추가 시 train/validation/test 모두 동일하게 적용"
   ]
  },
  {
   "cell_type": "code",
   "execution_count": 82,
   "metadata": {
    "ExecuteTime": {
     "end_time": "2021-11-03T00:57:21.197269Z",
     "start_time": "2021-11-03T00:57:21.171240Z"
    },
    "slideshow": {
     "slide_type": "fragment"
    }
   },
   "outputs": [],
   "source": [
    "train_dataset = tf.data.Dataset.from_tensor_slices((X_train_scaled, y_train)).shuffle(N_TRAIN).batch(N_BATCHS, drop_remainder=True)\n",
    "\n",
    "val_dataset = tf.data.Dataset.from_tensor_slices((X_val_scaled, y_val)).batch(N_BATCHS)\n",
    "\n",
    "test_dataset = tf.data.Dataset.from_tensor_slices((X_test_scaled, y_test)).batch(N_BATCHS)"
   ]
  },
  {
   "cell_type": "markdown",
   "metadata": {
    "slideshow": {
     "slide_type": "slide"
    }
   },
   "source": [
    "#### model 생성, 컴파일"
   ]
  },
  {
   "cell_type": "code",
   "execution_count": 83,
   "metadata": {
    "ExecuteTime": {
     "end_time": "2021-11-03T00:58:17.940097Z",
     "start_time": "2021-11-03T00:58:17.923072Z"
    },
    "slideshow": {
     "slide_type": "fragment"
    }
   },
   "outputs": [],
   "source": [
    "def create_wisconsin_model():\n",
    "    model = keras.Sequential()\n",
    "    model.add(layers.Dense(units=32, activation='relu', input_shape=(30, )))\n",
    "    model.add(layers.Dense(units=16, activation='relu'))\n",
    "    model.add(layers.Dense(units=8, activation='relu'))\n",
    "    \n",
    "    # Output Layer - 이진 분류(양성의 확률을 출력하도록 구현)\n",
    "    # unit의 수 : 1, activation : sigmoid (logistic 함수)    \n",
    "    model.add(layers.Dense(units=1, activation='sigmoid', name='Output_layer'))\n",
    "    \n",
    "    return model"
   ]
  },
  {
   "cell_type": "code",
   "execution_count": 84,
   "metadata": {
    "ExecuteTime": {
     "end_time": "2021-11-03T00:58:25.622242Z",
     "start_time": "2021-11-03T00:58:25.571472Z"
    },
    "slideshow": {
     "slide_type": "fragment"
    }
   },
   "outputs": [],
   "source": [
    "model = create_wisconsin_model()\n",
    "\n",
    "# 이진 분류(양성의 확률을 출력하도록 구현한 모델)의 loss함수 : binary_crossentropy\n",
    "model.compile(optimizer=keras.optimizers.Adam(learning_rate=LEARNING_RATE), \n",
    "              loss='binary_crossentropy',\n",
    "              metrics=['accuracy'])"
   ]
  },
  {
   "cell_type": "code",
   "execution_count": 85,
   "metadata": {
    "ExecuteTime": {
     "end_time": "2021-11-03T00:58:27.279253Z",
     "start_time": "2021-11-03T00:58:27.259253Z"
    },
    "slideshow": {
     "slide_type": "fragment"
    }
   },
   "outputs": [
    {
     "name": "stdout",
     "output_type": "stream",
     "text": [
      "Model: \"sequential_2\"\n",
      "_________________________________________________________________\n",
      " Layer (type)                Output Shape              Param #   \n",
      "=================================================================\n",
      " dense_9 (Dense)             (None, 32)                992       \n",
      "                                                                 \n",
      " dense_10 (Dense)            (None, 16)                528       \n",
      "                                                                 \n",
      " dense_11 (Dense)            (None, 8)                 136       \n",
      "                                                                 \n",
      " Output_layer (Dense)        (None, 1)                 9         \n",
      "                                                                 \n",
      "=================================================================\n",
      "Total params: 1,665\n",
      "Trainable params: 1,665\n",
      "Non-trainable params: 0\n",
      "_________________________________________________________________\n"
     ]
    }
   ],
   "source": [
    "model.summary()"
   ]
  },
  {
   "cell_type": "code",
   "execution_count": 86,
   "metadata": {
    "ExecuteTime": {
     "end_time": "2021-11-03T00:58:28.701187Z",
     "start_time": "2021-11-03T00:58:28.466270Z"
    },
    "slideshow": {
     "slide_type": "fragment"
    }
   },
   "outputs": [
    {
     "data": {
      "image/png": "[encoded data removed]",
      "text/plain": [
       "<IPython.core.display.Image object>"
      ]
     },
     "execution_count": 86,
     "metadata": {},
     "output_type": "execute_result"
    }
   ],
   "source": [
    "keras.utils.plot_model(model, show_shapes=True, to_file='cancer_model.png')"
   ]
  },
  {
   "cell_type": "markdown",
   "metadata": {
    "slideshow": {
     "slide_type": "slide"
    }
   },
   "source": [
    "#### Train(학습)"
   ]
  },
  {
   "cell_type": "code",
   "execution_count": 87,
   "metadata": {
    "ExecuteTime": {
     "end_time": "2021-11-03T00:58:48.642635Z",
     "start_time": "2021-11-03T00:58:37.854173Z"
    },
    "slideshow": {
     "slide_type": "fragment"
    }
   },
   "outputs": [
    {
     "name": "stdout",
     "output_type": "stream",
     "text": [
      "Epoch 1/150\n",
      "7/7 [==============================] - 1s 16ms/step - loss: 0.6079 - accuracy: 0.6857 - val_loss: 0.5870 - val_accuracy: 0.8022\n",
      "Epoch 2/150\n",
      "7/7 [==============================] - 0s 3ms/step - loss: 0.5478 - accuracy: 0.8257 - val_loss: 0.5405 - val_accuracy: 0.8681\n",
      "Epoch 3/150\n",
      "7/7 [==============================] - 0s 4ms/step - loss: 0.4975 - accuracy: 0.9086 - val_loss: 0.4997 - val_accuracy: 0.8791\n",
      "Epoch 4/150\n",
      "7/7 [==============================] - 0s 3ms/step - loss: 0.4564 - accuracy: 0.9257 - val_loss: 0.4627 - val_accuracy: 0.8791\n",
      "Epoch 5/150\n",
      "7/7 [==============================] - 0s 2ms/step - loss: 0.4156 - accuracy: 0.9429 - val_loss: 0.4251 - val_accuracy: 0.9011\n",
      "Epoch 6/150\n",
      "7/7 [==============================] - 0s 2ms/step - loss: 0.3743 - accuracy: 0.9514 - val_loss: 0.3860 - val_accuracy: 0.9011\n",
      "Epoch 7/150\n",
      "7/7 [==============================] - 0s 2ms/step - loss: 0.3366 - accuracy: 0.9629 - val_loss: 0.3459 - val_accuracy: 0.9341\n",
      "Epoch 8/150\n",
      "7/7 [==============================] - 0s 2ms/step - loss: 0.2945 - accuracy: 0.9657 - val_loss: 0.3054 - val_accuracy: 0.9341\n",
      "Epoch 9/150\n",
      "7/7 [==============================] - 0s 2ms/step - loss: 0.2589 - accuracy: 0.9686 - val_loss: 0.2660 - val_accuracy: 0.9341\n",
      "Epoch 10/150\n",
      "7/7 [==============================] - 0s 2ms/step - loss: 0.2253 - accuracy: 0.9743 - val_loss: 0.2287 - val_accuracy: 0.9560\n",
      "Epoch 11/150\n",
      "7/7 [==============================] - 0s 2ms/step - loss: 0.1950 - accuracy: 0.9800 - val_loss: 0.1954 - val_accuracy: 0.9670\n",
      "Epoch 12/150\n",
      "7/7 [==============================] - 0s 2ms/step - loss: 0.1696 - accuracy: 0.9743 - val_loss: 0.1670 - val_accuracy: 0.9670\n",
      "Epoch 13/150\n",
      "7/7 [==============================] - 0s 2ms/step - loss: 0.1479 - accuracy: 0.9771 - val_loss: 0.1443 - val_accuracy: 0.9780\n",
      "Epoch 14/150\n",
      "7/7 [==============================] - 0s 2ms/step - loss: 0.1260 - accuracy: 0.9829 - val_loss: 0.1255 - val_accuracy: 0.9780\n",
      "Epoch 15/150\n",
      "7/7 [==============================] - 0s 2ms/step - loss: 0.1151 - accuracy: 0.9771 - val_loss: 0.1114 - val_accuracy: 0.9780\n",
      "Epoch 16/150\n",
      "7/7 [==============================] - 0s 2ms/step - loss: 0.0999 - accuracy: 0.9800 - val_loss: 0.0986 - val_accuracy: 0.9780\n",
      "Epoch 17/150\n",
      "7/7 [==============================] - 0s 2ms/step - loss: 0.0944 - accuracy: 0.9771 - val_loss: 0.0886 - val_accuracy: 0.9780\n",
      "Epoch 18/150\n",
      "7/7 [==============================] - 0s 2ms/step - loss: 0.0871 - accuracy: 0.9800 - val_loss: 0.0806 - val_accuracy: 0.9890\n",
      "Epoch 19/150\n",
      "7/7 [==============================] - 0s 3ms/step - loss: 0.0780 - accuracy: 0.9829 - val_loss: 0.0747 - val_accuracy: 0.9890\n",
      "Epoch 20/150\n",
      "7/7 [==============================] - 0s 2ms/step - loss: 0.0754 - accuracy: 0.9771 - val_loss: 0.0698 - val_accuracy: 0.9890\n",
      "Epoch 21/150\n",
      "7/7 [==============================] - 0s 2ms/step - loss: 0.0700 - accuracy: 0.9829 - val_loss: 0.0644 - val_accuracy: 0.9890\n",
      "Epoch 22/150\n",
      "7/7 [==============================] - 0s 3ms/step - loss: 0.0633 - accuracy: 0.9857 - val_loss: 0.0607 - val_accuracy: 0.9890\n",
      "Epoch 23/150\n",
      "7/7 [==============================] - 0s 2ms/step - loss: 0.0638 - accuracy: 0.9829 - val_loss: 0.0574 - val_accuracy: 0.9890\n",
      "Epoch 24/150\n",
      "7/7 [==============================] - 0s 3ms/step - loss: 0.0613 - accuracy: 0.9829 - val_loss: 0.0537 - val_accuracy: 0.9890\n",
      "Epoch 25/150\n",
      "7/7 [==============================] - 0s 3ms/step - loss: 0.0457 - accuracy: 0.9914 - val_loss: 0.0507 - val_accuracy: 0.9890\n",
      "Epoch 26/150\n",
      "7/7 [==============================] - 0s 2ms/step - loss: 0.0495 - accuracy: 0.9943 - val_loss: 0.0481 - val_accuracy: 0.9890\n",
      "Epoch 27/150\n",
      "7/7 [==============================] - 0s 3ms/step - loss: 0.0532 - accuracy: 0.9886 - val_loss: 0.0457 - val_accuracy: 0.9890\n",
      "Epoch 28/150\n",
      "7/7 [==============================] - 0s 2ms/step - loss: 0.0513 - accuracy: 0.9914 - val_loss: 0.0438 - val_accuracy: 0.9890\n",
      "Epoch 29/150\n",
      "7/7 [==============================] - 0s 2ms/step - loss: 0.0498 - accuracy: 0.9914 - val_loss: 0.0422 - val_accuracy: 0.9890\n",
      "Epoch 30/150\n",
      "7/7 [==============================] - 0s 2ms/step - loss: 0.0488 - accuracy: 0.9914 - val_loss: 0.0411 - val_accuracy: 0.9890\n",
      "Epoch 31/150\n",
      "7/7 [==============================] - 0s 2ms/step - loss: 0.0459 - accuracy: 0.9914 - val_loss: 0.0394 - val_accuracy: 0.9890\n",
      "Epoch 32/150\n",
      "7/7 [==============================] - 0s 3ms/step - loss: 0.0447 - accuracy: 0.9914 - val_loss: 0.0375 - val_accuracy: 0.9890\n",
      "Epoch 33/150\n",
      "7/7 [==============================] - 0s 2ms/step - loss: 0.0430 - accuracy: 0.9914 - val_loss: 0.0368 - val_accuracy: 0.9890\n",
      "Epoch 34/150\n",
      "7/7 [==============================] - 0s 2ms/step - loss: 0.0412 - accuracy: 0.9914 - val_loss: 0.0364 - val_accuracy: 0.9890\n",
      "Epoch 35/150\n",
      "7/7 [==============================] - 0s 3ms/step - loss: 0.0386 - accuracy: 0.9914 - val_loss: 0.0358 - val_accuracy: 0.9890\n",
      "Epoch 36/150\n",
      "7/7 [==============================] - 0s 2ms/step - loss: 0.0374 - accuracy: 0.9914 - val_loss: 0.0348 - val_accuracy: 0.9890\n",
      "Epoch 37/150\n",
      "7/7 [==============================] - 0s 3ms/step - loss: 0.0375 - accuracy: 0.9914 - val_loss: 0.0337 - val_accuracy: 0.9890\n",
      "Epoch 38/150\n",
      "7/7 [==============================] - 0s 3ms/step - loss: 0.0357 - accuracy: 0.9943 - val_loss: 0.0326 - val_accuracy: 0.9890\n",
      "Epoch 39/150\n",
      "7/7 [==============================] - 0s 2ms/step - loss: 0.0345 - accuracy: 0.9943 - val_loss: 0.0322 - val_accuracy: 0.9890\n",
      "Epoch 40/150\n",
      "7/7 [==============================] - 0s 3ms/step - loss: 0.0334 - accuracy: 0.9943 - val_loss: 0.0315 - val_accuracy: 0.9890\n",
      "Epoch 41/150\n",
      "7/7 [==============================] - 0s 2ms/step - loss: 0.0312 - accuracy: 0.9943 - val_loss: 0.0314 - val_accuracy: 0.9890\n",
      "Epoch 42/150\n",
      "7/7 [==============================] - 0s 2ms/step - loss: 0.0302 - accuracy: 0.9943 - val_loss: 0.0312 - val_accuracy: 0.9890\n",
      "Epoch 43/150\n",
      "7/7 [==============================] - 0s 2ms/step - loss: 0.0306 - accuracy: 0.9943 - val_loss: 0.0310 - val_accuracy: 0.9890\n",
      "Epoch 44/150\n",
      "7/7 [==============================] - 0s 2ms/step - loss: 0.0289 - accuracy: 0.9943 - val_loss: 0.0308 - val_accuracy: 0.9890\n",
      "Epoch 45/150\n",
      "7/7 [==============================] - 0s 3ms/step - loss: 0.0280 - accuracy: 0.9943 - val_loss: 0.0307 - val_accuracy: 0.9890\n",
      "Epoch 46/150\n",
      "7/7 [==============================] - 0s 2ms/step - loss: 0.0274 - accuracy: 0.9943 - val_loss: 0.0307 - val_accuracy: 0.9890\n",
      "Epoch 47/150\n",
      "7/7 [==============================] - 0s 2ms/step - loss: 0.0271 - accuracy: 0.9943 - val_loss: 0.0305 - val_accuracy: 0.9890\n",
      "Epoch 48/150\n",
      "7/7 [==============================] - 0s 2ms/step - loss: 0.0264 - accuracy: 0.9943 - val_loss: 0.0303 - val_accuracy: 0.9890\n",
      "Epoch 49/150\n",
      "7/7 [==============================] - 0s 2ms/step - loss: 0.0255 - accuracy: 0.9943 - val_loss: 0.0298 - val_accuracy: 0.9890\n",
      "Epoch 50/150\n",
      "7/7 [==============================] - 0s 3ms/step - loss: 0.0232 - accuracy: 0.9943 - val_loss: 0.0295 - val_accuracy: 0.9890\n",
      "Epoch 51/150\n",
      "7/7 [==============================] - 0s 2ms/step - loss: 0.0237 - accuracy: 0.9943 - val_loss: 0.0299 - val_accuracy: 0.9890\n",
      "Epoch 52/150\n",
      "7/7 [==============================] - 0s 3ms/step - loss: 0.0231 - accuracy: 0.9943 - val_loss: 0.0304 - val_accuracy: 0.9780\n",
      "Epoch 53/150\n",
      "7/7 [==============================] - 0s 3ms/step - loss: 0.0223 - accuracy: 0.9943 - val_loss: 0.0302 - val_accuracy: 0.9780\n",
      "Epoch 54/150\n",
      "7/7 [==============================] - 0s 3ms/step - loss: 0.0218 - accuracy: 0.9943 - val_loss: 0.0299 - val_accuracy: 0.9780\n",
      "Epoch 55/150\n",
      "7/7 [==============================] - 0s 2ms/step - loss: 0.0216 - accuracy: 0.9943 - val_loss: 0.0295 - val_accuracy: 0.9780\n",
      "Epoch 56/150\n",
      "7/7 [==============================] - 0s 2ms/step - loss: 0.0211 - accuracy: 0.9943 - val_loss: 0.0299 - val_accuracy: 0.9780\n",
      "Epoch 57/150\n",
      "7/7 [==============================] - 0s 2ms/step - loss: 0.0204 - accuracy: 0.9971 - val_loss: 0.0302 - val_accuracy: 0.9780\n",
      "Epoch 58/150\n",
      "7/7 [==============================] - 0s 2ms/step - loss: 0.0199 - accuracy: 0.9971 - val_loss: 0.0306 - val_accuracy: 0.9780\n",
      "Epoch 59/150\n"
     ]
    },
    {
     "name": "stdout",
     "output_type": "stream",
     "text": [
      "7/7 [==============================] - 0s 2ms/step - loss: 0.0193 - accuracy: 0.9971 - val_loss: 0.0305 - val_accuracy: 0.9780\n",
      "Epoch 60/150\n",
      "7/7 [==============================] - 0s 2ms/step - loss: 0.0189 - accuracy: 0.9971 - val_loss: 0.0307 - val_accuracy: 0.9780\n",
      "Epoch 61/150\n",
      "7/7 [==============================] - 0s 2ms/step - loss: 0.0184 - accuracy: 0.9971 - val_loss: 0.0308 - val_accuracy: 0.9780\n",
      "Epoch 62/150\n",
      "7/7 [==============================] - 0s 2ms/step - loss: 0.0176 - accuracy: 0.9971 - val_loss: 0.0315 - val_accuracy: 0.9780\n",
      "Epoch 63/150\n",
      "7/7 [==============================] - 0s 2ms/step - loss: 0.0173 - accuracy: 0.9971 - val_loss: 0.0314 - val_accuracy: 0.9780\n",
      "Epoch 64/150\n",
      "7/7 [==============================] - 0s 2ms/step - loss: 0.0168 - accuracy: 0.9971 - val_loss: 0.0314 - val_accuracy: 0.9780\n",
      "Epoch 65/150\n",
      "7/7 [==============================] - 0s 3ms/step - loss: 0.0159 - accuracy: 0.9971 - val_loss: 0.0316 - val_accuracy: 0.9780\n",
      "Epoch 66/150\n",
      "7/7 [==============================] - 0s 2ms/step - loss: 0.0150 - accuracy: 0.9971 - val_loss: 0.0319 - val_accuracy: 0.9780\n",
      "Epoch 67/150\n",
      "7/7 [==============================] - 0s 2ms/step - loss: 0.0152 - accuracy: 0.9971 - val_loss: 0.0320 - val_accuracy: 0.9780\n",
      "Epoch 68/150\n",
      "7/7 [==============================] - 0s 2ms/step - loss: 0.0145 - accuracy: 0.9971 - val_loss: 0.0323 - val_accuracy: 0.9780\n",
      "Epoch 69/150\n",
      "7/7 [==============================] - 0s 2ms/step - loss: 0.0146 - accuracy: 0.9971 - val_loss: 0.0326 - val_accuracy: 0.9780\n",
      "Epoch 70/150\n",
      "7/7 [==============================] - 0s 3ms/step - loss: 0.0137 - accuracy: 0.9971 - val_loss: 0.0327 - val_accuracy: 0.9780\n",
      "Epoch 71/150\n",
      "7/7 [==============================] - 0s 3ms/step - loss: 0.0134 - accuracy: 0.9971 - val_loss: 0.0327 - val_accuracy: 0.9780\n",
      "Epoch 72/150\n",
      "7/7 [==============================] - 0s 3ms/step - loss: 0.0128 - accuracy: 0.9971 - val_loss: 0.0326 - val_accuracy: 0.9780\n",
      "Epoch 73/150\n",
      "7/7 [==============================] - 0s 2ms/step - loss: 0.0125 - accuracy: 0.9971 - val_loss: 0.0330 - val_accuracy: 0.9780\n",
      "Epoch 74/150\n",
      "7/7 [==============================] - 0s 2ms/step - loss: 0.0117 - accuracy: 0.9971 - val_loss: 0.0332 - val_accuracy: 0.9780\n",
      "Epoch 75/150\n",
      "7/7 [==============================] - 0s 2ms/step - loss: 0.0115 - accuracy: 0.9971 - val_loss: 0.0329 - val_accuracy: 0.9780\n",
      "Epoch 76/150\n",
      "7/7 [==============================] - 0s 2ms/step - loss: 0.0115 - accuracy: 0.9971 - val_loss: 0.0330 - val_accuracy: 0.9780\n",
      "Epoch 77/150\n",
      "7/7 [==============================] - 0s 3ms/step - loss: 0.0109 - accuracy: 0.9971 - val_loss: 0.0334 - val_accuracy: 0.9780\n",
      "Epoch 78/150\n",
      "7/7 [==============================] - 0s 2ms/step - loss: 0.0107 - accuracy: 0.9971 - val_loss: 0.0336 - val_accuracy: 0.9780\n",
      "Epoch 79/150\n",
      "7/7 [==============================] - 0s 2ms/step - loss: 0.0104 - accuracy: 0.9971 - val_loss: 0.0337 - val_accuracy: 0.9780\n",
      "Epoch 80/150\n",
      "7/7 [==============================] - 0s 2ms/step - loss: 0.0097 - accuracy: 0.9971 - val_loss: 0.0337 - val_accuracy: 0.9780\n",
      "Epoch 81/150\n",
      "7/7 [==============================] - 0s 2ms/step - loss: 0.0097 - accuracy: 0.9971 - val_loss: 0.0339 - val_accuracy: 0.9780\n",
      "Epoch 82/150\n",
      "7/7 [==============================] - 0s 2ms/step - loss: 0.0095 - accuracy: 0.9971 - val_loss: 0.0338 - val_accuracy: 0.9780\n",
      "Epoch 83/150\n",
      "7/7 [==============================] - 0s 2ms/step - loss: 0.0091 - accuracy: 0.9971 - val_loss: 0.0343 - val_accuracy: 0.9780\n",
      "Epoch 84/150\n",
      "7/7 [==============================] - 0s 2ms/step - loss: 0.0089 - accuracy: 0.9971 - val_loss: 0.0349 - val_accuracy: 0.9780\n",
      "Epoch 85/150\n",
      "7/7 [==============================] - 0s 2ms/step - loss: 0.0083 - accuracy: 0.9971 - val_loss: 0.0354 - val_accuracy: 0.9780\n",
      "Epoch 86/150\n",
      "7/7 [==============================] - 0s 2ms/step - loss: 0.0083 - accuracy: 0.9971 - val_loss: 0.0358 - val_accuracy: 0.9780\n",
      "Epoch 87/150\n",
      "7/7 [==============================] - 0s 2ms/step - loss: 0.0079 - accuracy: 0.9971 - val_loss: 0.0354 - val_accuracy: 0.9780\n",
      "Epoch 88/150\n",
      "7/7 [==============================] - 0s 2ms/step - loss: 0.0077 - accuracy: 0.9971 - val_loss: 0.0358 - val_accuracy: 0.9780\n",
      "Epoch 89/150\n",
      "7/7 [==============================] - 0s 3ms/step - loss: 0.0073 - accuracy: 0.9971 - val_loss: 0.0361 - val_accuracy: 0.9780\n",
      "Epoch 90/150\n",
      "7/7 [==============================] - 0s 2ms/step - loss: 0.0064 - accuracy: 0.9971 - val_loss: 0.0365 - val_accuracy: 0.9780\n",
      "Epoch 91/150\n",
      "7/7 [==============================] - 0s 3ms/step - loss: 0.0067 - accuracy: 0.9971 - val_loss: 0.0370 - val_accuracy: 0.9780\n",
      "Epoch 92/150\n",
      "7/7 [==============================] - 0s 2ms/step - loss: 0.0064 - accuracy: 0.9971 - val_loss: 0.0372 - val_accuracy: 0.9780\n",
      "Epoch 93/150\n",
      "7/7 [==============================] - 0s 2ms/step - loss: 0.0059 - accuracy: 0.9971 - val_loss: 0.0376 - val_accuracy: 0.9780\n",
      "Epoch 94/150\n",
      "7/7 [==============================] - 0s 2ms/step - loss: 0.0057 - accuracy: 0.9971 - val_loss: 0.0379 - val_accuracy: 0.9780\n",
      "Epoch 95/150\n",
      "7/7 [==============================] - 0s 2ms/step - loss: 0.0054 - accuracy: 1.0000 - val_loss: 0.0383 - val_accuracy: 0.9780\n",
      "Epoch 96/150\n",
      "7/7 [==============================] - 0s 2ms/step - loss: 0.0053 - accuracy: 1.0000 - val_loss: 0.0387 - val_accuracy: 0.9780\n",
      "Epoch 97/150\n",
      "7/7 [==============================] - 0s 2ms/step - loss: 0.0050 - accuracy: 1.0000 - val_loss: 0.0387 - val_accuracy: 0.9780\n",
      "Epoch 98/150\n",
      "7/7 [==============================] - 0s 2ms/step - loss: 0.0049 - accuracy: 1.0000 - val_loss: 0.0390 - val_accuracy: 0.9780\n",
      "Epoch 99/150\n",
      "7/7 [==============================] - 0s 2ms/step - loss: 0.0047 - accuracy: 1.0000 - val_loss: 0.0389 - val_accuracy: 0.9780\n",
      "Epoch 100/150\n",
      "7/7 [==============================] - 0s 2ms/step - loss: 0.0045 - accuracy: 1.0000 - val_loss: 0.0394 - val_accuracy: 0.9780\n",
      "Epoch 101/150\n",
      "7/7 [==============================] - 0s 2ms/step - loss: 0.0042 - accuracy: 1.0000 - val_loss: 0.0396 - val_accuracy: 0.9780\n",
      "Epoch 102/150\n",
      "7/7 [==============================] - 0s 3ms/step - loss: 0.0040 - accuracy: 1.0000 - val_loss: 0.0398 - val_accuracy: 0.9780\n",
      "Epoch 103/150\n",
      "7/7 [==============================] - 0s 2ms/step - loss: 0.0039 - accuracy: 1.0000 - val_loss: 0.0403 - val_accuracy: 0.9780\n",
      "Epoch 104/150\n",
      "7/7 [==============================] - 0s 3ms/step - loss: 0.0038 - accuracy: 1.0000 - val_loss: 0.0403 - val_accuracy: 0.9780\n",
      "Epoch 105/150\n",
      "7/7 [==============================] - 0s 3ms/step - loss: 0.0037 - accuracy: 1.0000 - val_loss: 0.0402 - val_accuracy: 0.9780\n",
      "Epoch 106/150\n",
      "7/7 [==============================] - 0s 2ms/step - loss: 0.0036 - accuracy: 1.0000 - val_loss: 0.0405 - val_accuracy: 0.9780\n",
      "Epoch 107/150\n",
      "7/7 [==============================] - 0s 3ms/step - loss: 0.0033 - accuracy: 1.0000 - val_loss: 0.0407 - val_accuracy: 0.9780\n",
      "Epoch 108/150\n",
      "7/7 [==============================] - 0s 2ms/step - loss: 0.0032 - accuracy: 1.0000 - val_loss: 0.0410 - val_accuracy: 0.9780\n",
      "Epoch 109/150\n",
      "7/7 [==============================] - 0s 2ms/step - loss: 0.0032 - accuracy: 1.0000 - val_loss: 0.0414 - val_accuracy: 0.9780\n",
      "Epoch 110/150\n",
      "7/7 [==============================] - 0s 2ms/step - loss: 0.0030 - accuracy: 1.0000 - val_loss: 0.0417 - val_accuracy: 0.9780\n",
      "Epoch 111/150\n",
      "7/7 [==============================] - 0s 2ms/step - loss: 0.0028 - accuracy: 1.0000 - val_loss: 0.0418 - val_accuracy: 0.9780\n",
      "Epoch 112/150\n",
      "7/7 [==============================] - 0s 3ms/step - loss: 0.0024 - accuracy: 1.0000 - val_loss: 0.0420 - val_accuracy: 0.9780\n",
      "Epoch 113/150\n",
      "7/7 [==============================] - 0s 2ms/step - loss: 0.0028 - accuracy: 1.0000 - val_loss: 0.0424 - val_accuracy: 0.9780\n",
      "Epoch 114/150\n",
      "7/7 [==============================] - 0s 2ms/step - loss: 0.0024 - accuracy: 1.0000 - val_loss: 0.0429 - val_accuracy: 0.9780\n",
      "Epoch 115/150\n",
      "7/7 [==============================] - 0s 2ms/step - loss: 0.0026 - accuracy: 1.0000 - val_loss: 0.0433 - val_accuracy: 0.9780\n",
      "Epoch 116/150\n",
      "7/7 [==============================] - 0s 2ms/step - loss: 0.0023 - accuracy: 1.0000 - val_loss: 0.0434 - val_accuracy: 0.9780\n",
      "Epoch 117/150\n"
     ]
    },
    {
     "name": "stdout",
     "output_type": "stream",
     "text": [
      "7/7 [==============================] - 0s 2ms/step - loss: 0.0024 - accuracy: 1.0000 - val_loss: 0.0435 - val_accuracy: 0.9780\n",
      "Epoch 118/150\n",
      "7/7 [==============================] - 0s 2ms/step - loss: 0.0024 - accuracy: 1.0000 - val_loss: 0.0437 - val_accuracy: 0.9780\n",
      "Epoch 119/150\n",
      "7/7 [==============================] - 0s 3ms/step - loss: 0.0023 - accuracy: 1.0000 - val_loss: 0.0440 - val_accuracy: 0.9780\n",
      "Epoch 120/150\n",
      "7/7 [==============================] - 0s 2ms/step - loss: 0.0022 - accuracy: 1.0000 - val_loss: 0.0441 - val_accuracy: 0.9780\n",
      "Epoch 121/150\n",
      "7/7 [==============================] - 0s 2ms/step - loss: 0.0020 - accuracy: 1.0000 - val_loss: 0.0445 - val_accuracy: 0.9780\n",
      "Epoch 122/150\n",
      "7/7 [==============================] - 0s 2ms/step - loss: 0.0021 - accuracy: 1.0000 - val_loss: 0.0448 - val_accuracy: 0.9780\n",
      "Epoch 123/150\n",
      "7/7 [==============================] - 0s 2ms/step - loss: 0.0020 - accuracy: 1.0000 - val_loss: 0.0450 - val_accuracy: 0.9780\n",
      "Epoch 124/150\n",
      "7/7 [==============================] - 0s 2ms/step - loss: 0.0020 - accuracy: 1.0000 - val_loss: 0.0449 - val_accuracy: 0.9780\n",
      "Epoch 125/150\n",
      "7/7 [==============================] - 0s 2ms/step - loss: 0.0017 - accuracy: 1.0000 - val_loss: 0.0454 - val_accuracy: 0.9780\n",
      "Epoch 126/150\n",
      "7/7 [==============================] - 0s 2ms/step - loss: 0.0019 - accuracy: 1.0000 - val_loss: 0.0457 - val_accuracy: 0.9780\n",
      "Epoch 127/150\n",
      "7/7 [==============================] - 0s 2ms/step - loss: 0.0018 - accuracy: 1.0000 - val_loss: 0.0458 - val_accuracy: 0.9780\n",
      "Epoch 128/150\n",
      "7/7 [==============================] - 0s 2ms/step - loss: 0.0017 - accuracy: 1.0000 - val_loss: 0.0462 - val_accuracy: 0.9780\n",
      "Epoch 129/150\n",
      "7/7 [==============================] - 0s 2ms/step - loss: 0.0017 - accuracy: 1.0000 - val_loss: 0.0465 - val_accuracy: 0.9780\n",
      "Epoch 130/150\n",
      "7/7 [==============================] - 0s 2ms/step - loss: 0.0017 - accuracy: 1.0000 - val_loss: 0.0466 - val_accuracy: 0.9780\n",
      "Epoch 131/150\n",
      "7/7 [==============================] - 0s 3ms/step - loss: 0.0015 - accuracy: 1.0000 - val_loss: 0.0468 - val_accuracy: 0.9780\n",
      "Epoch 132/150\n",
      "7/7 [==============================] - 0s 2ms/step - loss: 0.0016 - accuracy: 1.0000 - val_loss: 0.0469 - val_accuracy: 0.9780\n",
      "Epoch 133/150\n",
      "7/7 [==============================] - 0s 3ms/step - loss: 0.0015 - accuracy: 1.0000 - val_loss: 0.0470 - val_accuracy: 0.9780\n",
      "Epoch 134/150\n",
      "7/7 [==============================] - 0s 3ms/step - loss: 0.0015 - accuracy: 1.0000 - val_loss: 0.0472 - val_accuracy: 0.9780\n",
      "Epoch 135/150\n",
      "7/7 [==============================] - 0s 2ms/step - loss: 0.0014 - accuracy: 1.0000 - val_loss: 0.0475 - val_accuracy: 0.9780\n",
      "Epoch 136/150\n",
      "7/7 [==============================] - 0s 3ms/step - loss: 0.0014 - accuracy: 1.0000 - val_loss: 0.0478 - val_accuracy: 0.9780\n",
      "Epoch 137/150\n",
      "7/7 [==============================] - 0s 2ms/step - loss: 0.0014 - accuracy: 1.0000 - val_loss: 0.0479 - val_accuracy: 0.9780\n",
      "Epoch 138/150\n",
      "7/7 [==============================] - 0s 3ms/step - loss: 0.0013 - accuracy: 1.0000 - val_loss: 0.0479 - val_accuracy: 0.9780\n",
      "Epoch 139/150\n",
      "7/7 [==============================] - 0s 3ms/step - loss: 0.0013 - accuracy: 1.0000 - val_loss: 0.0481 - val_accuracy: 0.9780\n",
      "Epoch 140/150\n",
      "7/7 [==============================] - 0s 3ms/step - loss: 0.0013 - accuracy: 1.0000 - val_loss: 0.0484 - val_accuracy: 0.9780\n",
      "Epoch 141/150\n",
      "7/7 [==============================] - 0s 3ms/step - loss: 0.0012 - accuracy: 1.0000 - val_loss: 0.0485 - val_accuracy: 0.9780\n",
      "Epoch 142/150\n",
      "7/7 [==============================] - 0s 3ms/step - loss: 0.0012 - accuracy: 1.0000 - val_loss: 0.0486 - val_accuracy: 0.9780\n",
      "Epoch 143/150\n",
      "7/7 [==============================] - 0s 2ms/step - loss: 0.0012 - accuracy: 1.0000 - val_loss: 0.0488 - val_accuracy: 0.9780\n",
      "Epoch 144/150\n",
      "7/7 [==============================] - 0s 2ms/step - loss: 9.7629e-04 - accuracy: 1.0000 - val_loss: 0.0491 - val_accuracy: 0.9780\n",
      "Epoch 145/150\n",
      "7/7 [==============================] - 0s 2ms/step - loss: 0.0011 - accuracy: 1.0000 - val_loss: 0.0494 - val_accuracy: 0.9780\n",
      "Epoch 146/150\n",
      "7/7 [==============================] - 0s 3ms/step - loss: 0.0011 - accuracy: 1.0000 - val_loss: 0.0496 - val_accuracy: 0.9780\n",
      "Epoch 147/150\n",
      "7/7 [==============================] - 0s 3ms/step - loss: 0.0011 - accuracy: 1.0000 - val_loss: 0.0500 - val_accuracy: 0.9780\n",
      "Epoch 148/150\n",
      "7/7 [==============================] - 0s 2ms/step - loss: 0.0010 - accuracy: 1.0000 - val_loss: 0.0500 - val_accuracy: 0.9780\n",
      "Epoch 149/150\n",
      "7/7 [==============================] - 0s 2ms/step - loss: 9.2384e-04 - accuracy: 1.0000 - val_loss: 0.0502 - val_accuracy: 0.9780\n",
      "Epoch 150/150\n",
      "7/7 [==============================] - 0s 3ms/step - loss: 9.9899e-04 - accuracy: 1.0000 - val_loss: 0.0503 - val_accuracy: 0.9780\n"
     ]
    }
   ],
   "source": [
    "hist = model.fit(train_dataset, epochs=N_EPOCHS, validation_data=val_dataset)"
   ]
  },
  {
   "cell_type": "markdown",
   "metadata": {
    "slideshow": {
     "slide_type": "fragment"
    }
   },
   "source": [
    "#### 결과 시각화"
   ]
  },
  {
   "cell_type": "code",
   "execution_count": 88,
   "metadata": {
    "ExecuteTime": {
     "end_time": "2021-11-03T00:58:56.334708Z",
     "start_time": "2021-11-03T00:58:56.043653Z"
    },
    "scrolled": false,
    "slideshow": {
     "slide_type": "fragment"
    }
   },
   "outputs": [
    {
     "data": {
      "image/png": "[encoded data removed]",
      "text/plain": [
       "<Figure size 504x432 with 1 Axes>"
      ]
     },
     "metadata": {
      "needs_background": "light"
     },
     "output_type": "display_data"
    }
   ],
   "source": [
    "import matplotlib.pyplot as plt\n",
    "\n",
    "# loss\n",
    "plt.figure(figsize=(7,6))\n",
    "plt.plot(range(1, N_EPOCHS+1), hist.history['loss'], label='Train Loss')\n",
    "plt.plot(range(1, N_EPOCHS+1), hist.history['val_loss'], label='Validation Loss')\n",
    "plt.title('Loss', fontsize=20)\n",
    "plt.xlabel('Epochs')\n",
    "plt.ylabel('Loss')\n",
    "plt.legend()\n",
    "plt.show()"
   ]
  },
  {
   "cell_type": "code",
   "execution_count": 89,
   "metadata": {
    "ExecuteTime": {
     "end_time": "2021-11-03T00:59:03.092059Z",
     "start_time": "2021-11-03T00:59:02.953881Z"
    },
    "scrolled": false,
    "slideshow": {
     "slide_type": "fragment"
    }
   },
   "outputs": [
    {
     "data": {
      "image/png": "[encoded data removed]",
      "text/plain": [
       "<Figure size 504x432 with 1 Axes>"
      ]
     },
     "metadata": {
      "needs_background": "light"
     },
     "output_type": "display_data"
    }
   ],
   "source": [
    "# accuracy\n",
    "plt.figure(figsize=(7,6))\n",
    "plt.plot(range(1, N_EPOCHS+1), hist.history['accuracy'], label='Train Accuracy')\n",
    "plt.plot(range(1, N_EPOCHS+1), hist.history['val_accuracy'], label='Validation Accuracy')\n",
    "plt.title('Accuracy', fontsize=20)\n",
    "plt.xlabel('Epochs')\n",
    "plt.ylabel('Accuracy')\n",
    "plt.legend()\n",
    "plt.show()"
   ]
  },
  {
   "cell_type": "markdown",
   "metadata": {
    "slideshow": {
     "slide_type": "slide"
    }
   },
   "source": [
    "#### 최종평가"
   ]
  },
  {
   "cell_type": "code",
   "execution_count": 90,
   "metadata": {
    "ExecuteTime": {
     "end_time": "2021-11-03T00:59:14.751255Z",
     "start_time": "2021-11-03T00:59:14.715247Z"
    },
    "slideshow": {
     "slide_type": "fragment"
    }
   },
   "outputs": [
    {
     "name": "stdout",
     "output_type": "stream",
     "text": [
      "3/3 [==============================] - 0s 2ms/step - loss: 0.1643 - accuracy: 0.9561\n"
     ]
    }
   ],
   "source": [
    "loss, acc = model.evaluate(test_dataset)"
   ]
  },
  {
   "cell_type": "code",
   "execution_count": 91,
   "metadata": {
    "ExecuteTime": {
     "end_time": "2021-11-03T00:59:16.738914Z",
     "start_time": "2021-11-03T00:59:16.732879Z"
    },
    "slideshow": {
     "slide_type": "fragment"
    }
   },
   "outputs": [
    {
     "name": "stdout",
     "output_type": "stream",
     "text": [
      "0.1642630696296692 0.9561403393745422\n"
     ]
    }
   ],
   "source": [
    "print(loss, acc)"
   ]
  },
  {
   "cell_type": "markdown",
   "metadata": {},
   "source": [
    "#### 모델저장"
   ]
  },
  {
   "cell_type": "code",
   "execution_count": 92,
   "metadata": {},
   "outputs": [
    {
     "name": "stdout",
     "output_type": "stream",
     "text": [
      "INFO:tensorflow:Assets written to: models/breast_cancer_model\\assets\n"
     ]
    }
   ],
   "source": [
    "model.save('models/breast_cancer_model')"
   ]
  },
  {
   "cell_type": "markdown",
   "metadata": {
    "slideshow": {
     "slide_type": "slide"
    }
   },
   "source": [
    "#### 새로운 데이터 추론"
   ]
  },
  {
   "cell_type": "code",
   "execution_count": 93,
   "metadata": {
    "ExecuteTime": {
     "end_time": "2021-11-03T00:59:19.086745Z",
     "start_time": "2021-11-03T00:59:19.083739Z"
    },
    "slideshow": {
     "slide_type": "fragment"
    }
   },
   "outputs": [],
   "source": [
    "new_data = X_test[:5]\n",
    "new_data_scaled = scaler.transform(new_data)"
   ]
  },
  {
   "cell_type": "code",
   "execution_count": 94,
   "metadata": {
    "ExecuteTime": {
     "end_time": "2021-11-03T00:59:20.263087Z",
     "start_time": "2021-11-03T00:59:20.179596Z"
    },
    "slideshow": {
     "slide_type": "fragment"
    }
   },
   "outputs": [
    {
     "name": "stdout",
     "output_type": "stream",
     "text": [
      "1/1 [==============================] - 0s 40ms/step\n"
     ]
    }
   ],
   "source": [
    "pred = model.predict(new_data_scaled)"
   ]
  },
  {
   "cell_type": "code",
   "execution_count": 95,
   "metadata": {
    "ExecuteTime": {
     "end_time": "2021-11-03T00:59:21.138066Z",
     "start_time": "2021-11-03T00:59:21.123054Z"
    },
    "slideshow": {
     "slide_type": "fragment"
    }
   },
   "outputs": [
    {
     "data": {
      "text/plain": [
       "array([[3.7294086e-08],\n",
       "       [6.8187397e-36],\n",
       "       [2.1280302e-09],\n",
       "       [9.9999595e-01],\n",
       "       [1.4654393e-10]], dtype=float32)"
      ]
     },
     "execution_count": 95,
     "metadata": {},
     "output_type": "execute_result"
    }
   ],
   "source": [
    "pred"
   ]
  },
  {
   "cell_type": "code",
   "execution_count": 96,
   "metadata": {
    "ExecuteTime": {
     "end_time": "2021-11-03T00:59:26.647416Z",
     "start_time": "2021-11-03T00:59:26.635411Z"
    },
    "slideshow": {
     "slide_type": "fragment"
    }
   },
   "outputs": [
    {
     "data": {
      "text/plain": [
       "array([[0],\n",
       "       [0],\n",
       "       [0],\n",
       "       [1],\n",
       "       [0]], dtype=int8)"
      ]
     },
     "execution_count": 96,
     "metadata": {},
     "output_type": "execute_result"
    }
   ],
   "source": [
    "threshold = 0.5\n",
    "result = (pred > threshold).astype(np.int8)\n",
    "result"
   ]
  },
  {
   "cell_type": "code",
   "execution_count": 97,
   "metadata": {
    "ExecuteTime": {
     "end_time": "2021-11-03T00:59:31.142907Z",
     "start_time": "2021-11-03T00:59:31.130884Z"
    },
    "slideshow": {
     "slide_type": "fragment"
    }
   },
   "outputs": [
    {
     "data": {
      "text/plain": [
       "array([['악성-0'],\n",
       "       ['악성-0'],\n",
       "       ['악성-0'],\n",
       "       ['양성-1'],\n",
       "       ['악성-0']], dtype='<U4')"
      ]
     },
     "execution_count": 97,
     "metadata": {},
     "output_type": "execute_result"
    }
   ],
   "source": [
    "result_label = np.where(pred > threshold, \"양성-1\", \"악성-0\")\n",
    "result_label"
   ]
  },
  {
   "cell_type": "markdown",
   "metadata": {},
   "source": [
    "- 모델의 분류 예측 결과 후처리 -> 모델이 출력한 확률을 class로 변환\n",
    "    - 다중 분류(모델이 클래스별 확률 출력) : np.argmax(예측결과, axis=1)\n",
    "    - 이진 분류(모델이 양성의 확률 출력) : np.where(pred > threshold, '양성 label', '음성 label')"
   ]
  },
  {
   "cell_type": "markdown",
   "metadata": {
    "slideshow": {
     "slide_type": "slide"
    }
   },
   "source": [
    "# Tensorflow 2.3이하 버전에서 Train dataset 구성 및 학습 \n",
    "- 위의 코드들은 2.4 이후 버전\n",
    "- 2.3 이하버전에서는 \n",
    "    1. train_dataset 구성 시 repeat()를 추가\n",
    "    2. 학습 시 train/validation 1 epoch당 step 횟수를 추가\n",
    "        - steps_per_epoch: train set에 대한 1 epoch 당 step 횟수\n",
    "        - validation_steps: validationset 에 대한 step 횟수"
   ]
  },
  {
   "cell_type": "code",
   "execution_count": 98,
   "metadata": {
    "ExecuteTime": {
     "end_time": "2021-11-03T01:02:04.237421Z",
     "start_time": "2021-11-03T01:02:04.214435Z"
    },
    "slideshow": {
     "slide_type": "fragment"
    }
   },
   "outputs": [],
   "source": [
    "train_dataset2 = tf.data.Dataset.from_tensor_slices((X_train_scaled, y_train)).shuffle(N_TRAIN).batch(N_BATCHS, drop_remainder=True).repeat()\n",
    "\n",
    "val_dataset2 = tf.data.Dataset.from_tensor_slices((X_val_scaled, y_val)).batch(N_BATCHS)\n",
    "test_dataset2 = tf.data.Dataset.from_tensor_slices((X_test_scaled, y_test)).batch(N_BATCHS)"
   ]
  },
  {
   "cell_type": "code",
   "execution_count": 99,
   "metadata": {
    "ExecuteTime": {
     "end_time": "2021-11-03T01:03:43.772869Z",
     "start_time": "2021-11-03T01:03:43.765843Z"
    },
    "slideshow": {
     "slide_type": "fragment"
    }
   },
   "outputs": [
    {
     "name": "stdout",
     "output_type": "stream",
     "text": [
      "7 2\n"
     ]
    }
   ],
   "source": [
    "steps_per_epoch = N_TRAIN // N_BATCHS #repeat() 때문에 len()을 사용못함\n",
    "validation_steps = len(val_dataset2) #len(Dataset): step수 반환\n",
    "print(steps_per_epoch, validation_steps)"
   ]
  },
  {
   "cell_type": "code",
   "execution_count": 100,
   "metadata": {
    "ExecuteTime": {
     "end_time": "2021-11-03T01:03:44.457988Z",
     "start_time": "2021-11-03T01:03:44.410963Z"
    },
    "slideshow": {
     "slide_type": "fragment"
    }
   },
   "outputs": [],
   "source": [
    "model = create_wisconsin_model()\n",
    "model.compile(optimizer=keras.optimizers.Adam(learning_rate=LEARNING_RATE), \n",
    "              loss='binary_crossentropy',\n",
    "              metrics=['accuracy'])"
   ]
  },
  {
   "cell_type": "code",
   "execution_count": 101,
   "metadata": {
    "ExecuteTime": {
     "end_time": "2021-11-03T01:03:51.545411Z",
     "start_time": "2021-11-03T01:03:50.882537Z"
    },
    "scrolled": false,
    "slideshow": {
     "slide_type": "fragment"
    }
   },
   "outputs": [
    {
     "name": "stdout",
     "output_type": "stream",
     "text": [
      "Epoch 1/10\n",
      "7/7 [==============================] - 0s 16ms/step - loss: 0.6913 - accuracy: 0.5114 - val_loss: 0.6588 - val_accuracy: 0.6593\n",
      "Epoch 2/10\n",
      "7/7 [==============================] - 0s 2ms/step - loss: 0.6412 - accuracy: 0.6971 - val_loss: 0.6087 - val_accuracy: 0.7802\n",
      "Epoch 3/10\n",
      "7/7 [==============================] - 0s 3ms/step - loss: 0.5896 - accuracy: 0.8714 - val_loss: 0.5513 - val_accuracy: 0.8901\n",
      "Epoch 4/10\n",
      "7/7 [==============================] - 0s 2ms/step - loss: 0.5298 - accuracy: 0.9400 - val_loss: 0.4857 - val_accuracy: 0.9341\n",
      "Epoch 5/10\n",
      "7/7 [==============================] - 0s 2ms/step - loss: 0.4604 - accuracy: 0.9514 - val_loss: 0.4155 - val_accuracy: 0.9560\n",
      "Epoch 6/10\n",
      "7/7 [==============================] - 0s 4ms/step - loss: 0.3844 - accuracy: 0.9543 - val_loss: 0.3447 - val_accuracy: 0.9560\n",
      "Epoch 7/10\n",
      "7/7 [==============================] - 0s 3ms/step - loss: 0.3159 - accuracy: 0.9686 - val_loss: 0.2835 - val_accuracy: 0.9560\n",
      "Epoch 8/10\n",
      "7/7 [==============================] - 0s 2ms/step - loss: 0.2656 - accuracy: 0.9686 - val_loss: 0.2323 - val_accuracy: 0.9670\n",
      "Epoch 9/10\n",
      "7/7 [==============================] - 0s 2ms/step - loss: 0.2187 - accuracy: 0.9714 - val_loss: 0.1910 - val_accuracy: 0.9670\n",
      "Epoch 10/10\n",
      "7/7 [==============================] - 0s 2ms/step - loss: 0.1855 - accuracy: 0.9686 - val_loss: 0.1592 - val_accuracy: 0.9780\n"
     ]
    },
    {
     "data": {
      "text/plain": [
       "<keras.callbacks.History at 0x2e4a0f6fc70>"
      ]
     },
     "execution_count": 101,
     "metadata": {},
     "output_type": "execute_result"
    }
   ],
   "source": [
    "model.fit(train_dataset2, \n",
    "          steps_per_epoch=steps_per_epoch,\n",
    "          validation_data=val_dataset2,\n",
    "          validation_steps=validation_steps, \n",
    "          epochs=10)"
   ]
  }
 ],
 "metadata": {
  "kernelspec": {
   "display_name": "Python 3 (ipykernel)",
   "language": "python",
   "name": "python3"
  },
  "language_info": {
   "codemirror_mode": {
    "name": "ipython",
    "version": 3
   },
   "file_extension": ".py",
   "mimetype": "text/x-python",
   "name": "python",
   "nbconvert_exporter": "python",
   "pygments_lexer": "ipython3",
   "version": "3.9.12"
  },
  "toc": {
   "base_numbering": 1,
   "nav_menu": {},
   "number_sections": false,
   "sideBar": true,
   "skip_h1_title": false,
   "title_cell": "Table of Contents",
   "title_sidebar": "Contents",
   "toc_cell": false,
   "toc_position": {},
   "toc_section_display": true,
   "toc_window_display": false
  },
  "varInspector": {
   "cols": {
    "lenName": 16,
    "lenType": 16,
    "lenVar": 40
   },
   "kernels_config": {
    "python": {
     "delete_cmd_postfix": "",
     "delete_cmd_prefix": "del ",
     "library": "var_list.py",
     "varRefreshCmd": "print(var_dic_list())"
    },
    "r": {
     "delete_cmd_postfix": ") ",
     "delete_cmd_prefix": "rm(",
     "library": "var_list.r",
     "varRefreshCmd": "cat(var_dic_list()) "
    }
   },
   "types_to_exclude": [
    "module",
    "function",
    "builtin_function_or_method",
    "instance",
    "_Feature"
   ],
   "window_display": false
  }
 },
 "nbformat": 4,
 "nbformat_minor": 2
}
